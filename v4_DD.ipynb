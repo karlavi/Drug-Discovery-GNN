{
  "nbformat": 4,
  "nbformat_minor": 0,
  "metadata": {
    "colab": {
      "provenance": [],
      "gpuType": "T4"
    },
    "kernelspec": {
      "name": "python3",
      "display_name": "Python 3"
    },
    "language_info": {
      "name": "python"
    },
    "accelerator": "GPU"
  },
  "cells": [
    {
      "cell_type": "code",
      "execution_count": null,
      "metadata": {
        "colab": {
          "base_uri": "https://localhost:8080/",
          "height": 508
        },
        "id": "KVfTyfXSC1nV",
        "outputId": "7a99b653-01da-4123-8372-f0d7c7a655d2"
      },
      "outputs": [
        {
          "output_type": "display_data",
          "data": {
            "text/plain": [
              "<IPython.core.display.HTML object>"
            ],
            "text/html": [
              "\n",
              "     <input type=\"file\" id=\"files-9ba24647-2788-4955-a7b5-b4cc8d35e4fb\" name=\"files[]\" multiple disabled\n",
              "        style=\"border:none\" />\n",
              "     <output id=\"result-9ba24647-2788-4955-a7b5-b4cc8d35e4fb\">\n",
              "      Upload widget is only available when the cell has been executed in the\n",
              "      current browser session. Please rerun this cell to enable.\n",
              "      </output>\n",
              "      <script>// Copyright 2017 Google LLC\n",
              "//\n",
              "// Licensed under the Apache License, Version 2.0 (the \"License\");\n",
              "// you may not use this file except in compliance with the License.\n",
              "// You may obtain a copy of the License at\n",
              "//\n",
              "//      http://www.apache.org/licenses/LICENSE-2.0\n",
              "//\n",
              "// Unless required by applicable law or agreed to in writing, software\n",
              "// distributed under the License is distributed on an \"AS IS\" BASIS,\n",
              "// WITHOUT WARRANTIES OR CONDITIONS OF ANY KIND, either express or implied.\n",
              "// See the License for the specific language governing permissions and\n",
              "// limitations under the License.\n",
              "\n",
              "/**\n",
              " * @fileoverview Helpers for google.colab Python module.\n",
              " */\n",
              "(function(scope) {\n",
              "function span(text, styleAttributes = {}) {\n",
              "  const element = document.createElement('span');\n",
              "  element.textContent = text;\n",
              "  for (const key of Object.keys(styleAttributes)) {\n",
              "    element.style[key] = styleAttributes[key];\n",
              "  }\n",
              "  return element;\n",
              "}\n",
              "\n",
              "// Max number of bytes which will be uploaded at a time.\n",
              "const MAX_PAYLOAD_SIZE = 100 * 1024;\n",
              "\n",
              "function _uploadFiles(inputId, outputId) {\n",
              "  const steps = uploadFilesStep(inputId, outputId);\n",
              "  const outputElement = document.getElementById(outputId);\n",
              "  // Cache steps on the outputElement to make it available for the next call\n",
              "  // to uploadFilesContinue from Python.\n",
              "  outputElement.steps = steps;\n",
              "\n",
              "  return _uploadFilesContinue(outputId);\n",
              "}\n",
              "\n",
              "// This is roughly an async generator (not supported in the browser yet),\n",
              "// where there are multiple asynchronous steps and the Python side is going\n",
              "// to poll for completion of each step.\n",
              "// This uses a Promise to block the python side on completion of each step,\n",
              "// then passes the result of the previous step as the input to the next step.\n",
              "function _uploadFilesContinue(outputId) {\n",
              "  const outputElement = document.getElementById(outputId);\n",
              "  const steps = outputElement.steps;\n",
              "\n",
              "  const next = steps.next(outputElement.lastPromiseValue);\n",
              "  return Promise.resolve(next.value.promise).then((value) => {\n",
              "    // Cache the last promise value to make it available to the next\n",
              "    // step of the generator.\n",
              "    outputElement.lastPromiseValue = value;\n",
              "    return next.value.response;\n",
              "  });\n",
              "}\n",
              "\n",
              "/**\n",
              " * Generator function which is called between each async step of the upload\n",
              " * process.\n",
              " * @param {string} inputId Element ID of the input file picker element.\n",
              " * @param {string} outputId Element ID of the output display.\n",
              " * @return {!Iterable<!Object>} Iterable of next steps.\n",
              " */\n",
              "function* uploadFilesStep(inputId, outputId) {\n",
              "  const inputElement = document.getElementById(inputId);\n",
              "  inputElement.disabled = false;\n",
              "\n",
              "  const outputElement = document.getElementById(outputId);\n",
              "  outputElement.innerHTML = '';\n",
              "\n",
              "  const pickedPromise = new Promise((resolve) => {\n",
              "    inputElement.addEventListener('change', (e) => {\n",
              "      resolve(e.target.files);\n",
              "    });\n",
              "  });\n",
              "\n",
              "  const cancel = document.createElement('button');\n",
              "  inputElement.parentElement.appendChild(cancel);\n",
              "  cancel.textContent = 'Cancel upload';\n",
              "  const cancelPromise = new Promise((resolve) => {\n",
              "    cancel.onclick = () => {\n",
              "      resolve(null);\n",
              "    };\n",
              "  });\n",
              "\n",
              "  // Wait for the user to pick the files.\n",
              "  const files = yield {\n",
              "    promise: Promise.race([pickedPromise, cancelPromise]),\n",
              "    response: {\n",
              "      action: 'starting',\n",
              "    }\n",
              "  };\n",
              "\n",
              "  cancel.remove();\n",
              "\n",
              "  // Disable the input element since further picks are not allowed.\n",
              "  inputElement.disabled = true;\n",
              "\n",
              "  if (!files) {\n",
              "    return {\n",
              "      response: {\n",
              "        action: 'complete',\n",
              "      }\n",
              "    };\n",
              "  }\n",
              "\n",
              "  for (const file of files) {\n",
              "    const li = document.createElement('li');\n",
              "    li.append(span(file.name, {fontWeight: 'bold'}));\n",
              "    li.append(span(\n",
              "        `(${file.type || 'n/a'}) - ${file.size} bytes, ` +\n",
              "        `last modified: ${\n",
              "            file.lastModifiedDate ? file.lastModifiedDate.toLocaleDateString() :\n",
              "                                    'n/a'} - `));\n",
              "    const percent = span('0% done');\n",
              "    li.appendChild(percent);\n",
              "\n",
              "    outputElement.appendChild(li);\n",
              "\n",
              "    const fileDataPromise = new Promise((resolve) => {\n",
              "      const reader = new FileReader();\n",
              "      reader.onload = (e) => {\n",
              "        resolve(e.target.result);\n",
              "      };\n",
              "      reader.readAsArrayBuffer(file);\n",
              "    });\n",
              "    // Wait for the data to be ready.\n",
              "    let fileData = yield {\n",
              "      promise: fileDataPromise,\n",
              "      response: {\n",
              "        action: 'continue',\n",
              "      }\n",
              "    };\n",
              "\n",
              "    // Use a chunked sending to avoid message size limits. See b/62115660.\n",
              "    let position = 0;\n",
              "    do {\n",
              "      const length = Math.min(fileData.byteLength - position, MAX_PAYLOAD_SIZE);\n",
              "      const chunk = new Uint8Array(fileData, position, length);\n",
              "      position += length;\n",
              "\n",
              "      const base64 = btoa(String.fromCharCode.apply(null, chunk));\n",
              "      yield {\n",
              "        response: {\n",
              "          action: 'append',\n",
              "          file: file.name,\n",
              "          data: base64,\n",
              "        },\n",
              "      };\n",
              "\n",
              "      let percentDone = fileData.byteLength === 0 ?\n",
              "          100 :\n",
              "          Math.round((position / fileData.byteLength) * 100);\n",
              "      percent.textContent = `${percentDone}% done`;\n",
              "\n",
              "    } while (position < fileData.byteLength);\n",
              "  }\n",
              "\n",
              "  // All done.\n",
              "  yield {\n",
              "    response: {\n",
              "      action: 'complete',\n",
              "    }\n",
              "  };\n",
              "}\n",
              "\n",
              "scope.google = scope.google || {};\n",
              "scope.google.colab = scope.google.colab || {};\n",
              "scope.google.colab._files = {\n",
              "  _uploadFiles,\n",
              "  _uploadFilesContinue,\n",
              "};\n",
              "})(self);\n",
              "</script> "
            ]
          },
          "metadata": {}
        },
        {
          "output_type": "stream",
          "name": "stdout",
          "text": [
            "Saving EdgeConnetivity_features.csv to EdgeConnetivity_features.csv\n"
          ]
        },
        {
          "output_type": "execute_result",
          "data": {
            "text/plain": [
              "                                              Smiles  pChEMBL Value  \\\n",
              "0  COc1ccc2nccc([C@@H](O)CC[C@@H]3CCN(C4CC(c5cccc...           5.81   \n",
              "1  COc1ccc2nccc([C@@H](O)CC[C@@H]3CCN(C4CC(c5cccc...           5.81   \n",
              "2      O=C(O)CCCC(=O)Nc1ccc(-c2nc3cc(F)ccc3[nH]2)cc1           5.95   \n",
              "3  CC(C)(C)c1ccc(CN2CCC(C(O)(c3ccccc3)c3ccccc3)CC...           4.05   \n",
              "4  CC(C)(C)c1ccc(C(=O)CCCN2CCC(C(O)(c3ccccc3)c3cc...           4.03   \n",
              "\n",
              "                                       Node_Features  \\\n",
              "0  [[6, 0, 3, rdkit.Chem.rdchem.HybridizationType...   \n",
              "1  [[6, 0, 3, rdkit.Chem.rdchem.HybridizationType...   \n",
              "2  [[8, 0, 0, rdkit.Chem.rdchem.HybridizationType...   \n",
              "3  [[6, 0, 3, rdkit.Chem.rdchem.HybridizationType...   \n",
              "4  [[6, 0, 3, rdkit.Chem.rdchem.HybridizationType...   \n",
              "\n",
              "                                       Edge_Features  \\\n",
              "0  [[1.0, False, False], [1.0, True, False], [1.5...   \n",
              "1  [[1.0, False, False], [1.0, True, False], [1.5...   \n",
              "2  [[2.0, True, False], [1.0, True, False], [1.0,...   \n",
              "3  [[1.0, False, False], [1.0, False, False], [1....   \n",
              "4  [[1.0, False, False], [1.0, False, False], [1....   \n",
              "\n",
              "                               Encoded_Node_Features  \\\n",
              "0  [[6, 0, 3, 0.0, 0.0, 1.0, 0], [8, 0, 0, 0.0, 1...   \n",
              "1  [[6, 0, 3, 0.0, 0.0, 1.0, 0], [8, 0, 0, 0.0, 1...   \n",
              "2  [[8, 0, 0, 0.0, 1.0, 0.0, 0], [6, 0, 0, 0.0, 1...   \n",
              "3  [[6, 0, 3, 0.0, 0.0, 1.0, 0], [6, 0, 0, 0.0, 0...   \n",
              "4  [[6, 0, 3, 0.0, 0.0, 1.0, 0], [6, 0, 0, 0.0, 0...   \n",
              "\n",
              "                               Encoded_Edge_Features  Num_Node_Features  \\\n",
              "0  [[1.0, 0.0, 0.0, 0.0, 0, 0], [1.0, 0.0, 0.0, 0...                  7   \n",
              "1  [[1.0, 0.0, 0.0, 0.0, 0, 0], [1.0, 0.0, 0.0, 0...                  7   \n",
              "2  [[0.0, 1.0, 0.0, 0.0, 1, 0], [1.0, 0.0, 0.0, 0...                  7   \n",
              "3  [[1.0, 0.0, 0.0, 0.0, 0, 0], [1.0, 0.0, 0.0, 0...                  7   \n",
              "4  [[1.0, 0.0, 0.0, 0.0, 0, 0], [1.0, 0.0, 0.0, 0...                  7   \n",
              "\n",
              "   Num_Edge_Features                                  Edge_Connectivity  \n",
              "0                  6  [(0, 1), (1, 2), (2, 3), (3, 4), (4, 5), (5, 6...  \n",
              "1                  6  [(0, 1), (1, 2), (2, 3), (3, 4), (4, 5), (5, 6...  \n",
              "2                  6  [(0, 1), (1, 2), (1, 3), (3, 4), (4, 5), (5, 6...  \n",
              "3                  6  [(0, 1), (1, 2), (1, 3), (1, 4), (4, 5), (5, 6...  \n",
              "4                  6  [(0, 1), (1, 2), (1, 3), (1, 4), (4, 5), (5, 6...  "
            ],
            "text/html": [
              "\n",
              "  <div id=\"df-6250a1e0-fd18-4728-89ff-bf2925d1b1b4\" class=\"colab-df-container\">\n",
              "    <div>\n",
              "<style scoped>\n",
              "    .dataframe tbody tr th:only-of-type {\n",
              "        vertical-align: middle;\n",
              "    }\n",
              "\n",
              "    .dataframe tbody tr th {\n",
              "        vertical-align: top;\n",
              "    }\n",
              "\n",
              "    .dataframe thead th {\n",
              "        text-align: right;\n",
              "    }\n",
              "</style>\n",
              "<table border=\"1\" class=\"dataframe\">\n",
              "  <thead>\n",
              "    <tr style=\"text-align: right;\">\n",
              "      <th></th>\n",
              "      <th>Smiles</th>\n",
              "      <th>pChEMBL Value</th>\n",
              "      <th>Node_Features</th>\n",
              "      <th>Edge_Features</th>\n",
              "      <th>Encoded_Node_Features</th>\n",
              "      <th>Encoded_Edge_Features</th>\n",
              "      <th>Num_Node_Features</th>\n",
              "      <th>Num_Edge_Features</th>\n",
              "      <th>Edge_Connectivity</th>\n",
              "    </tr>\n",
              "  </thead>\n",
              "  <tbody>\n",
              "    <tr>\n",
              "      <th>0</th>\n",
              "      <td>COc1ccc2nccc([C@@H](O)CC[C@@H]3CCN(C4CC(c5cccc...</td>\n",
              "      <td>5.81</td>\n",
              "      <td>[[6, 0, 3, rdkit.Chem.rdchem.HybridizationType...</td>\n",
              "      <td>[[1.0, False, False], [1.0, True, False], [1.5...</td>\n",
              "      <td>[[6, 0, 3, 0.0, 0.0, 1.0, 0], [8, 0, 0, 0.0, 1...</td>\n",
              "      <td>[[1.0, 0.0, 0.0, 0.0, 0, 0], [1.0, 0.0, 0.0, 0...</td>\n",
              "      <td>7</td>\n",
              "      <td>6</td>\n",
              "      <td>[(0, 1), (1, 2), (2, 3), (3, 4), (4, 5), (5, 6...</td>\n",
              "    </tr>\n",
              "    <tr>\n",
              "      <th>1</th>\n",
              "      <td>COc1ccc2nccc([C@@H](O)CC[C@@H]3CCN(C4CC(c5cccc...</td>\n",
              "      <td>5.81</td>\n",
              "      <td>[[6, 0, 3, rdkit.Chem.rdchem.HybridizationType...</td>\n",
              "      <td>[[1.0, False, False], [1.0, True, False], [1.5...</td>\n",
              "      <td>[[6, 0, 3, 0.0, 0.0, 1.0, 0], [8, 0, 0, 0.0, 1...</td>\n",
              "      <td>[[1.0, 0.0, 0.0, 0.0, 0, 0], [1.0, 0.0, 0.0, 0...</td>\n",
              "      <td>7</td>\n",
              "      <td>6</td>\n",
              "      <td>[(0, 1), (1, 2), (2, 3), (3, 4), (4, 5), (5, 6...</td>\n",
              "    </tr>\n",
              "    <tr>\n",
              "      <th>2</th>\n",
              "      <td>O=C(O)CCCC(=O)Nc1ccc(-c2nc3cc(F)ccc3[nH]2)cc1</td>\n",
              "      <td>5.95</td>\n",
              "      <td>[[8, 0, 0, rdkit.Chem.rdchem.HybridizationType...</td>\n",
              "      <td>[[2.0, True, False], [1.0, True, False], [1.0,...</td>\n",
              "      <td>[[8, 0, 0, 0.0, 1.0, 0.0, 0], [6, 0, 0, 0.0, 1...</td>\n",
              "      <td>[[0.0, 1.0, 0.0, 0.0, 1, 0], [1.0, 0.0, 0.0, 0...</td>\n",
              "      <td>7</td>\n",
              "      <td>6</td>\n",
              "      <td>[(0, 1), (1, 2), (1, 3), (3, 4), (4, 5), (5, 6...</td>\n",
              "    </tr>\n",
              "    <tr>\n",
              "      <th>3</th>\n",
              "      <td>CC(C)(C)c1ccc(CN2CCC(C(O)(c3ccccc3)c3ccccc3)CC...</td>\n",
              "      <td>4.05</td>\n",
              "      <td>[[6, 0, 3, rdkit.Chem.rdchem.HybridizationType...</td>\n",
              "      <td>[[1.0, False, False], [1.0, False, False], [1....</td>\n",
              "      <td>[[6, 0, 3, 0.0, 0.0, 1.0, 0], [6, 0, 0, 0.0, 0...</td>\n",
              "      <td>[[1.0, 0.0, 0.0, 0.0, 0, 0], [1.0, 0.0, 0.0, 0...</td>\n",
              "      <td>7</td>\n",
              "      <td>6</td>\n",
              "      <td>[(0, 1), (1, 2), (1, 3), (1, 4), (4, 5), (5, 6...</td>\n",
              "    </tr>\n",
              "    <tr>\n",
              "      <th>4</th>\n",
              "      <td>CC(C)(C)c1ccc(C(=O)CCCN2CCC(C(O)(c3ccccc3)c3cc...</td>\n",
              "      <td>4.03</td>\n",
              "      <td>[[6, 0, 3, rdkit.Chem.rdchem.HybridizationType...</td>\n",
              "      <td>[[1.0, False, False], [1.0, False, False], [1....</td>\n",
              "      <td>[[6, 0, 3, 0.0, 0.0, 1.0, 0], [6, 0, 0, 0.0, 0...</td>\n",
              "      <td>[[1.0, 0.0, 0.0, 0.0, 0, 0], [1.0, 0.0, 0.0, 0...</td>\n",
              "      <td>7</td>\n",
              "      <td>6</td>\n",
              "      <td>[(0, 1), (1, 2), (1, 3), (1, 4), (4, 5), (5, 6...</td>\n",
              "    </tr>\n",
              "  </tbody>\n",
              "</table>\n",
              "</div>\n",
              "    <div class=\"colab-df-buttons\">\n",
              "\n",
              "  <div class=\"colab-df-container\">\n",
              "    <button class=\"colab-df-convert\" onclick=\"convertToInteractive('df-6250a1e0-fd18-4728-89ff-bf2925d1b1b4')\"\n",
              "            title=\"Convert this dataframe to an interactive table.\"\n",
              "            style=\"display:none;\">\n",
              "\n",
              "  <svg xmlns=\"http://www.w3.org/2000/svg\" height=\"24px\" viewBox=\"0 -960 960 960\">\n",
              "    <path d=\"M120-120v-720h720v720H120Zm60-500h600v-160H180v160Zm220 220h160v-160H400v160Zm0 220h160v-160H400v160ZM180-400h160v-160H180v160Zm440 0h160v-160H620v160ZM180-180h160v-160H180v160Zm440 0h160v-160H620v160Z\"/>\n",
              "  </svg>\n",
              "    </button>\n",
              "\n",
              "  <style>\n",
              "    .colab-df-container {\n",
              "      display:flex;\n",
              "      gap: 12px;\n",
              "    }\n",
              "\n",
              "    .colab-df-convert {\n",
              "      background-color: #E8F0FE;\n",
              "      border: none;\n",
              "      border-radius: 50%;\n",
              "      cursor: pointer;\n",
              "      display: none;\n",
              "      fill: #1967D2;\n",
              "      height: 32px;\n",
              "      padding: 0 0 0 0;\n",
              "      width: 32px;\n",
              "    }\n",
              "\n",
              "    .colab-df-convert:hover {\n",
              "      background-color: #E2EBFA;\n",
              "      box-shadow: 0px 1px 2px rgba(60, 64, 67, 0.3), 0px 1px 3px 1px rgba(60, 64, 67, 0.15);\n",
              "      fill: #174EA6;\n",
              "    }\n",
              "\n",
              "    .colab-df-buttons div {\n",
              "      margin-bottom: 4px;\n",
              "    }\n",
              "\n",
              "    [theme=dark] .colab-df-convert {\n",
              "      background-color: #3B4455;\n",
              "      fill: #D2E3FC;\n",
              "    }\n",
              "\n",
              "    [theme=dark] .colab-df-convert:hover {\n",
              "      background-color: #434B5C;\n",
              "      box-shadow: 0px 1px 3px 1px rgba(0, 0, 0, 0.15);\n",
              "      filter: drop-shadow(0px 1px 2px rgba(0, 0, 0, 0.3));\n",
              "      fill: #FFFFFF;\n",
              "    }\n",
              "  </style>\n",
              "\n",
              "    <script>\n",
              "      const buttonEl =\n",
              "        document.querySelector('#df-6250a1e0-fd18-4728-89ff-bf2925d1b1b4 button.colab-df-convert');\n",
              "      buttonEl.style.display =\n",
              "        google.colab.kernel.accessAllowed ? 'block' : 'none';\n",
              "\n",
              "      async function convertToInteractive(key) {\n",
              "        const element = document.querySelector('#df-6250a1e0-fd18-4728-89ff-bf2925d1b1b4');\n",
              "        const dataTable =\n",
              "          await google.colab.kernel.invokeFunction('convertToInteractive',\n",
              "                                                    [key], {});\n",
              "        if (!dataTable) return;\n",
              "\n",
              "        const docLinkHtml = 'Like what you see? Visit the ' +\n",
              "          '<a target=\"_blank\" href=https://colab.research.google.com/notebooks/data_table.ipynb>data table notebook</a>'\n",
              "          + ' to learn more about interactive tables.';\n",
              "        element.innerHTML = '';\n",
              "        dataTable['output_type'] = 'display_data';\n",
              "        await google.colab.output.renderOutput(dataTable, element);\n",
              "        const docLink = document.createElement('div');\n",
              "        docLink.innerHTML = docLinkHtml;\n",
              "        element.appendChild(docLink);\n",
              "      }\n",
              "    </script>\n",
              "  </div>\n",
              "\n",
              "\n",
              "<div id=\"df-2bf4223a-0b09-460f-ab66-ff6f7a8ca298\">\n",
              "  <button class=\"colab-df-quickchart\" onclick=\"quickchart('df-2bf4223a-0b09-460f-ab66-ff6f7a8ca298')\"\n",
              "            title=\"Suggest charts\"\n",
              "            style=\"display:none;\">\n",
              "\n",
              "<svg xmlns=\"http://www.w3.org/2000/svg\" height=\"24px\"viewBox=\"0 0 24 24\"\n",
              "     width=\"24px\">\n",
              "    <g>\n",
              "        <path d=\"M19 3H5c-1.1 0-2 .9-2 2v14c0 1.1.9 2 2 2h14c1.1 0 2-.9 2-2V5c0-1.1-.9-2-2-2zM9 17H7v-7h2v7zm4 0h-2V7h2v10zm4 0h-2v-4h2v4z\"/>\n",
              "    </g>\n",
              "</svg>\n",
              "  </button>\n",
              "\n",
              "<style>\n",
              "  .colab-df-quickchart {\n",
              "      --bg-color: #E8F0FE;\n",
              "      --fill-color: #1967D2;\n",
              "      --hover-bg-color: #E2EBFA;\n",
              "      --hover-fill-color: #174EA6;\n",
              "      --disabled-fill-color: #AAA;\n",
              "      --disabled-bg-color: #DDD;\n",
              "  }\n",
              "\n",
              "  [theme=dark] .colab-df-quickchart {\n",
              "      --bg-color: #3B4455;\n",
              "      --fill-color: #D2E3FC;\n",
              "      --hover-bg-color: #434B5C;\n",
              "      --hover-fill-color: #FFFFFF;\n",
              "      --disabled-bg-color: #3B4455;\n",
              "      --disabled-fill-color: #666;\n",
              "  }\n",
              "\n",
              "  .colab-df-quickchart {\n",
              "    background-color: var(--bg-color);\n",
              "    border: none;\n",
              "    border-radius: 50%;\n",
              "    cursor: pointer;\n",
              "    display: none;\n",
              "    fill: var(--fill-color);\n",
              "    height: 32px;\n",
              "    padding: 0;\n",
              "    width: 32px;\n",
              "  }\n",
              "\n",
              "  .colab-df-quickchart:hover {\n",
              "    background-color: var(--hover-bg-color);\n",
              "    box-shadow: 0 1px 2px rgba(60, 64, 67, 0.3), 0 1px 3px 1px rgba(60, 64, 67, 0.15);\n",
              "    fill: var(--button-hover-fill-color);\n",
              "  }\n",
              "\n",
              "  .colab-df-quickchart-complete:disabled,\n",
              "  .colab-df-quickchart-complete:disabled:hover {\n",
              "    background-color: var(--disabled-bg-color);\n",
              "    fill: var(--disabled-fill-color);\n",
              "    box-shadow: none;\n",
              "  }\n",
              "\n",
              "  .colab-df-spinner {\n",
              "    border: 2px solid var(--fill-color);\n",
              "    border-color: transparent;\n",
              "    border-bottom-color: var(--fill-color);\n",
              "    animation:\n",
              "      spin 1s steps(1) infinite;\n",
              "  }\n",
              "\n",
              "  @keyframes spin {\n",
              "    0% {\n",
              "      border-color: transparent;\n",
              "      border-bottom-color: var(--fill-color);\n",
              "      border-left-color: var(--fill-color);\n",
              "    }\n",
              "    20% {\n",
              "      border-color: transparent;\n",
              "      border-left-color: var(--fill-color);\n",
              "      border-top-color: var(--fill-color);\n",
              "    }\n",
              "    30% {\n",
              "      border-color: transparent;\n",
              "      border-left-color: var(--fill-color);\n",
              "      border-top-color: var(--fill-color);\n",
              "      border-right-color: var(--fill-color);\n",
              "    }\n",
              "    40% {\n",
              "      border-color: transparent;\n",
              "      border-right-color: var(--fill-color);\n",
              "      border-top-color: var(--fill-color);\n",
              "    }\n",
              "    60% {\n",
              "      border-color: transparent;\n",
              "      border-right-color: var(--fill-color);\n",
              "    }\n",
              "    80% {\n",
              "      border-color: transparent;\n",
              "      border-right-color: var(--fill-color);\n",
              "      border-bottom-color: var(--fill-color);\n",
              "    }\n",
              "    90% {\n",
              "      border-color: transparent;\n",
              "      border-bottom-color: var(--fill-color);\n",
              "    }\n",
              "  }\n",
              "</style>\n",
              "\n",
              "  <script>\n",
              "    async function quickchart(key) {\n",
              "      const quickchartButtonEl =\n",
              "        document.querySelector('#' + key + ' button');\n",
              "      quickchartButtonEl.disabled = true;  // To prevent multiple clicks.\n",
              "      quickchartButtonEl.classList.add('colab-df-spinner');\n",
              "      try {\n",
              "        const charts = await google.colab.kernel.invokeFunction(\n",
              "            'suggestCharts', [key], {});\n",
              "      } catch (error) {\n",
              "        console.error('Error during call to suggestCharts:', error);\n",
              "      }\n",
              "      quickchartButtonEl.classList.remove('colab-df-spinner');\n",
              "      quickchartButtonEl.classList.add('colab-df-quickchart-complete');\n",
              "    }\n",
              "    (() => {\n",
              "      let quickchartButtonEl =\n",
              "        document.querySelector('#df-2bf4223a-0b09-460f-ab66-ff6f7a8ca298 button');\n",
              "      quickchartButtonEl.style.display =\n",
              "        google.colab.kernel.accessAllowed ? 'block' : 'none';\n",
              "    })();\n",
              "  </script>\n",
              "</div>\n",
              "\n",
              "    </div>\n",
              "  </div>\n"
            ],
            "application/vnd.google.colaboratory.intrinsic+json": {
              "type": "dataframe",
              "variable_name": "df",
              "summary": "{\n  \"name\": \"df\",\n  \"rows\": 435,\n  \"fields\": [\n    {\n      \"column\": \"Smiles\",\n      \"properties\": {\n        \"dtype\": \"string\",\n        \"num_unique_values\": 384,\n        \"samples\": [\n          \"Cc1[nH]c(C(=O)Nc2nc3ccc(C(=O)O)cc3s2)c(Cl)c1Br\",\n          \"CCNC(=O)Nc1cc2c(-c3ccnc(C)c3)ccc(CNC(=O)CCOC)c2cn1\",\n          \"O=c1ccc2ccc(F)c3c2n1CC3C[C@H]1OC[C@H](NCc2cc3c(nn2)OCCS3)CO1\"\n        ],\n        \"semantic_type\": \"\",\n        \"description\": \"\"\n      }\n    },\n    {\n      \"column\": \"pChEMBL Value\",\n      \"properties\": {\n        \"dtype\": \"number\",\n        \"std\": 1.2461250134431374,\n        \"min\": 4.0,\n        \"max\": 9.19,\n        \"num_unique_values\": 190,\n        \"samples\": [\n          6.72,\n          7.72,\n          5.96\n        ],\n        \"semantic_type\": \"\",\n        \"description\": \"\"\n      }\n    },\n    {\n      \"column\": \"Node_Features\",\n      \"properties\": {\n        \"dtype\": \"string\",\n        \"num_unique_values\": 377,\n        \"samples\": [\n          \"[[6, 0, 3, rdkit.Chem.rdchem.HybridizationType.SP3, False], [8, 0, 0, rdkit.Chem.rdchem.HybridizationType.SP2, False], [6, 0, 0, rdkit.Chem.rdchem.HybridizationType.SP2, True], [6, 0, 1, rdkit.Chem.rdchem.HybridizationType.SP2, True], [6, 0, 1, rdkit.Chem.rdchem.HybridizationType.SP2, True], [6, 0, 0, rdkit.Chem.rdchem.HybridizationType.SP2, True], [7, 0, 0, rdkit.Chem.rdchem.HybridizationType.SP2, True], [6, 0, 1, rdkit.Chem.rdchem.HybridizationType.SP2, True], [6, 0, 1, rdkit.Chem.rdchem.HybridizationType.SP2, True], [6, 0, 0, rdkit.Chem.rdchem.HybridizationType.SP2, True], [8, 0, 0, rdkit.Chem.rdchem.HybridizationType.SP2, False], [6, 0, 2, rdkit.Chem.rdchem.HybridizationType.SP3, False], [6, 0, 1, rdkit.Chem.rdchem.HybridizationType.SP3, False], [6, 0, 2, rdkit.Chem.rdchem.HybridizationType.SP3, False], [6, 0, 2, rdkit.Chem.rdchem.HybridizationType.SP3, False], [6, 0, 1, rdkit.Chem.rdchem.HybridizationType.SP3, False], [7, 0, 1, rdkit.Chem.rdchem.HybridizationType.SP3, False], [6, 0, 2, rdkit.Chem.rdchem.HybridizationType.SP3, False], [6, 0, 0, rdkit.Chem.rdchem.HybridizationType.SP2, True], [6, 0, 1, rdkit.Chem.rdchem.HybridizationType.SP2, True], [6, 0, 0, rdkit.Chem.rdchem.HybridizationType.SP2, True], [6, 0, 0, rdkit.Chem.rdchem.HybridizationType.SP2, True], [6, 0, 1, rdkit.Chem.rdchem.HybridizationType.SP2, True], [7, 0, 0, rdkit.Chem.rdchem.HybridizationType.SP2, True], [8, 0, 0, rdkit.Chem.rdchem.HybridizationType.SP2, False], [6, 0, 2, rdkit.Chem.rdchem.HybridizationType.SP3, False], [6, 0, 2, rdkit.Chem.rdchem.HybridizationType.SP3, False], [8, 0, 0, rdkit.Chem.rdchem.HybridizationType.SP2, False], [6, 0, 2, rdkit.Chem.rdchem.HybridizationType.SP3, False], [8, 0, 0, rdkit.Chem.rdchem.HybridizationType.SP3, False], [6, 0, 0, rdkit.Chem.rdchem.HybridizationType.SP2, True], [7, 0, 0, rdkit.Chem.rdchem.HybridizationType.SP2, True]]\",\n          \"[[6, 0, 3, rdkit.Chem.rdchem.HybridizationType.SP3, False], [8, 0, 0, rdkit.Chem.rdchem.HybridizationType.SP2, False], [6, 0, 0, rdkit.Chem.rdchem.HybridizationType.SP2, True], [6, 0, 1, rdkit.Chem.rdchem.HybridizationType.SP2, True], [6, 0, 1, rdkit.Chem.rdchem.HybridizationType.SP2, True], [6, 0, 0, rdkit.Chem.rdchem.HybridizationType.SP2, True], [7, 0, 0, rdkit.Chem.rdchem.HybridizationType.SP2, True], [6, 0, 1, rdkit.Chem.rdchem.HybridizationType.SP2, True], [6, 0, 0, rdkit.Chem.rdchem.HybridizationType.SP2, True], [9, 0, 0, rdkit.Chem.rdchem.HybridizationType.SP3, False], [6, 0, 0, rdkit.Chem.rdchem.HybridizationType.SP2, True], [6, 0, 2, rdkit.Chem.rdchem.HybridizationType.SP3, False], [6, 0, 1, rdkit.Chem.rdchem.HybridizationType.SP3, False], [8, 0, 1, rdkit.Chem.rdchem.HybridizationType.SP3, False], [6, 0, 1, rdkit.Chem.rdchem.HybridizationType.SP3, False], [8, 0, 0, rdkit.Chem.rdchem.HybridizationType.SP3, False], [6, 0, 2, rdkit.Chem.rdchem.HybridizationType.SP3, False], [6, 0, 1, rdkit.Chem.rdchem.HybridizationType.SP3, False], [7, 0, 1, rdkit.Chem.rdchem.HybridizationType.SP3, False], [6, 0, 2, rdkit.Chem.rdchem.HybridizationType.SP3, False], [6, 0, 0, rdkit.Chem.rdchem.HybridizationType.SP2, True], [6, 0, 1, rdkit.Chem.rdchem.HybridizationType.SP2, True], [6, 0, 0, rdkit.Chem.rdchem.HybridizationType.SP2, True], [6, 0, 0, rdkit.Chem.rdchem.HybridizationType.SP2, True], [6, 0, 1, rdkit.Chem.rdchem.HybridizationType.SP2, True], [7, 0, 0, rdkit.Chem.rdchem.HybridizationType.SP2, True], [8, 0, 0, rdkit.Chem.rdchem.HybridizationType.SP2, False], [6, 0, 2, rdkit.Chem.rdchem.HybridizationType.SP3, False], [8, 0, 0, rdkit.Chem.rdchem.HybridizationType.SP2, False], [6, 0, 2, rdkit.Chem.rdchem.HybridizationType.SP3, False], [8, 0, 0, rdkit.Chem.rdchem.HybridizationType.SP3, False], [6, 0, 0, rdkit.Chem.rdchem.HybridizationType.SP2, True], [7, 0, 0, rdkit.Chem.rdchem.HybridizationType.SP2, True]]\",\n          \"[[6, 0, 3, rdkit.Chem.rdchem.HybridizationType.SP3, False], [8, 0, 0, rdkit.Chem.rdchem.HybridizationType.SP2, False], [6, 0, 0, rdkit.Chem.rdchem.HybridizationType.SP2, True], [6, 0, 1, rdkit.Chem.rdchem.HybridizationType.SP2, True], [6, 0, 1, rdkit.Chem.rdchem.HybridizationType.SP2, True], [6, 0, 0, rdkit.Chem.rdchem.HybridizationType.SP2, True], [7, 0, 0, rdkit.Chem.rdchem.HybridizationType.SP2, True], [6, 0, 1, rdkit.Chem.rdchem.HybridizationType.SP2, True], [6, 0, 0, rdkit.Chem.rdchem.HybridizationType.SP2, True], [9, 0, 0, rdkit.Chem.rdchem.HybridizationType.SP3, False], [6, 0, 0, rdkit.Chem.rdchem.HybridizationType.SP2, True], [6, 0, 2, rdkit.Chem.rdchem.HybridizationType.SP3, False], [6, 0, 1, rdkit.Chem.rdchem.HybridizationType.SP3, False], [8, 0, 1, rdkit.Chem.rdchem.HybridizationType.SP3, False], [6, 0, 1, rdkit.Chem.rdchem.HybridizationType.SP3, False], [8, 0, 0, rdkit.Chem.rdchem.HybridizationType.SP3, False], [6, 0, 2, rdkit.Chem.rdchem.HybridizationType.SP3, False], [6, 0, 1, rdkit.Chem.rdchem.HybridizationType.SP3, False], [7, 0, 1, rdkit.Chem.rdchem.HybridizationType.SP3, False], [6, 0, 2, rdkit.Chem.rdchem.HybridizationType.SP3, False], [6, 0, 0, rdkit.Chem.rdchem.HybridizationType.SP2, True], [6, 0, 1, rdkit.Chem.rdchem.HybridizationType.SP2, True], [6, 0, 0, rdkit.Chem.rdchem.HybridizationType.SP2, True], [6, 0, 0, rdkit.Chem.rdchem.HybridizationType.SP2, True], [7, 0, 0, rdkit.Chem.rdchem.HybridizationType.SP2, True], [7, 0, 0, rdkit.Chem.rdchem.HybridizationType.SP2, True], [8, 0, 0, rdkit.Chem.rdchem.HybridizationType.SP2, False], [6, 0, 2, rdkit.Chem.rdchem.HybridizationType.SP3, False], [6, 0, 2, rdkit.Chem.rdchem.HybridizationType.SP3, False], [8, 0, 0, rdkit.Chem.rdchem.HybridizationType.SP2, False], [6, 0, 2, rdkit.Chem.rdchem.HybridizationType.SP3, False], [8, 0, 0, rdkit.Chem.rdchem.HybridizationType.SP3, False], [6, 0, 0, rdkit.Chem.rdchem.HybridizationType.SP2, True], [7, 0, 0, rdkit.Chem.rdchem.HybridizationType.SP2, True]]\"\n        ],\n        \"semantic_type\": \"\",\n        \"description\": \"\"\n      }\n    },\n    {\n      \"column\": \"Edge_Features\",\n      \"properties\": {\n        \"dtype\": \"string\",\n        \"num_unique_values\": 266,\n        \"samples\": [\n          \"[[1.0, False, False], [1.5, True, True], [1.5, True, True], [1.0, True, False], [2.0, True, False], [1.0, True, False], [1.0, True, False], [1.5, True, True], [1.5, True, True], [1.5, True, True], [1.5, True, True], [1.0, True, False], [1.5, True, True], [1.0, True, False], [2.0, True, False], [1.0, True, False], [1.5, True, True], [1.5, True, True], [1.5, True, True], [1.5, True, True], [1.0, False, False], [1.5, True, True], [1.0, False, False], [1.5, True, True], [1.5, True, True], [1.5, True, True]]\",\n          \"[[1.0, False, False], [1.0, True, False], [1.5, True, True], [1.5, True, True], [1.5, True, True], [1.5, True, True], [1.5, True, True], [1.5, True, True], [1.5, True, True], [1.0, False, False], [1.0, False, False], [1.0, False, False], [1.0, False, False], [1.0, False, False], [1.0, False, True], [1.0, False, True], [1.0, False, True], [1.0, False, False], [1.0, False, True], [1.0, False, True], [1.0, False, False], [1.5, True, True], [1.0, False, False], [1.5, True, True], [1.5, True, True], [1.5, True, True], [1.5, True, True], [1.0, True, False], [1.0, False, False], [1.0, False, True], [1.0, False, True], [1.0, False, True], [1.0, False, False], [2.0, True, False], [1.0, True, False], [1.5, True, True], [1.5, True, True], [1.5, True, True], [1.5, True, True], [1.0, False, True], [1.0, False, True], [1.5, True, True]]\",\n          \"[[1.0, False, False], [1.0, False, False], [1.0, True, False], [2.0, True, False], [1.0, True, False], [1.0, True, False], [1.5, True, True], [1.5, True, True], [1.5, True, True], [1.0, True, False], [1.5, True, True], [1.5, True, True], [1.5, True, True], [1.5, True, True], [1.0, False, False], [1.5, True, True], [1.5, True, True], [1.5, True, True], [1.5, True, True], [1.0, False, False], [1.0, False, False], [1.0, True, False], [2.0, True, False], [1.0, True, False], [1.0, False, False], [1.0, False, True], [1.0, False, True], [1.0, False, True], [1.0, False, True], [1.0, False, True], [1.0, False, False], [1.0, False, False], [1.5, True, True], [1.5, True, True], [1.5, True, True], [1.5, True, True], [1.5, True, True], [1.5, True, True], [1.0, False, True]]\"\n        ],\n        \"semantic_type\": \"\",\n        \"description\": \"\"\n      }\n    },\n    {\n      \"column\": \"Encoded_Node_Features\",\n      \"properties\": {\n        \"dtype\": \"string\",\n        \"num_unique_values\": 377,\n        \"samples\": [\n          \"[[6, 0, 3, 0.0, 0.0, 1.0, 0], [8, 0, 0, 0.0, 1.0, 0.0, 0], [6, 0, 0, 0.0, 1.0, 0.0, 1], [6, 0, 1, 0.0, 1.0, 0.0, 1], [6, 0, 1, 0.0, 1.0, 0.0, 1], [6, 0, 0, 0.0, 1.0, 0.0, 1], [7, 0, 0, 0.0, 1.0, 0.0, 1], [6, 0, 1, 0.0, 1.0, 0.0, 1], [6, 0, 1, 0.0, 1.0, 0.0, 1], [6, 0, 0, 0.0, 1.0, 0.0, 1], [8, 0, 0, 0.0, 1.0, 0.0, 0], [6, 0, 2, 0.0, 0.0, 1.0, 0], [6, 0, 1, 0.0, 0.0, 1.0, 0], [6, 0, 2, 0.0, 0.0, 1.0, 0], [6, 0, 2, 0.0, 0.0, 1.0, 0], [6, 0, 1, 0.0, 0.0, 1.0, 0], [7, 0, 1, 0.0, 0.0, 1.0, 0], [6, 0, 2, 0.0, 0.0, 1.0, 0], [6, 0, 0, 0.0, 1.0, 0.0, 1], [6, 0, 1, 0.0, 1.0, 0.0, 1], [6, 0, 0, 0.0, 1.0, 0.0, 1], [6, 0, 0, 0.0, 1.0, 0.0, 1], [6, 0, 1, 0.0, 1.0, 0.0, 1], [7, 0, 0, 0.0, 1.0, 0.0, 1], [8, 0, 0, 0.0, 1.0, 0.0, 0], [6, 0, 2, 0.0, 0.0, 1.0, 0], [6, 0, 2, 0.0, 0.0, 1.0, 0], [8, 0, 0, 0.0, 1.0, 0.0, 0], [6, 0, 2, 0.0, 0.0, 1.0, 0], [8, 0, 0, 0.0, 0.0, 1.0, 0], [6, 0, 0, 0.0, 1.0, 0.0, 1], [7, 0, 0, 0.0, 1.0, 0.0, 1]]\",\n          \"[[6, 0, 3, 0.0, 0.0, 1.0, 0], [8, 0, 0, 0.0, 1.0, 0.0, 0], [6, 0, 0, 0.0, 1.0, 0.0, 1], [6, 0, 1, 0.0, 1.0, 0.0, 1], [6, 0, 1, 0.0, 1.0, 0.0, 1], [6, 0, 0, 0.0, 1.0, 0.0, 1], [7, 0, 0, 0.0, 1.0, 0.0, 1], [6, 0, 1, 0.0, 1.0, 0.0, 1], [6, 0, 0, 0.0, 1.0, 0.0, 1], [9, 0, 0, 0.0, 0.0, 1.0, 0], [6, 0, 0, 0.0, 1.0, 0.0, 1], [6, 0, 2, 0.0, 0.0, 1.0, 0], [6, 0, 1, 0.0, 0.0, 1.0, 0], [8, 0, 1, 0.0, 0.0, 1.0, 0], [6, 0, 1, 0.0, 0.0, 1.0, 0], [8, 0, 0, 0.0, 0.0, 1.0, 0], [6, 0, 2, 0.0, 0.0, 1.0, 0], [6, 0, 1, 0.0, 0.0, 1.0, 0], [7, 0, 1, 0.0, 0.0, 1.0, 0], [6, 0, 2, 0.0, 0.0, 1.0, 0], [6, 0, 0, 0.0, 1.0, 0.0, 1], [6, 0, 1, 0.0, 1.0, 0.0, 1], [6, 0, 0, 0.0, 1.0, 0.0, 1], [6, 0, 0, 0.0, 1.0, 0.0, 1], [6, 0, 1, 0.0, 1.0, 0.0, 1], [7, 0, 0, 0.0, 1.0, 0.0, 1], [8, 0, 0, 0.0, 1.0, 0.0, 0], [6, 0, 2, 0.0, 0.0, 1.0, 0], [8, 0, 0, 0.0, 1.0, 0.0, 0], [6, 0, 2, 0.0, 0.0, 1.0, 0], [8, 0, 0, 0.0, 0.0, 1.0, 0], [6, 0, 0, 0.0, 1.0, 0.0, 1], [7, 0, 0, 0.0, 1.0, 0.0, 1]]\",\n          \"[[6, 0, 3, 0.0, 0.0, 1.0, 0], [8, 0, 0, 0.0, 1.0, 0.0, 0], [6, 0, 0, 0.0, 1.0, 0.0, 1], [6, 0, 1, 0.0, 1.0, 0.0, 1], [6, 0, 1, 0.0, 1.0, 0.0, 1], [6, 0, 0, 0.0, 1.0, 0.0, 1], [7, 0, 0, 0.0, 1.0, 0.0, 1], [6, 0, 1, 0.0, 1.0, 0.0, 1], [6, 0, 0, 0.0, 1.0, 0.0, 1], [9, 0, 0, 0.0, 0.0, 1.0, 0], [6, 0, 0, 0.0, 1.0, 0.0, 1], [6, 0, 2, 0.0, 0.0, 1.0, 0], [6, 0, 1, 0.0, 0.0, 1.0, 0], [8, 0, 1, 0.0, 0.0, 1.0, 0], [6, 0, 1, 0.0, 0.0, 1.0, 0], [8, 0, 0, 0.0, 0.0, 1.0, 0], [6, 0, 2, 0.0, 0.0, 1.0, 0], [6, 0, 1, 0.0, 0.0, 1.0, 0], [7, 0, 1, 0.0, 0.0, 1.0, 0], [6, 0, 2, 0.0, 0.0, 1.0, 0], [6, 0, 0, 0.0, 1.0, 0.0, 1], [6, 0, 1, 0.0, 1.0, 0.0, 1], [6, 0, 0, 0.0, 1.0, 0.0, 1], [6, 0, 0, 0.0, 1.0, 0.0, 1], [7, 0, 0, 0.0, 1.0, 0.0, 1], [7, 0, 0, 0.0, 1.0, 0.0, 1], [8, 0, 0, 0.0, 1.0, 0.0, 0], [6, 0, 2, 0.0, 0.0, 1.0, 0], [6, 0, 2, 0.0, 0.0, 1.0, 0], [8, 0, 0, 0.0, 1.0, 0.0, 0], [6, 0, 2, 0.0, 0.0, 1.0, 0], [8, 0, 0, 0.0, 0.0, 1.0, 0], [6, 0, 0, 0.0, 1.0, 0.0, 1], [7, 0, 0, 0.0, 1.0, 0.0, 1]]\"\n        ],\n        \"semantic_type\": \"\",\n        \"description\": \"\"\n      }\n    },\n    {\n      \"column\": \"Encoded_Edge_Features\",\n      \"properties\": {\n        \"dtype\": \"string\",\n        \"num_unique_values\": 266,\n        \"samples\": [\n          \"[[1.0, 0.0, 0.0, 0.0, 0, 0], [0.0, 0.0, 0.0, 1.0, 1, 1], [0.0, 0.0, 0.0, 1.0, 1, 1], [1.0, 0.0, 0.0, 0.0, 1, 0], [0.0, 1.0, 0.0, 0.0, 1, 0], [1.0, 0.0, 0.0, 0.0, 1, 0], [1.0, 0.0, 0.0, 0.0, 1, 0], [0.0, 0.0, 0.0, 1.0, 1, 1], [0.0, 0.0, 0.0, 1.0, 1, 1], [0.0, 0.0, 0.0, 1.0, 1, 1], [0.0, 0.0, 0.0, 1.0, 1, 1], [1.0, 0.0, 0.0, 0.0, 1, 0], [0.0, 0.0, 0.0, 1.0, 1, 1], [1.0, 0.0, 0.0, 0.0, 1, 0], [0.0, 1.0, 0.0, 0.0, 1, 0], [1.0, 0.0, 0.0, 0.0, 1, 0], [0.0, 0.0, 0.0, 1.0, 1, 1], [0.0, 0.0, 0.0, 1.0, 1, 1], [0.0, 0.0, 0.0, 1.0, 1, 1], [0.0, 0.0, 0.0, 1.0, 1, 1], [1.0, 0.0, 0.0, 0.0, 0, 0], [0.0, 0.0, 0.0, 1.0, 1, 1], [1.0, 0.0, 0.0, 0.0, 0, 0], [0.0, 0.0, 0.0, 1.0, 1, 1], [0.0, 0.0, 0.0, 1.0, 1, 1], [0.0, 0.0, 0.0, 1.0, 1, 1]]\",\n          \"[[1.0, 0.0, 0.0, 0.0, 0, 0], [1.0, 0.0, 0.0, 0.0, 1, 0], [0.0, 0.0, 0.0, 1.0, 1, 1], [0.0, 0.0, 0.0, 1.0, 1, 1], [0.0, 0.0, 0.0, 1.0, 1, 1], [0.0, 0.0, 0.0, 1.0, 1, 1], [0.0, 0.0, 0.0, 1.0, 1, 1], [0.0, 0.0, 0.0, 1.0, 1, 1], [0.0, 0.0, 0.0, 1.0, 1, 1], [1.0, 0.0, 0.0, 0.0, 0, 0], [1.0, 0.0, 0.0, 0.0, 0, 0], [1.0, 0.0, 0.0, 0.0, 0, 0], [1.0, 0.0, 0.0, 0.0, 0, 0], [1.0, 0.0, 0.0, 0.0, 0, 0], [1.0, 0.0, 0.0, 0.0, 0, 1], [1.0, 0.0, 0.0, 0.0, 0, 1], [1.0, 0.0, 0.0, 0.0, 0, 1], [1.0, 0.0, 0.0, 0.0, 0, 0], [1.0, 0.0, 0.0, 0.0, 0, 1], [1.0, 0.0, 0.0, 0.0, 0, 1], [1.0, 0.0, 0.0, 0.0, 0, 0], [0.0, 0.0, 0.0, 1.0, 1, 1], [1.0, 0.0, 0.0, 0.0, 0, 0], [0.0, 0.0, 0.0, 1.0, 1, 1], [0.0, 0.0, 0.0, 1.0, 1, 1], [0.0, 0.0, 0.0, 1.0, 1, 1], [0.0, 0.0, 0.0, 1.0, 1, 1], [1.0, 0.0, 0.0, 0.0, 1, 0], [1.0, 0.0, 0.0, 0.0, 0, 0], [1.0, 0.0, 0.0, 0.0, 0, 1], [1.0, 0.0, 0.0, 0.0, 0, 1], [1.0, 0.0, 0.0, 0.0, 0, 1], [1.0, 0.0, 0.0, 0.0, 0, 0], [0.0, 1.0, 0.0, 0.0, 1, 0], [1.0, 0.0, 0.0, 0.0, 1, 0], [0.0, 0.0, 0.0, 1.0, 1, 1], [0.0, 0.0, 0.0, 1.0, 1, 1], [0.0, 0.0, 0.0, 1.0, 1, 1], [0.0, 0.0, 0.0, 1.0, 1, 1], [1.0, 0.0, 0.0, 0.0, 0, 1], [1.0, 0.0, 0.0, 0.0, 0, 1], [0.0, 0.0, 0.0, 1.0, 1, 1]]\",\n          \"[[1.0, 0.0, 0.0, 0.0, 0, 0], [1.0, 0.0, 0.0, 0.0, 0, 0], [1.0, 0.0, 0.0, 0.0, 1, 0], [0.0, 1.0, 0.0, 0.0, 1, 0], [1.0, 0.0, 0.0, 0.0, 1, 0], [1.0, 0.0, 0.0, 0.0, 1, 0], [0.0, 0.0, 0.0, 1.0, 1, 1], [0.0, 0.0, 0.0, 1.0, 1, 1], [0.0, 0.0, 0.0, 1.0, 1, 1], [1.0, 0.0, 0.0, 0.0, 1, 0], [0.0, 0.0, 0.0, 1.0, 1, 1], [0.0, 0.0, 0.0, 1.0, 1, 1], [0.0, 0.0, 0.0, 1.0, 1, 1], [0.0, 0.0, 0.0, 1.0, 1, 1], [1.0, 0.0, 0.0, 0.0, 0, 0], [0.0, 0.0, 0.0, 1.0, 1, 1], [0.0, 0.0, 0.0, 1.0, 1, 1], [0.0, 0.0, 0.0, 1.0, 1, 1], [0.0, 0.0, 0.0, 1.0, 1, 1], [1.0, 0.0, 0.0, 0.0, 0, 0], [1.0, 0.0, 0.0, 0.0, 0, 0], [1.0, 0.0, 0.0, 0.0, 1, 0], [0.0, 1.0, 0.0, 0.0, 1, 0], [1.0, 0.0, 0.0, 0.0, 1, 0], [1.0, 0.0, 0.0, 0.0, 0, 0], [1.0, 0.0, 0.0, 0.0, 0, 1], [1.0, 0.0, 0.0, 0.0, 0, 1], [1.0, 0.0, 0.0, 0.0, 0, 1], [1.0, 0.0, 0.0, 0.0, 0, 1], [1.0, 0.0, 0.0, 0.0, 0, 1], [1.0, 0.0, 0.0, 0.0, 0, 0], [1.0, 0.0, 0.0, 0.0, 0, 0], [0.0, 0.0, 0.0, 1.0, 1, 1], [0.0, 0.0, 0.0, 1.0, 1, 1], [0.0, 0.0, 0.0, 1.0, 1, 1], [0.0, 0.0, 0.0, 1.0, 1, 1], [0.0, 0.0, 0.0, 1.0, 1, 1], [0.0, 0.0, 0.0, 1.0, 1, 1], [1.0, 0.0, 0.0, 0.0, 0, 1]]\"\n        ],\n        \"semantic_type\": \"\",\n        \"description\": \"\"\n      }\n    },\n    {\n      \"column\": \"Num_Node_Features\",\n      \"properties\": {\n        \"dtype\": \"number\",\n        \"std\": 0,\n        \"min\": 7,\n        \"max\": 7,\n        \"num_unique_values\": 1,\n        \"samples\": [\n          7\n        ],\n        \"semantic_type\": \"\",\n        \"description\": \"\"\n      }\n    },\n    {\n      \"column\": \"Num_Edge_Features\",\n      \"properties\": {\n        \"dtype\": \"number\",\n        \"std\": 0,\n        \"min\": 6,\n        \"max\": 6,\n        \"num_unique_values\": 1,\n        \"samples\": [\n          6\n        ],\n        \"semantic_type\": \"\",\n        \"description\": \"\"\n      }\n    },\n    {\n      \"column\": \"Edge_Connectivity\",\n      \"properties\": {\n        \"dtype\": \"string\",\n        \"num_unique_values\": 245,\n        \"samples\": [\n          \"[(0, 1), (1, 2), (2, 3), (2, 4), (4, 5), (5, 6), (6, 7), (7, 8), (7, 9), (9, 10), (10, 11), (11, 12), (12, 13), (13, 14), (14, 15), (15, 16), (16, 17), (17, 18), (18, 19), (19, 20), (19, 21), (18, 22), (22, 23), (23, 24), (24, 25), (13, 26), (26, 27), (27, 10), (25, 14), (24, 16)]\"\n        ],\n        \"semantic_type\": \"\",\n        \"description\": \"\"\n      }\n    }\n  ]\n}"
            }
          },
          "metadata": {},
          "execution_count": 1
        }
      ],
      "source": [
        "import pandas as pd\n",
        "\n",
        "from google.colab import files\n",
        "uploaded = files.upload()\n",
        "df = pd.read_csv('EdgeConnetivity_features.csv')\n",
        "\n",
        "df.head()"
      ]
    },
    {
      "cell_type": "code",
      "source": [
        "EdgeConnetivity_features = df"
      ],
      "metadata": {
        "id": "iWcFhWkpm3Mt"
      },
      "execution_count": null,
      "outputs": []
    },
    {
      "cell_type": "code",
      "source": [
        "print(EdgeConnetivity_features.columns)\n"
      ],
      "metadata": {
        "colab": {
          "base_uri": "https://localhost:8080/"
        },
        "id": "H3aWyMekDKdE",
        "outputId": "0d7d2ccc-0b5c-457d-bcef-428d6f53c6cb"
      },
      "execution_count": null,
      "outputs": [
        {
          "output_type": "stream",
          "name": "stdout",
          "text": [
            "Index(['Smiles', 'pChEMBL Value', 'Node_Features', 'Edge_Features',\n",
            "       'Encoded_Node_Features', 'Encoded_Edge_Features', 'Num_Node_Features',\n",
            "       'Num_Edge_Features', 'Edge_Connectivity'],\n",
            "      dtype='object')\n"
          ]
        }
      ]
    },
    {
      "cell_type": "code",
      "source": [
        "# Verify Encoded_Node_Features and Encoded_Edge_Features\n",
        "print(\"Checking Encoded Features Consistency...\")\n",
        "print(\"All Encoded Node Features as lists:\", all(isinstance(item, list) for item in EdgeConnetivity_features['Encoded_Node_Features']))\n",
        "print(\"All Encoded Edge Features as lists:\", all(isinstance(item, list) for item in EdgeConnetivity_features['Encoded_Edge_Features']))\n",
        "print(\"All Edge Connectivity as lists:\", all(isinstance(item, list) for item in EdgeConnetivity_features['Edge_Connectivity']))\n",
        "\n",
        "# Column Data Types\n",
        "print(\"\\nColumn Data Types:\")\n",
        "print(EdgeConnetivity_features.dtypes)\n",
        "\n",
        "# Inspect Sample Data\n",
        "print(\"\\nSample Data Inspection:\")\n",
        "print(\"Sample Encoded Node Features (First Row):\", type(EdgeConnetivity_features['Encoded_Node_Features'][0]))\n",
        "print(\"Sample Edge Connectivity (First Row):\", type(EdgeConnetivity_features['Edge_Connectivity'][0]))\n",
        "print(\"Sample Encoded Edge Features (First Row):\", type(EdgeConnetivity_features['Encoded_Edge_Features'][0]))\n"
      ],
      "metadata": {
        "colab": {
          "base_uri": "https://localhost:8080/"
        },
        "id": "f5SpI7ztLFal",
        "outputId": "3ebb58c9-d75b-4a53-8006-3cc86d7cd3d5"
      },
      "execution_count": null,
      "outputs": [
        {
          "output_type": "stream",
          "name": "stdout",
          "text": [
            "Checking Encoded Features Consistency...\n",
            "All Encoded Node Features as lists: False\n",
            "All Encoded Edge Features as lists: False\n",
            "All Edge Connectivity as lists: False\n",
            "\n",
            "Column Data Types:\n",
            "Smiles                    object\n",
            "pChEMBL Value            float64\n",
            "Node_Features             object\n",
            "Edge_Features             object\n",
            "Encoded_Node_Features     object\n",
            "Encoded_Edge_Features     object\n",
            "Num_Node_Features          int64\n",
            "Num_Edge_Features          int64\n",
            "Edge_Connectivity         object\n",
            "dtype: object\n",
            "\n",
            "Sample Data Inspection:\n",
            "Sample Encoded Node Features (First Row): <class 'str'>\n",
            "Sample Edge Connectivity (First Row): <class 'str'>\n",
            "Sample Encoded Edge Features (First Row): <class 'str'>\n"
          ]
        }
      ]
    },
    {
      "cell_type": "code",
      "source": [
        "import ast\n",
        "\n",
        "# Convert string representations to lists for the relevant columns\n",
        "EdgeConnetivity_features['Encoded_Node_Features'] = EdgeConnetivity_features['Encoded_Node_Features'].apply(ast.literal_eval)\n",
        "EdgeConnetivity_features['Encoded_Edge_Features'] = EdgeConnetivity_features['Encoded_Edge_Features'].apply(ast.literal_eval)\n",
        "EdgeConnetivity_features['Edge_Connectivity'] = EdgeConnetivity_features['Edge_Connectivity'].apply(ast.literal_eval)\n",
        "\n",
        "# Verify the conversion\n",
        "print(\"Checking Encoded Features Consistency After Conversion...\")\n",
        "print(\"All Encoded Node Features as lists:\", all(isinstance(item, list) for item in EdgeConnetivity_features['Encoded_Node_Features']))\n",
        "print(\"All Encoded Edge Features as lists:\", all(isinstance(item, list) for item in EdgeConnetivity_features['Encoded_Edge_Features']))\n",
        "print(\"All Edge Connectivity as lists:\", all(isinstance(item, list) for item in EdgeConnetivity_features['Edge_Connectivity']))\n",
        "\n",
        "# Inspect Sample Data\n",
        "print(\"\\nSample Data Inspection After Conversion:\")\n",
        "print(\"Sample Encoded Node Features (First Row):\", type(EdgeConnetivity_features['Encoded_Node_Features'][0]))\n",
        "print(\"Sample Edge Connectivity (First Row):\", type(EdgeConnetivity_features['Edge_Connectivity'][0]))\n",
        "print(\"Sample Encoded Edge Features (First Row):\", type(EdgeConnetivity_features['Encoded_Edge_Features'][0]))\n"
      ],
      "metadata": {
        "colab": {
          "base_uri": "https://localhost:8080/"
        },
        "id": "t0I9lRnzLFXe",
        "outputId": "95147e04-f844-440f-a7ce-07abb5205117"
      },
      "execution_count": null,
      "outputs": [
        {
          "output_type": "stream",
          "name": "stdout",
          "text": [
            "Checking Encoded Features Consistency After Conversion...\n",
            "All Encoded Node Features as lists: True\n",
            "All Encoded Edge Features as lists: True\n",
            "All Edge Connectivity as lists: True\n",
            "\n",
            "Sample Data Inspection After Conversion:\n",
            "Sample Encoded Node Features (First Row): <class 'list'>\n",
            "Sample Edge Connectivity (First Row): <class 'list'>\n",
            "Sample Encoded Edge Features (First Row): <class 'list'>\n"
          ]
        }
      ]
    },
    {
      "cell_type": "code",
      "source": [
        "# Verify missing values\n",
        "print(\"Checking for missing values in columns:\")\n",
        "print(EdgeConnetivity_features.isnull().sum())\n",
        "\n",
        "# Check data types of columns\n",
        "print(\"\\nColumn Data Types:\")\n",
        "print(EdgeConnetivity_features.dtypes)\n",
        "\n",
        "# Validate column formats\n",
        "print(\"\\nChecking Consistency...\")\n",
        "print(\"All Node Features as lists:\", all(isinstance(item, list) for item in EdgeConnetivity_features['Encoded_Node_Features']))\n",
        "print(\"All Edge Features as lists:\", all(isinstance(item, list) for item in EdgeConnetivity_features['Encoded_Edge_Features']))\n",
        "print(\"All Edge Connectivity as lists:\", all(isinstance(item, list) for item in EdgeConnetivity_features['Edge_Connectivity']))\n",
        "print(\"All pChEMBL Values as float:\", all(isinstance(item, (float, int)) for item in EdgeConnetivity_features['pChEMBL Value']))"
      ],
      "metadata": {
        "colab": {
          "base_uri": "https://localhost:8080/"
        },
        "id": "Xbr8YeLLLFUC",
        "outputId": "33e02318-5551-4f43-8fb7-30fb3816efb9"
      },
      "execution_count": null,
      "outputs": [
        {
          "output_type": "stream",
          "name": "stdout",
          "text": [
            "Checking for missing values in columns:\n",
            "Smiles                   0\n",
            "pChEMBL Value            0\n",
            "Node_Features            0\n",
            "Edge_Features            0\n",
            "Encoded_Node_Features    0\n",
            "Encoded_Edge_Features    0\n",
            "Num_Node_Features        0\n",
            "Num_Edge_Features        0\n",
            "Edge_Connectivity        0\n",
            "dtype: int64\n",
            "\n",
            "Column Data Types:\n",
            "Smiles                    object\n",
            "pChEMBL Value            float64\n",
            "Node_Features             object\n",
            "Edge_Features             object\n",
            "Encoded_Node_Features     object\n",
            "Encoded_Edge_Features     object\n",
            "Num_Node_Features          int64\n",
            "Num_Edge_Features          int64\n",
            "Edge_Connectivity         object\n",
            "dtype: object\n",
            "\n",
            "Checking Consistency...\n",
            "All Node Features as lists: True\n",
            "All Edge Features as lists: True\n",
            "All Edge Connectivity as lists: True\n",
            "All pChEMBL Values as float: True\n"
          ]
        }
      ]
    },
    {
      "cell_type": "code",
      "source": [
        "# Verify the updated dataframe\n",
        "print(EdgeConnetivity_features.head())"
      ],
      "metadata": {
        "colab": {
          "base_uri": "https://localhost:8080/"
        },
        "id": "bp0vwxhTOn9p",
        "outputId": "7cf1762f-21e8-4d98-8699-29f8b7dac892"
      },
      "execution_count": null,
      "outputs": [
        {
          "output_type": "stream",
          "name": "stdout",
          "text": [
            "                                              Smiles  pChEMBL Value  \\\n",
            "0  COc1ccc2nccc([C@@H](O)CC[C@@H]3CCN(C4CC(c5cccc...           5.81   \n",
            "1  COc1ccc2nccc([C@@H](O)CC[C@@H]3CCN(C4CC(c5cccc...           5.81   \n",
            "2      O=C(O)CCCC(=O)Nc1ccc(-c2nc3cc(F)ccc3[nH]2)cc1           5.95   \n",
            "3  CC(C)(C)c1ccc(CN2CCC(C(O)(c3ccccc3)c3ccccc3)CC...           4.05   \n",
            "4  CC(C)(C)c1ccc(C(=O)CCCN2CCC(C(O)(c3ccccc3)c3cc...           4.03   \n",
            "\n",
            "                                       Node_Features  \\\n",
            "0  [[6, 0, 3, rdkit.Chem.rdchem.HybridizationType...   \n",
            "1  [[6, 0, 3, rdkit.Chem.rdchem.HybridizationType...   \n",
            "2  [[8, 0, 0, rdkit.Chem.rdchem.HybridizationType...   \n",
            "3  [[6, 0, 3, rdkit.Chem.rdchem.HybridizationType...   \n",
            "4  [[6, 0, 3, rdkit.Chem.rdchem.HybridizationType...   \n",
            "\n",
            "                                       Edge_Features  \\\n",
            "0  [[1.0, False, False], [1.0, True, False], [1.5...   \n",
            "1  [[1.0, False, False], [1.0, True, False], [1.5...   \n",
            "2  [[2.0, True, False], [1.0, True, False], [1.0,...   \n",
            "3  [[1.0, False, False], [1.0, False, False], [1....   \n",
            "4  [[1.0, False, False], [1.0, False, False], [1....   \n",
            "\n",
            "                               Encoded_Node_Features  \\\n",
            "0  [[6, 0, 3, 0.0, 0.0, 1.0, 0], [8, 0, 0, 0.0, 1...   \n",
            "1  [[6, 0, 3, 0.0, 0.0, 1.0, 0], [8, 0, 0, 0.0, 1...   \n",
            "2  [[8, 0, 0, 0.0, 1.0, 0.0, 0], [6, 0, 0, 0.0, 1...   \n",
            "3  [[6, 0, 3, 0.0, 0.0, 1.0, 0], [6, 0, 0, 0.0, 0...   \n",
            "4  [[6, 0, 3, 0.0, 0.0, 1.0, 0], [6, 0, 0, 0.0, 0...   \n",
            "\n",
            "                               Encoded_Edge_Features  Num_Node_Features  \\\n",
            "0  [[1.0, 0.0, 0.0, 0.0, 0, 0], [1.0, 0.0, 0.0, 0...                  7   \n",
            "1  [[1.0, 0.0, 0.0, 0.0, 0, 0], [1.0, 0.0, 0.0, 0...                  7   \n",
            "2  [[0.0, 1.0, 0.0, 0.0, 1, 0], [1.0, 0.0, 0.0, 0...                  7   \n",
            "3  [[1.0, 0.0, 0.0, 0.0, 0, 0], [1.0, 0.0, 0.0, 0...                  7   \n",
            "4  [[1.0, 0.0, 0.0, 0.0, 0, 0], [1.0, 0.0, 0.0, 0...                  7   \n",
            "\n",
            "   Num_Edge_Features                                  Edge_Connectivity  \n",
            "0                  6  [(0, 1), (1, 2), (2, 3), (3, 4), (4, 5), (5, 6...  \n",
            "1                  6  [(0, 1), (1, 2), (2, 3), (3, 4), (4, 5), (5, 6...  \n",
            "2                  6  [(0, 1), (1, 2), (1, 3), (3, 4), (4, 5), (5, 6...  \n",
            "3                  6  [(0, 1), (1, 2), (1, 3), (1, 4), (4, 5), (5, 6...  \n",
            "4                  6  [(0, 1), (1, 2), (1, 3), (1, 4), (4, 5), (5, 6...  \n"
          ]
        }
      ]
    },
    {
      "cell_type": "code",
      "source": [
        "!pip install torch torchvision torchaudio\n",
        "!pip install torch-geometric"
      ],
      "metadata": {
        "colab": {
          "base_uri": "https://localhost:8080/"
        },
        "id": "FdbLp847Rfd5",
        "outputId": "28eb4eff-e416-400e-8434-d6d3d25ad5a6"
      },
      "execution_count": null,
      "outputs": [
        {
          "output_type": "stream",
          "name": "stdout",
          "text": [
            "Requirement already satisfied: torch in /usr/local/lib/python3.10/dist-packages (2.5.1+cu121)\n",
            "Requirement already satisfied: torchvision in /usr/local/lib/python3.10/dist-packages (0.20.1+cu121)\n",
            "Requirement already satisfied: torchaudio in /usr/local/lib/python3.10/dist-packages (2.5.1+cu121)\n",
            "Requirement already satisfied: filelock in /usr/local/lib/python3.10/dist-packages (from torch) (3.16.1)\n",
            "Requirement already satisfied: typing-extensions>=4.8.0 in /usr/local/lib/python3.10/dist-packages (from torch) (4.12.2)\n",
            "Requirement already satisfied: networkx in /usr/local/lib/python3.10/dist-packages (from torch) (3.4.2)\n",
            "Requirement already satisfied: jinja2 in /usr/local/lib/python3.10/dist-packages (from torch) (3.1.4)\n",
            "Requirement already satisfied: fsspec in /usr/local/lib/python3.10/dist-packages (from torch) (2024.10.0)\n",
            "Requirement already satisfied: sympy==1.13.1 in /usr/local/lib/python3.10/dist-packages (from torch) (1.13.1)\n",
            "Requirement already satisfied: mpmath<1.4,>=1.1.0 in /usr/local/lib/python3.10/dist-packages (from sympy==1.13.1->torch) (1.3.0)\n",
            "Requirement already satisfied: numpy in /usr/local/lib/python3.10/dist-packages (from torchvision) (1.26.4)\n",
            "Requirement already satisfied: pillow!=8.3.*,>=5.3.0 in /usr/local/lib/python3.10/dist-packages (from torchvision) (11.0.0)\n",
            "Requirement already satisfied: MarkupSafe>=2.0 in /usr/local/lib/python3.10/dist-packages (from jinja2->torch) (3.0.2)\n",
            "Collecting torch-geometric\n",
            "  Downloading torch_geometric-2.6.1-py3-none-any.whl.metadata (63 kB)\n",
            "\u001b[2K     \u001b[90m━━━━━━━━━━━━━━━━━━━━━━━━━━━━━━━━━━━━━━━━\u001b[0m \u001b[32m63.1/63.1 kB\u001b[0m \u001b[31m2.6 MB/s\u001b[0m eta \u001b[36m0:00:00\u001b[0m\n",
            "\u001b[?25hRequirement already satisfied: aiohttp in /usr/local/lib/python3.10/dist-packages (from torch-geometric) (3.11.2)\n",
            "Requirement already satisfied: fsspec in /usr/local/lib/python3.10/dist-packages (from torch-geometric) (2024.10.0)\n",
            "Requirement already satisfied: jinja2 in /usr/local/lib/python3.10/dist-packages (from torch-geometric) (3.1.4)\n",
            "Requirement already satisfied: numpy in /usr/local/lib/python3.10/dist-packages (from torch-geometric) (1.26.4)\n",
            "Requirement already satisfied: psutil>=5.8.0 in /usr/local/lib/python3.10/dist-packages (from torch-geometric) (5.9.5)\n",
            "Requirement already satisfied: pyparsing in /usr/local/lib/python3.10/dist-packages (from torch-geometric) (3.2.0)\n",
            "Requirement already satisfied: requests in /usr/local/lib/python3.10/dist-packages (from torch-geometric) (2.32.3)\n",
            "Requirement already satisfied: tqdm in /usr/local/lib/python3.10/dist-packages (from torch-geometric) (4.66.6)\n",
            "Requirement already satisfied: aiohappyeyeballs>=2.3.0 in /usr/local/lib/python3.10/dist-packages (from aiohttp->torch-geometric) (2.4.3)\n",
            "Requirement already satisfied: aiosignal>=1.1.2 in /usr/local/lib/python3.10/dist-packages (from aiohttp->torch-geometric) (1.3.1)\n",
            "Requirement already satisfied: attrs>=17.3.0 in /usr/local/lib/python3.10/dist-packages (from aiohttp->torch-geometric) (24.2.0)\n",
            "Requirement already satisfied: frozenlist>=1.1.1 in /usr/local/lib/python3.10/dist-packages (from aiohttp->torch-geometric) (1.5.0)\n",
            "Requirement already satisfied: multidict<7.0,>=4.5 in /usr/local/lib/python3.10/dist-packages (from aiohttp->torch-geometric) (6.1.0)\n",
            "Requirement already satisfied: propcache>=0.2.0 in /usr/local/lib/python3.10/dist-packages (from aiohttp->torch-geometric) (0.2.0)\n",
            "Requirement already satisfied: yarl<2.0,>=1.17.0 in /usr/local/lib/python3.10/dist-packages (from aiohttp->torch-geometric) (1.17.2)\n",
            "Requirement already satisfied: async-timeout<6.0,>=4.0 in /usr/local/lib/python3.10/dist-packages (from aiohttp->torch-geometric) (4.0.3)\n",
            "Requirement already satisfied: MarkupSafe>=2.0 in /usr/local/lib/python3.10/dist-packages (from jinja2->torch-geometric) (3.0.2)\n",
            "Requirement already satisfied: charset-normalizer<4,>=2 in /usr/local/lib/python3.10/dist-packages (from requests->torch-geometric) (3.4.0)\n",
            "Requirement already satisfied: idna<4,>=2.5 in /usr/local/lib/python3.10/dist-packages (from requests->torch-geometric) (3.10)\n",
            "Requirement already satisfied: urllib3<3,>=1.21.1 in /usr/local/lib/python3.10/dist-packages (from requests->torch-geometric) (2.2.3)\n",
            "Requirement already satisfied: certifi>=2017.4.17 in /usr/local/lib/python3.10/dist-packages (from requests->torch-geometric) (2024.8.30)\n",
            "Requirement already satisfied: typing-extensions>=4.1.0 in /usr/local/lib/python3.10/dist-packages (from multidict<7.0,>=4.5->aiohttp->torch-geometric) (4.12.2)\n",
            "Downloading torch_geometric-2.6.1-py3-none-any.whl (1.1 MB)\n",
            "\u001b[2K   \u001b[90m━━━━━━━━━━━━━━━━━━━━━━━━━━━━━━━━━━━━━━━━\u001b[0m \u001b[32m1.1/1.1 MB\u001b[0m \u001b[31m25.3 MB/s\u001b[0m eta \u001b[36m0:00:00\u001b[0m\n",
            "\u001b[?25hInstalling collected packages: torch-geometric\n",
            "Successfully installed torch-geometric-2.6.1\n"
          ]
        }
      ]
    },
    {
      "cell_type": "code",
      "source": [
        "import torch\n",
        "from torch_geometric.data import Data\n",
        "\n",
        "# Step 1: Define a function to convert a row into a PyG Data object\n",
        "def row_to_pyg_data(row):\n",
        "    # Convert features and connectivity to tensors\n",
        "    node_features = torch.tensor(row['Encoded_Node_Features'], dtype=torch.float)\n",
        "    edge_index = torch.tensor(row['Edge_Connectivity'], dtype=torch.long).t().contiguous()\n",
        "    edge_features = torch.tensor(row['Encoded_Edge_Features'], dtype=torch.float)\n",
        "    target = torch.tensor([row['pChEMBL Value']], dtype=torch.float)\n",
        "\n",
        "    # Create and return the PyG Data object\n",
        "    return Data(x=node_features, edge_index=edge_index, edge_attr=edge_features, y=target)\n",
        "\n",
        "# Step 2: Convert the entire dataframe\n",
        "pyg_data_list = []\n",
        "for _, row in EdgeConnetivity_features.iterrows():\n",
        "    pyg_data_list.append(row_to_pyg_data(row))\n",
        "\n",
        "# Step 3: Verify the dataset\n",
        "print(f\"Number of graphs in the dataset: {len(pyg_data_list)}\")\n",
        "print(f\"Example graph:\\n{pyg_data_list[0]}\")\n",
        "\n",
        "# Step 4: Inspect sample graph components\n",
        "sample_graph = pyg_data_list[0]\n",
        "print(\"\\nSample Graph Details:\")\n",
        "print(f\"Node Features Shape: {sample_graph.x.shape}\")\n",
        "print(f\"Edge Index Shape: {sample_graph.edge_index.shape}\")\n",
        "print(f\"Edge Attributes Shape: {sample_graph.edge_attr.shape}\")\n",
        "print(f\"Target (pChEMBL Value): {sample_graph.y}\")\n"
      ],
      "metadata": {
        "colab": {
          "base_uri": "https://localhost:8080/"
        },
        "id": "Adi4StFbOn3p",
        "outputId": "b914ce02-0d36-4a57-e7d3-c598e370fe4b"
      },
      "execution_count": null,
      "outputs": [
        {
          "output_type": "stream",
          "name": "stdout",
          "text": [
            "Number of graphs in the dataset: 435\n",
            "Example graph:\n",
            "Data(x=[39, 7], edge_index=[2, 43], edge_attr=[43, 6], y=[1])\n",
            "\n",
            "Sample Graph Details:\n",
            "Node Features Shape: torch.Size([39, 7])\n",
            "Edge Index Shape: torch.Size([2, 43])\n",
            "Edge Attributes Shape: torch.Size([43, 6])\n",
            "Target (pChEMBL Value): tensor([5.8100])\n"
          ]
        }
      ]
    },
    {
      "cell_type": "code",
      "source": [
        "from sklearn.model_selection import train_test_split\n",
        "\n",
        "# Split the dataset into training and testing\n",
        "train_data, test_data = train_test_split(pyg_data_list, test_size=0.2, random_state=42)\n",
        "\n",
        "# Verify the splits\n",
        "print(f\"Number of graphs in the Training set: {len(train_data)}\")\n",
        "print(f\"Number of graphs in the Testing set: {len(test_data)}\")\n"
      ],
      "metadata": {
        "colab": {
          "base_uri": "https://localhost:8080/"
        },
        "id": "oewqfioBQSUv",
        "outputId": "802b3fcf-ff88-44dc-b29c-b1c3a88bca7f"
      },
      "execution_count": null,
      "outputs": [
        {
          "output_type": "stream",
          "name": "stdout",
          "text": [
            "Number of graphs in the Training set: 348\n",
            "Number of graphs in the Testing set: 87\n"
          ]
        }
      ]
    },
    {
      "cell_type": "code",
      "source": [
        "# Verify the splits\n",
        "print(f\"Number of graphs in the Training set: {len(train_data)}\")\n",
        "print(f\"Number of graphs in the Testing set: {len(test_data)}\")"
      ],
      "metadata": {
        "colab": {
          "base_uri": "https://localhost:8080/"
        },
        "id": "8IF5yiocQSRt",
        "outputId": "6587f7cf-9b7b-4ee9-ec98-83c897627a0e"
      },
      "execution_count": null,
      "outputs": [
        {
          "output_type": "stream",
          "name": "stdout",
          "text": [
            "Number of graphs in the Training set: 348\n",
            "Number of graphs in the Testing set: 87\n"
          ]
        }
      ]
    },
    {
      "cell_type": "code",
      "source": [
        "from torch_geometric.loader import DataLoader\n",
        "\n",
        "# Define the batch size\n",
        "batch_size = 32\n",
        "\n",
        "# Create DataLoaders for training and testing\n",
        "train_loader = DataLoader(train_data, batch_size=batch_size, shuffle=True)\n",
        "test_loader = DataLoader(test_data, batch_size=batch_size, shuffle=False)\n",
        "\n",
        "# Verify the batching process\n",
        "print(f\"Number of batches in Training set: {len(train_loader)}\")\n",
        "print(f\"Number of batches in Testing set: {len(test_loader)}\")\n"
      ],
      "metadata": {
        "colab": {
          "base_uri": "https://localhost:8080/"
        },
        "id": "JE4NeB1AQSOr",
        "outputId": "30bbdf95-210a-4c58-ac49-9020aff168e6"
      },
      "execution_count": null,
      "outputs": [
        {
          "output_type": "stream",
          "name": "stdout",
          "text": [
            "Number of batches in Training set: 11\n",
            "Number of batches in Testing set: 3\n"
          ]
        }
      ]
    },
    {
      "cell_type": "code",
      "source": [
        "# Verify a sample batch\n",
        "for batch in train_loader:\n",
        "    print(batch)\n",
        "    print(f\"Batch Node Features Shape: {batch.x.shape}\")\n",
        "    print(f\"Batch Edge Index Shape: {batch.edge_index.shape}\")\n",
        "    print(f\"Batch Edge Attributes Shape: {batch.edge_attr.shape}\")\n",
        "    print(f\"Batch Targets Shape: {batch.y.shape}\")\n",
        "    break\n"
      ],
      "metadata": {
        "colab": {
          "base_uri": "https://localhost:8080/"
        },
        "id": "4u5w_9ZIaY60",
        "outputId": "ea9c9bd9-e8da-4dc3-88ab-8992dac64237"
      },
      "execution_count": null,
      "outputs": [
        {
          "output_type": "stream",
          "name": "stdout",
          "text": [
            "DataBatch(x=[1080, 7], edge_index=[2, 1190], edge_attr=[1190, 6], y=[32], batch=[1080], ptr=[33])\n",
            "Batch Node Features Shape: torch.Size([1080, 7])\n",
            "Batch Edge Index Shape: torch.Size([2, 1190])\n",
            "Batch Edge Attributes Shape: torch.Size([1190, 6])\n",
            "Batch Targets Shape: torch.Size([32])\n"
          ]
        }
      ]
    },
    {
      "cell_type": "code",
      "source": [
        "\n",
        "# Verify the batching process\n",
        "print(f\"Number of batches in Training set: {len(train_loader)}\")\n",
        "print(f\"Number of batches in Testing set: {len(test_loader)}\")"
      ],
      "metadata": {
        "colab": {
          "base_uri": "https://localhost:8080/"
        },
        "id": "5fHlSWMNaY4C",
        "outputId": "6dff44ef-ae57-41d8-9725-089d52fdc35a"
      },
      "execution_count": null,
      "outputs": [
        {
          "output_type": "stream",
          "name": "stdout",
          "text": [
            "Number of batches in Training set: 11\n",
            "Number of batches in Testing set: 3\n"
          ]
        }
      ]
    },
    {
      "cell_type": "code",
      "source": [
        "import torch\n",
        "import torch.nn.functional as F\n",
        "from torch_geometric.nn import GCNConv, global_mean_pool\n",
        "\n",
        "class GNNModel(torch.nn.Module):\n",
        "    def __init__(self, input_dim, hidden_dim, output_dim):\n",
        "        super(GNNModel, self).__init__()\n",
        "\n",
        "        # GCN layers\n",
        "        self.conv1 = GCNConv(input_dim, hidden_dim)\n",
        "        self.conv2 = GCNConv(hidden_dim, hidden_dim)\n",
        "\n",
        "        # Fully connected layers for regression\n",
        "        self.fc1 = torch.nn.Linear(hidden_dim, hidden_dim)\n",
        "        self.fc2 = torch.nn.Linear(hidden_dim, output_dim)\n",
        "\n",
        "    def forward(self, data):\n",
        "        x, edge_index, batch = data.x, data.edge_index, data.batch\n",
        "\n",
        "        # Apply GCN layers\n",
        "        x = F.relu(self.conv1(x, edge_index))\n",
        "        x = F.relu(self.conv2(x, edge_index))\n",
        "\n",
        "        # Global pooling for graph-level output\n",
        "        x = global_mean_pool(x, batch)\n",
        "\n",
        "        # Fully connected layers\n",
        "        x = F.relu(self.fc1(x))\n",
        "        x = self.fc2(x)\n",
        "\n",
        "        return x\n"
      ],
      "metadata": {
        "id": "ogWJLTvkaY1T"
      },
      "execution_count": null,
      "outputs": []
    },
    {
      "cell_type": "code",
      "source": [
        "# Define input/output dimensions based on dataset\n",
        "input_dim = 7  # Node features dimension\n",
        "hidden_dim = 64  # Can be tuned\n",
        "output_dim = 1  # Regression output (pChEMBL Value)\n",
        "\n",
        "# Initialize model\n",
        "model = GNNModel(input_dim, hidden_dim, output_dim)\n",
        "\n",
        "# Optimizer\n",
        "optimizer = torch.optim.Adam(model.parameters(), lr=0.001, weight_decay=1e-5)\n",
        "\n",
        "# Loss function\n",
        "criterion = torch.nn.MSELoss()  # For regression\n"
      ],
      "metadata": {
        "id": "kRUno6Wgc0D_"
      },
      "execution_count": null,
      "outputs": []
    },
    {
      "cell_type": "code",
      "source": [
        "def train_model(model, train_loader, optimizer, criterion):\n",
        "    model.train()  # Set model to training mode\n",
        "    total_loss = 0\n",
        "\n",
        "    for data in train_loader:\n",
        "        data = data.to(device)  # Move data to the GPU if available\n",
        "        optimizer.zero_grad()  # Clear gradients\n",
        "\n",
        "        # Forward pass\n",
        "        output = model(data).squeeze()  # Model output\n",
        "        loss = criterion(output, data.y)  # Compute loss\n",
        "\n",
        "        # Backward pass and optimization\n",
        "        loss.backward()\n",
        "        optimizer.step()\n",
        "\n",
        "        total_loss += loss.item() * data.num_graphs  # Accumulate batch loss\n",
        "\n",
        "    return total_loss / len(train_loader.dataset)  # Average loss over dataset\n"
      ],
      "metadata": {
        "id": "FfbTDfgqcz9_"
      },
      "execution_count": null,
      "outputs": []
    },
    {
      "cell_type": "code",
      "source": [
        "@torch.no_grad()\n",
        "def test_model(model, loader, criterion):\n",
        "    model.eval()  # Set model to evaluation mode\n",
        "    total_loss = 0\n",
        "\n",
        "    for data in loader:\n",
        "        data = data.to(device)  # Move data to GPU if available\n",
        "\n",
        "        # Forward pass\n",
        "        output = model(data).squeeze()\n",
        "        loss = criterion(output, data.y)\n",
        "\n",
        "        total_loss += loss.item() * data.num_graphs\n",
        "\n",
        "    return total_loss / len(loader.dataset)\n"
      ],
      "metadata": {
        "id": "4wbKN9vTcz6c"
      },
      "execution_count": null,
      "outputs": []
    },
    {
      "cell_type": "code",
      "source": [
        "device = torch.device('cuda' if torch.cuda.is_available() else 'cpu')\n",
        "model = model.to(device)  # Move model to device\n",
        "\n",
        "num_epochs = 50  # Number of training epochs\n",
        "train_losses = []\n",
        "test_losses = []\n",
        "\n",
        "for epoch in range(1, num_epochs + 1):\n",
        "    # Train the model\n",
        "    train_loss = train_model(model, train_loader, optimizer, criterion)\n",
        "    train_losses.append(train_loss)\n",
        "\n",
        "    # Test the model\n",
        "    test_loss = test_model(model, test_loader, criterion)\n",
        "    test_losses.append(test_loss)\n",
        "\n",
        "    print(f\"Epoch {epoch}/{num_epochs}, Train Loss: {train_loss:.4f}, Test Loss: {test_loss:.4f}\")\n"
      ],
      "metadata": {
        "colab": {
          "base_uri": "https://localhost:8080/"
        },
        "id": "qA7H0kcBcztl",
        "outputId": "8fe84218-f01c-4923-8dc2-c2aa866a88df"
      },
      "execution_count": null,
      "outputs": [
        {
          "output_type": "stream",
          "name": "stdout",
          "text": [
            "Epoch 1/50, Train Loss: 37.0201, Test Loss: 30.3954\n",
            "Epoch 2/50, Train Loss: 25.2332, Test Loss: 17.8935\n",
            "Epoch 3/50, Train Loss: 11.2914, Test Loss: 3.8553\n",
            "Epoch 4/50, Train Loss: 2.2914, Test Loss: 2.7444\n",
            "Epoch 5/50, Train Loss: 2.3990, Test Loss: 1.4712\n",
            "Epoch 6/50, Train Loss: 1.6374, Test Loss: 1.6360\n",
            "Epoch 7/50, Train Loss: 1.6643, Test Loss: 1.4500\n",
            "Epoch 8/50, Train Loss: 1.5862, Test Loss: 1.4560\n",
            "Epoch 9/50, Train Loss: 1.5788, Test Loss: 1.4499\n",
            "Epoch 10/50, Train Loss: 1.5817, Test Loss: 1.4511\n",
            "Epoch 11/50, Train Loss: 1.5773, Test Loss: 1.4502\n",
            "Epoch 12/50, Train Loss: 1.5756, Test Loss: 1.4486\n",
            "Epoch 13/50, Train Loss: 1.5763, Test Loss: 1.4483\n",
            "Epoch 14/50, Train Loss: 1.5773, Test Loss: 1.4489\n",
            "Epoch 15/50, Train Loss: 1.5884, Test Loss: 1.4505\n",
            "Epoch 16/50, Train Loss: 1.6045, Test Loss: 1.4528\n",
            "Epoch 17/50, Train Loss: 1.5970, Test Loss: 1.4608\n",
            "Epoch 18/50, Train Loss: 1.5749, Test Loss: 1.4468\n",
            "Epoch 19/50, Train Loss: 1.5733, Test Loss: 1.4458\n",
            "Epoch 20/50, Train Loss: 1.5724, Test Loss: 1.4498\n",
            "Epoch 21/50, Train Loss: 1.5808, Test Loss: 1.4449\n",
            "Epoch 22/50, Train Loss: 1.5794, Test Loss: 1.4448\n",
            "Epoch 23/50, Train Loss: 1.5736, Test Loss: 1.4462\n",
            "Epoch 24/50, Train Loss: 1.5927, Test Loss: 1.4442\n",
            "Epoch 25/50, Train Loss: 1.5774, Test Loss: 1.4508\n",
            "Epoch 26/50, Train Loss: 1.5725, Test Loss: 1.4441\n",
            "Epoch 27/50, Train Loss: 1.5698, Test Loss: 1.4448\n",
            "Epoch 28/50, Train Loss: 1.5673, Test Loss: 1.4456\n",
            "Epoch 29/50, Train Loss: 1.5758, Test Loss: 1.4590\n",
            "Epoch 30/50, Train Loss: 1.5726, Test Loss: 1.4495\n",
            "Epoch 31/50, Train Loss: 1.5698, Test Loss: 1.4432\n",
            "Epoch 32/50, Train Loss: 1.5583, Test Loss: 1.4399\n",
            "Epoch 33/50, Train Loss: 1.5679, Test Loss: 1.4412\n",
            "Epoch 34/50, Train Loss: 1.5664, Test Loss: 1.4393\n",
            "Epoch 35/50, Train Loss: 1.5660, Test Loss: 1.4417\n",
            "Epoch 36/50, Train Loss: 1.5601, Test Loss: 1.4376\n",
            "Epoch 37/50, Train Loss: 1.5551, Test Loss: 1.4374\n",
            "Epoch 38/50, Train Loss: 1.5520, Test Loss: 1.4365\n",
            "Epoch 39/50, Train Loss: 1.5520, Test Loss: 1.4375\n",
            "Epoch 40/50, Train Loss: 1.5585, Test Loss: 1.4359\n",
            "Epoch 41/50, Train Loss: 1.5501, Test Loss: 1.4357\n",
            "Epoch 42/50, Train Loss: 1.5547, Test Loss: 1.4342\n",
            "Epoch 43/50, Train Loss: 1.5573, Test Loss: 1.4405\n",
            "Epoch 44/50, Train Loss: 1.5555, Test Loss: 1.4349\n",
            "Epoch 45/50, Train Loss: 1.5591, Test Loss: 1.4324\n",
            "Epoch 46/50, Train Loss: 1.5534, Test Loss: 1.4316\n",
            "Epoch 47/50, Train Loss: 1.5561, Test Loss: 1.4307\n",
            "Epoch 48/50, Train Loss: 1.5478, Test Loss: 1.4337\n",
            "Epoch 49/50, Train Loss: 1.5558, Test Loss: 1.4312\n",
            "Epoch 50/50, Train Loss: 1.5570, Test Loss: 1.4285\n"
          ]
        }
      ]
    },
    {
      "cell_type": "code",
      "source": [
        "torch.save(model.state_dict(), \"gnn_model.pth\")\n",
        "print(\"Model saved to gnn_model.pth\")\n"
      ],
      "metadata": {
        "colab": {
          "base_uri": "https://localhost:8080/"
        },
        "id": "lrHhSEd4czpS",
        "outputId": "538d3428-7294-4faa-8b6f-9ac31e9140e9"
      },
      "execution_count": null,
      "outputs": [
        {
          "output_type": "stream",
          "name": "stdout",
          "text": [
            "Model saved to gnn_model.pth\n"
          ]
        }
      ]
    },
    {
      "cell_type": "code",
      "source": [
        "import matplotlib.pyplot as plt\n",
        "\n",
        "# Simulated training and test losses (use your actual logged losses)\n",
        "epochs = list(range(1, len(train_losses) + 1))\n",
        "\n",
        "plt.figure(figsize=(10, 6))\n",
        "plt.plot(epochs, train_losses, label=\"Training Loss\", marker='o')\n",
        "plt.plot(epochs, test_losses, label=\"Test Loss\", marker='o')\n",
        "plt.xlabel(\"Epochs\")\n",
        "plt.ylabel(\"Loss\")\n",
        "plt.title(\"Learning Curves\")\n",
        "plt.legend()\n",
        "plt.grid()\n",
        "plt.show()\n"
      ],
      "metadata": {
        "colab": {
          "base_uri": "https://localhost:8080/",
          "height": 564
        },
        "id": "Xc_H-ViFczlF",
        "outputId": "4fd9a576-8977-4a29-e87e-3b8482a7249f"
      },
      "execution_count": null,
      "outputs": [
        {
          "output_type": "display_data",
          "data": {
            "text/plain": [
              "<Figure size 1000x600 with 1 Axes>"
            ],
            "image/png": "[encoded data removed]"
          },
          "metadata": {}
        }
      ]
    },
    {
      "cell_type": "code",
      "source": [
        "from sklearn.metrics import r2_score\n",
        "import torch\n"
      ],
      "metadata": {
        "id": "1o96ibzzA6xJ"
      },
      "execution_count": null,
      "outputs": []
    },
    {
      "cell_type": "code",
      "source": [
        "@torch.no_grad()\n",
        "def evaluate_model(model, loader):\n",
        "    model.eval()\n",
        "    all_predictions = []\n",
        "    all_targets = []\n",
        "    for data in loader:\n",
        "        data = data.to(\"cuda\" if torch.cuda.is_available() else \"cpu\")\n",
        "        predictions = model(data).squeeze().cpu().numpy()\n",
        "        targets = data.y.cpu().numpy()\n",
        "        all_predictions.extend(predictions)\n",
        "        all_targets.extend(targets)\n",
        "    return all_predictions, all_targets\n",
        "\n",
        "predictions, targets = evaluate_model(model, test_loader)\n"
      ],
      "metadata": {
        "id": "im1n7wJhA9n3"
      },
      "execution_count": null,
      "outputs": []
    },
    {
      "cell_type": "code",
      "source": [
        "r2 = r2_score(targets, predictions)\n",
        "print(f\"R-squared (R²) Score: {r2:.4f}\")\n"
      ],
      "metadata": {
        "colab": {
          "base_uri": "https://localhost:8080/"
        },
        "id": "jnQV1p2eA9lK",
        "outputId": "405d76e8-5a0a-48b1-95cd-7c00c14aaa78"
      },
      "execution_count": null,
      "outputs": [
        {
          "output_type": "stream",
          "name": "stdout",
          "text": [
            "R-squared (R²) Score: 0.0274\n"
          ]
        }
      ]
    },
    {
      "cell_type": "code",
      "source": [
        "from sklearn.metrics import mean_absolute_error\n",
        "mae = mean_absolute_error(targets, predictions)\n",
        "print(f\"Mean Absolute Error (MAE): {mae:.4f}\")\n"
      ],
      "metadata": {
        "colab": {
          "base_uri": "https://localhost:8080/"
        },
        "id": "ChZWAQ23A9iP",
        "outputId": "6ce727d9-e03a-4970-8f2f-811e2a8e3316"
      },
      "execution_count": null,
      "outputs": [
        {
          "output_type": "stream",
          "name": "stdout",
          "text": [
            "Mean Absolute Error (MAE): 1.0108\n"
          ]
        }
      ]
    },
    {
      "cell_type": "code",
      "source": [
        "import numpy as np\n",
        "rmse = np.sqrt(((np.array(predictions) - np.array(targets)) ** 2).mean())\n",
        "print(f\"Root Mean Squared Error (RMSE): {rmse:.4f}\")\n"
      ],
      "metadata": {
        "colab": {
          "base_uri": "https://localhost:8080/"
        },
        "id": "_jDyoCrABNWw",
        "outputId": "f97b88cd-e377-4375-b6b7-535d26daf635"
      },
      "execution_count": null,
      "outputs": [
        {
          "output_type": "stream",
          "name": "stdout",
          "text": [
            "Root Mean Squared Error (RMSE): 1.1952\n"
          ]
        }
      ]
    },
    {
      "cell_type": "code",
      "source": [
        "!pip install rdkit\n",
        "from rdkit import Chem\n",
        "from rdkit.Chem import rdMolDescriptors"
      ],
      "metadata": {
        "colab": {
          "base_uri": "https://localhost:8080/"
        },
        "id": "Xvx9jXcEBNT1",
        "outputId": "81872edd-d2bb-41a4-fd33-929d497194a2"
      },
      "execution_count": null,
      "outputs": [
        {
          "output_type": "stream",
          "name": "stdout",
          "text": [
            "Collecting rdkit\n",
            "  Downloading rdkit-2024.3.6-cp310-cp310-manylinux_2_28_x86_64.whl.metadata (4.0 kB)\n",
            "Requirement already satisfied: numpy in /usr/local/lib/python3.10/dist-packages (from rdkit) (1.26.4)\n",
            "Requirement already satisfied: Pillow in /usr/local/lib/python3.10/dist-packages (from rdkit) (11.0.0)\n",
            "Downloading rdkit-2024.3.6-cp310-cp310-manylinux_2_28_x86_64.whl (32.8 MB)\n",
            "\u001b[2K   \u001b[90m━━━━━━━━━━━━━━━━━━━━━━━━━━━━━━━━━━━━━━━━\u001b[0m \u001b[32m32.8/32.8 MB\u001b[0m \u001b[31m59.9 MB/s\u001b[0m eta \u001b[36m0:00:00\u001b[0m\n",
            "\u001b[?25hInstalling collected packages: rdkit\n",
            "Successfully installed rdkit-2024.3.6\n"
          ]
        }
      ]
    },
    {
      "cell_type": "code",
      "source": [
        "from rdkit import Chem\n",
        "from rdkit.Chem import rdMolDescriptors\n",
        "\n",
        "# List of SMILES strings\n",
        "smiles_list = [\n",
        "    \"COc1ccc2nccc([C@@H](O)CC[C@@H]3CCN(C4CC(c5ccccc5C(F)(F)F)C4)C[C@@H]3C(=O)O)c2c1\",\n",
        "    \"COc1ccc2nccc([C@@H](O)CC[C@@H]3CCN(C4CC(c5cccc(F)c5F)C4)C[C@@H]3C(=O)O)c2c1\",\n",
        "    \"O=C(O)CCCC(=O)Nc1ccc(-c2nc3cc(F)ccc3[nH]2)cc1\",\n",
        "    \"CC(C)(C)c1ccc(CN2CCC(C(O)(c3ccccc3)c3ccccc3)CC2)cc1\",\n",
        "    \"CC(C)(C)c1ccc(C(=O)CCCN2CCC(C(O)(c3ccccc3)c3ccccc3)CC2)cc1\"\n",
        "]\n",
        "\n",
        "for smi in smiles_list:\n",
        "    mol = Chem.MolFromSmiles(smi)\n",
        "    if mol:\n",
        "        iupac_name = rdMolDescriptors.CalcMolFormula(mol)\n",
        "        print(f\"SMILES: {smi}\\nIUPAC Name: {iupac_name}\\n\")\n",
        "    else:\n",
        "        print(f\"Invalid SMILES: {smi}\\n\")\n"
      ],
      "metadata": {
        "colab": {
          "base_uri": "https://localhost:8080/"
        },
        "id": "Mr_rpZgrBNQy",
        "outputId": "bbe5f86c-c185-41a2-d288-58d2c60c220e"
      },
      "execution_count": null,
      "outputs": [
        {
          "output_type": "stream",
          "name": "stdout",
          "text": [
            "SMILES: COc1ccc2nccc([C@@H](O)CC[C@@H]3CCN(C4CC(c5ccccc5C(F)(F)F)C4)C[C@@H]3C(=O)O)c2c1\n",
            "IUPAC Name: C30H33F3N2O4\n",
            "\n",
            "SMILES: COc1ccc2nccc([C@@H](O)CC[C@@H]3CCN(C4CC(c5cccc(F)c5F)C4)C[C@@H]3C(=O)O)c2c1\n",
            "IUPAC Name: C29H32F2N2O4\n",
            "\n",
            "SMILES: O=C(O)CCCC(=O)Nc1ccc(-c2nc3cc(F)ccc3[nH]2)cc1\n",
            "IUPAC Name: C18H16FN3O3\n",
            "\n",
            "SMILES: CC(C)(C)c1ccc(CN2CCC(C(O)(c3ccccc3)c3ccccc3)CC2)cc1\n",
            "IUPAC Name: C29H35NO\n",
            "\n",
            "SMILES: CC(C)(C)c1ccc(C(=O)CCCN2CCC(C(O)(c3ccccc3)c3ccccc3)CC2)cc1\n",
            "IUPAC Name: C32H39NO2\n",
            "\n"
          ]
        }
      ]
    },
    {
      "cell_type": "code",
      "source": [],
      "metadata": {
        "id": "bTDSltF6BNMo"
      },
      "execution_count": null,
      "outputs": []
    },
    {
      "cell_type": "code",
      "source": [],
      "metadata": {
        "id": "ZQ3OZRPoKhxs"
      },
      "execution_count": null,
      "outputs": []
    },
    {
      "cell_type": "code",
      "source": [],
      "metadata": {
        "id": "5sYtcfqSKhty"
      },
      "execution_count": null,
      "outputs": []
    },
    {
      "cell_type": "code",
      "source": [],
      "metadata": {
        "id": "sfMWs87zKhp5"
      },
      "execution_count": null,
      "outputs": []
    },
    {
      "cell_type": "code",
      "source": [],
      "metadata": {
        "id": "WvbRyemVKhmT"
      },
      "execution_count": null,
      "outputs": []
    },
    {
      "cell_type": "code",
      "source": [],
      "metadata": {
        "id": "RMtXjKG4Khhl"
      },
      "execution_count": null,
      "outputs": []
    },
    {
      "cell_type": "code",
      "source": [
        "from sklearn.metrics import mean_squared_error, mean_absolute_error, r2_score\n",
        "import torch\n",
        "\n",
        "def evaluate_model(model, data_loader, device):\n",
        "    model.eval()\n",
        "    y_true, y_pred = [], []\n",
        "\n",
        "    with torch.no_grad():\n",
        "        for data in data_loader:\n",
        "            data = data.to(device)\n",
        "            output = model(data).view(-1).cpu().numpy()\n",
        "            y_true.extend(data.y.cpu().numpy())\n",
        "            y_pred.extend(output)\n",
        "\n",
        "    # Metrics\n",
        "    mse = mean_squared_error(y_true, y_pred)\n",
        "    rmse = mse ** 0.5\n",
        "    mae = mean_absolute_error(y_true, y_pred)\n",
        "    r2 = r2_score(y_true, y_pred)\n",
        "\n",
        "    print(f\"Mean Squared Error (MSE): {mse:.4f}\")\n",
        "    print(f\"Root Mean Squared Error (RMSE): {rmse:.4f}\")\n",
        "    print(f\"Mean Absolute Error (MAE): {mae:.4f}\")\n",
        "    print(f\"R-squared (R²): {r2:.4f}\")\n",
        "\n",
        "    return mse, rmse, mae, r2\n",
        "\n",
        "# Call the evaluation function\n",
        "mse, rmse, mae, r2 = evaluate_model(model, test_loader, device)\n"
      ],
      "metadata": {
        "colab": {
          "base_uri": "https://localhost:8080/",
          "height": 180
        },
        "id": "g9PRjxB2czcO",
        "outputId": "1a484245-9d42-4c00-f6a4-0b29ee87b4c1"
      },
      "execution_count": null,
      "outputs": [
        {
          "output_type": "error",
          "ename": "NameError",
          "evalue": "name 'model' is not defined",
          "traceback": [
            "\u001b[0;31m---------------------------------------------------------------------------\u001b[0m",
            "\u001b[0;31mNameError\u001b[0m                                 Traceback (most recent call last)",
            "\u001b[0;32m<ipython-input-2-d5e9c6d0b478>\u001b[0m in \u001b[0;36m<cell line: 29>\u001b[0;34m()\u001b[0m\n\u001b[1;32m     27\u001b[0m \u001b[0;34m\u001b[0m\u001b[0m\n\u001b[1;32m     28\u001b[0m \u001b[0;31m# Call the evaluation function\u001b[0m\u001b[0;34m\u001b[0m\u001b[0;34m\u001b[0m\u001b[0m\n\u001b[0;32m---> 29\u001b[0;31m \u001b[0mmse\u001b[0m\u001b[0;34m,\u001b[0m \u001b[0mrmse\u001b[0m\u001b[0;34m,\u001b[0m \u001b[0mmae\u001b[0m\u001b[0;34m,\u001b[0m \u001b[0mr2\u001b[0m \u001b[0;34m=\u001b[0m \u001b[0mevaluate_model\u001b[0m\u001b[0;34m(\u001b[0m\u001b[0mmodel\u001b[0m\u001b[0;34m,\u001b[0m \u001b[0mtest_loader\u001b[0m\u001b[0;34m,\u001b[0m \u001b[0mdevice\u001b[0m\u001b[0;34m)\u001b[0m\u001b[0;34m\u001b[0m\u001b[0;34m\u001b[0m\u001b[0m\n\u001b[0m",
            "\u001b[0;31mNameError\u001b[0m: name 'model' is not defined"
          ]
        }
      ]
    },
    {
      "cell_type": "code",
      "source": [
        " !pip install rdkit"
      ],
      "metadata": {
        "colab": {
          "base_uri": "https://localhost:8080/"
        },
        "id": "OwrvWnkDaYyP",
        "outputId": "378c764d-8f17-4380-bcd3-b234f2d85065"
      },
      "execution_count": null,
      "outputs": [
        {
          "output_type": "stream",
          "name": "stdout",
          "text": [
            "Collecting rdkit\n",
            "  Downloading rdkit-2024.3.6-cp310-cp310-manylinux_2_28_x86_64.whl.metadata (4.0 kB)\n",
            "Requirement already satisfied: numpy in /usr/local/lib/python3.10/dist-packages (from rdkit) (1.26.4)\n",
            "Requirement already satisfied: Pillow in /usr/local/lib/python3.10/dist-packages (from rdkit) (11.0.0)\n",
            "Downloading rdkit-2024.3.6-cp310-cp310-manylinux_2_28_x86_64.whl (32.8 MB)\n",
            "\u001b[2K   \u001b[90m━━━━━━━━━━━━━━━━━━━━━━━━━━━━━━━━━━━━━━━━\u001b[0m \u001b[32m32.8/32.8 MB\u001b[0m \u001b[31m59.3 MB/s\u001b[0m eta \u001b[36m0:00:00\u001b[0m\n",
            "\u001b[?25hInstalling collected packages: rdkit\n",
            "Successfully installed rdkit-2024.3.6\n"
          ]
        }
      ]
    },
    {
      "cell_type": "code",
      "source": [
        "!pip install torch torchvision torchaudio\n"
      ],
      "metadata": {
        "colab": {
          "base_uri": "https://localhost:8080/"
        },
        "id": "ZWug-njVBirt",
        "outputId": "3687f71b-8a44-42f5-fb5d-f337e9cbed88"
      },
      "execution_count": null,
      "outputs": [
        {
          "output_type": "stream",
          "name": "stdout",
          "text": [
            "Requirement already satisfied: torch in /usr/local/lib/python3.10/dist-packages (2.5.1+cu121)\n",
            "Requirement already satisfied: torchvision in /usr/local/lib/python3.10/dist-packages (0.20.1+cu121)\n",
            "Requirement already satisfied: torchaudio in /usr/local/lib/python3.10/dist-packages (2.5.1+cu121)\n",
            "Requirement already satisfied: filelock in /usr/local/lib/python3.10/dist-packages (from torch) (3.16.1)\n",
            "Requirement already satisfied: typing-extensions>=4.8.0 in /usr/local/lib/python3.10/dist-packages (from torch) (4.12.2)\n",
            "Requirement already satisfied: networkx in /usr/local/lib/python3.10/dist-packages (from torch) (3.4.2)\n",
            "Requirement already satisfied: jinja2 in /usr/local/lib/python3.10/dist-packages (from torch) (3.1.4)\n",
            "Requirement already satisfied: fsspec in /usr/local/lib/python3.10/dist-packages (from torch) (2024.10.0)\n",
            "Requirement already satisfied: sympy==1.13.1 in /usr/local/lib/python3.10/dist-packages (from torch) (1.13.1)\n",
            "Requirement already satisfied: mpmath<1.4,>=1.1.0 in /usr/local/lib/python3.10/dist-packages (from sympy==1.13.1->torch) (1.3.0)\n",
            "Requirement already satisfied: numpy in /usr/local/lib/python3.10/dist-packages (from torchvision) (1.26.4)\n",
            "Requirement already satisfied: pillow!=8.3.*,>=5.3.0 in /usr/local/lib/python3.10/dist-packages (from torchvision) (11.0.0)\n",
            "Requirement already satisfied: MarkupSafe>=2.0 in /usr/local/lib/python3.10/dist-packages (from jinja2->torch) (3.0.2)\n"
          ]
        }
      ]
    },
    {
      "cell_type": "code",
      "source": [
        "import torch\n",
        "import torch.nn.functional as F\n",
        "from torch_geometric.data import Data\n",
        "import random\n",
        "\n",
        "# Function to sample a new graph embedding\n",
        "def generate_new_graph(model, latent_dim, node_dim, edge_dim, max_nodes=40):\n",
        "    # Step 1: Sample a latent vector\n",
        "    latent_vector = torch.randn(1, latent_dim)  # Random embedding\n",
        "\n",
        "    # Step 2: Decode latent vector to generate nodes and edges\n",
        "    # Assuming your model has a decoder implemented\n",
        "    decoded_nodes = model.fc2(latent_vector)  # Decode into node features\n",
        "    decoded_nodes = decoded_nodes.view(-1, node_dim)[:max_nodes]\n",
        "\n",
        "    decoded_edges = torch.randint(0, max_nodes, (2, random.randint(5, max_nodes)))  # Random connectivity\n",
        "    decoded_edge_features = torch.randn(decoded_edges.size(1), edge_dim)  # Random edge features\n",
        "\n",
        "    # Step 3: Assemble the graph\n",
        "    new_graph = Data(x=decoded_nodes, edge_index=decoded_edges, edge_attr=decoded_edge_features)\n",
        "    return new_graph\n",
        "\n",
        "# Generate a new graph\n",
        "latent_dim = 64  # Same as your model's latent size\n",
        "node_dim = 7     # Number of node features\n",
        "edge_dim = 6     # Number of edge features\n",
        "\n",
        "new_graph = generate_new_graph(model, latent_dim, node_dim, edge_dim)\n",
        "\n",
        "# Inspect the new graph\n",
        "print(f\"Generated Graph:\")\n",
        "print(f\"Node Features: {new_graph.x.shape}\")\n",
        "print(f\"Edge Connectivity: {new_graph.edge_index.shape}\")\n",
        "print(f\"Edge Features: {new_graph.edge_attr.shape}\")\n",
        "\n",
        "# Optionally visualize it\n",
        "import networkx as nx\n",
        "import matplotlib.pyplot as plt\n",
        "\n",
        "def visualize_generated_graph(graph):\n",
        "    G = nx.Graph()\n",
        "    for i in range(graph.x.size(0)):\n",
        "        G.add_node(i)\n",
        "    for src, dest in graph.edge_index.t().tolist():\n",
        "        G.add_edge(src, dest)\n",
        "\n",
        "    plt.figure(figsize=(8, 6))\n",
        "    nx.draw(G, with_labels=True, node_color=\"skyblue\", node_size=700, edge_color=\"gray\")\n",
        "    plt.title(\"Generated Molecule Graph\")\n",
        "    plt.show()\n",
        "\n",
        "visualize_generated_graph(new_graph)\n"
      ],
      "metadata": {
        "colab": {
          "base_uri": "https://localhost:8080/",
          "height": 382
        },
        "id": "nmFLs8WgaYuF",
        "outputId": "22815f23-23a6-4155-a03a-1bc0442c2af1"
      },
      "execution_count": null,
      "outputs": [
        {
          "output_type": "error",
          "ename": "RuntimeError",
          "evalue": "Expected all tensors to be on the same device, but found at least two devices, cuda:0 and cpu! (when checking argument for argument mat1 in method wrapper_CUDA_addmm)",
          "traceback": [
            "\u001b[0;31m---------------------------------------------------------------------------\u001b[0m",
            "\u001b[0;31mRuntimeError\u001b[0m                              Traceback (most recent call last)",
            "\u001b[0;32m<ipython-input-34-766593c59d10>\u001b[0m in \u001b[0;36m<cell line: 28>\u001b[0;34m()\u001b[0m\n\u001b[1;32m     26\u001b[0m \u001b[0medge_dim\u001b[0m \u001b[0;34m=\u001b[0m \u001b[0;36m6\u001b[0m     \u001b[0;31m# Number of edge features\u001b[0m\u001b[0;34m\u001b[0m\u001b[0;34m\u001b[0m\u001b[0m\n\u001b[1;32m     27\u001b[0m \u001b[0;34m\u001b[0m\u001b[0m\n\u001b[0;32m---> 28\u001b[0;31m \u001b[0mnew_graph\u001b[0m \u001b[0;34m=\u001b[0m \u001b[0mgenerate_new_graph\u001b[0m\u001b[0;34m(\u001b[0m\u001b[0mmodel\u001b[0m\u001b[0;34m,\u001b[0m \u001b[0mlatent_dim\u001b[0m\u001b[0;34m,\u001b[0m \u001b[0mnode_dim\u001b[0m\u001b[0;34m,\u001b[0m \u001b[0medge_dim\u001b[0m\u001b[0;34m)\u001b[0m\u001b[0;34m\u001b[0m\u001b[0;34m\u001b[0m\u001b[0m\n\u001b[0m\u001b[1;32m     29\u001b[0m \u001b[0;34m\u001b[0m\u001b[0m\n\u001b[1;32m     30\u001b[0m \u001b[0;31m# Inspect the new graph\u001b[0m\u001b[0;34m\u001b[0m\u001b[0;34m\u001b[0m\u001b[0m\n",
            "\u001b[0;32m<ipython-input-34-766593c59d10>\u001b[0m in \u001b[0;36mgenerate_new_graph\u001b[0;34m(model, latent_dim, node_dim, edge_dim, max_nodes)\u001b[0m\n\u001b[1;32m     11\u001b[0m     \u001b[0;31m# Step 2: Decode latent vector to generate nodes and edges\u001b[0m\u001b[0;34m\u001b[0m\u001b[0;34m\u001b[0m\u001b[0m\n\u001b[1;32m     12\u001b[0m     \u001b[0;31m# Assuming your model has a decoder implemented\u001b[0m\u001b[0;34m\u001b[0m\u001b[0;34m\u001b[0m\u001b[0m\n\u001b[0;32m---> 13\u001b[0;31m     \u001b[0mdecoded_nodes\u001b[0m \u001b[0;34m=\u001b[0m \u001b[0mmodel\u001b[0m\u001b[0;34m.\u001b[0m\u001b[0mfc2\u001b[0m\u001b[0;34m(\u001b[0m\u001b[0mlatent_vector\u001b[0m\u001b[0;34m)\u001b[0m  \u001b[0;31m# Decode into node features\u001b[0m\u001b[0;34m\u001b[0m\u001b[0;34m\u001b[0m\u001b[0m\n\u001b[0m\u001b[1;32m     14\u001b[0m     \u001b[0mdecoded_nodes\u001b[0m \u001b[0;34m=\u001b[0m \u001b[0mdecoded_nodes\u001b[0m\u001b[0;34m.\u001b[0m\u001b[0mview\u001b[0m\u001b[0;34m(\u001b[0m\u001b[0;34m-\u001b[0m\u001b[0;36m1\u001b[0m\u001b[0;34m,\u001b[0m \u001b[0mnode_dim\u001b[0m\u001b[0;34m)\u001b[0m\u001b[0;34m[\u001b[0m\u001b[0;34m:\u001b[0m\u001b[0mmax_nodes\u001b[0m\u001b[0;34m]\u001b[0m\u001b[0;34m\u001b[0m\u001b[0;34m\u001b[0m\u001b[0m\n\u001b[1;32m     15\u001b[0m \u001b[0;34m\u001b[0m\u001b[0m\n",
            "\u001b[0;32m/usr/local/lib/python3.10/dist-packages/torch/nn/modules/module.py\u001b[0m in \u001b[0;36m_wrapped_call_impl\u001b[0;34m(self, *args, **kwargs)\u001b[0m\n\u001b[1;32m   1734\u001b[0m             \u001b[0;32mreturn\u001b[0m \u001b[0mself\u001b[0m\u001b[0;34m.\u001b[0m\u001b[0m_compiled_call_impl\u001b[0m\u001b[0;34m(\u001b[0m\u001b[0;34m*\u001b[0m\u001b[0margs\u001b[0m\u001b[0;34m,\u001b[0m \u001b[0;34m**\u001b[0m\u001b[0mkwargs\u001b[0m\u001b[0;34m)\u001b[0m  \u001b[0;31m# type: ignore[misc]\u001b[0m\u001b[0;34m\u001b[0m\u001b[0;34m\u001b[0m\u001b[0m\n\u001b[1;32m   1735\u001b[0m         \u001b[0;32melse\u001b[0m\u001b[0;34m:\u001b[0m\u001b[0;34m\u001b[0m\u001b[0;34m\u001b[0m\u001b[0m\n\u001b[0;32m-> 1736\u001b[0;31m             \u001b[0;32mreturn\u001b[0m \u001b[0mself\u001b[0m\u001b[0;34m.\u001b[0m\u001b[0m_call_impl\u001b[0m\u001b[0;34m(\u001b[0m\u001b[0;34m*\u001b[0m\u001b[0margs\u001b[0m\u001b[0;34m,\u001b[0m \u001b[0;34m**\u001b[0m\u001b[0mkwargs\u001b[0m\u001b[0;34m)\u001b[0m\u001b[0;34m\u001b[0m\u001b[0;34m\u001b[0m\u001b[0m\n\u001b[0m\u001b[1;32m   1737\u001b[0m \u001b[0;34m\u001b[0m\u001b[0m\n\u001b[1;32m   1738\u001b[0m     \u001b[0;31m# torchrec tests the code consistency with the following code\u001b[0m\u001b[0;34m\u001b[0m\u001b[0;34m\u001b[0m\u001b[0m\n",
            "\u001b[0;32m/usr/local/lib/python3.10/dist-packages/torch/nn/modules/module.py\u001b[0m in \u001b[0;36m_call_impl\u001b[0;34m(self, *args, **kwargs)\u001b[0m\n\u001b[1;32m   1745\u001b[0m                 \u001b[0;32mor\u001b[0m \u001b[0m_global_backward_pre_hooks\u001b[0m \u001b[0;32mor\u001b[0m \u001b[0m_global_backward_hooks\u001b[0m\u001b[0;34m\u001b[0m\u001b[0;34m\u001b[0m\u001b[0m\n\u001b[1;32m   1746\u001b[0m                 or _global_forward_hooks or _global_forward_pre_hooks):\n\u001b[0;32m-> 1747\u001b[0;31m             \u001b[0;32mreturn\u001b[0m \u001b[0mforward_call\u001b[0m\u001b[0;34m(\u001b[0m\u001b[0;34m*\u001b[0m\u001b[0margs\u001b[0m\u001b[0;34m,\u001b[0m \u001b[0;34m**\u001b[0m\u001b[0mkwargs\u001b[0m\u001b[0;34m)\u001b[0m\u001b[0;34m\u001b[0m\u001b[0;34m\u001b[0m\u001b[0m\n\u001b[0m\u001b[1;32m   1748\u001b[0m \u001b[0;34m\u001b[0m\u001b[0m\n\u001b[1;32m   1749\u001b[0m         \u001b[0mresult\u001b[0m \u001b[0;34m=\u001b[0m \u001b[0;32mNone\u001b[0m\u001b[0;34m\u001b[0m\u001b[0;34m\u001b[0m\u001b[0m\n",
            "\u001b[0;32m/usr/local/lib/python3.10/dist-packages/torch/nn/modules/linear.py\u001b[0m in \u001b[0;36mforward\u001b[0;34m(self, input)\u001b[0m\n\u001b[1;32m    123\u001b[0m \u001b[0;34m\u001b[0m\u001b[0m\n\u001b[1;32m    124\u001b[0m     \u001b[0;32mdef\u001b[0m \u001b[0mforward\u001b[0m\u001b[0;34m(\u001b[0m\u001b[0mself\u001b[0m\u001b[0;34m,\u001b[0m \u001b[0minput\u001b[0m\u001b[0;34m:\u001b[0m \u001b[0mTensor\u001b[0m\u001b[0;34m)\u001b[0m \u001b[0;34m->\u001b[0m \u001b[0mTensor\u001b[0m\u001b[0;34m:\u001b[0m\u001b[0;34m\u001b[0m\u001b[0;34m\u001b[0m\u001b[0m\n\u001b[0;32m--> 125\u001b[0;31m         \u001b[0;32mreturn\u001b[0m \u001b[0mF\u001b[0m\u001b[0;34m.\u001b[0m\u001b[0mlinear\u001b[0m\u001b[0;34m(\u001b[0m\u001b[0minput\u001b[0m\u001b[0;34m,\u001b[0m \u001b[0mself\u001b[0m\u001b[0;34m.\u001b[0m\u001b[0mweight\u001b[0m\u001b[0;34m,\u001b[0m \u001b[0mself\u001b[0m\u001b[0;34m.\u001b[0m\u001b[0mbias\u001b[0m\u001b[0;34m)\u001b[0m\u001b[0;34m\u001b[0m\u001b[0;34m\u001b[0m\u001b[0m\n\u001b[0m\u001b[1;32m    126\u001b[0m \u001b[0;34m\u001b[0m\u001b[0m\n\u001b[1;32m    127\u001b[0m     \u001b[0;32mdef\u001b[0m \u001b[0mextra_repr\u001b[0m\u001b[0;34m(\u001b[0m\u001b[0mself\u001b[0m\u001b[0;34m)\u001b[0m \u001b[0;34m->\u001b[0m \u001b[0mstr\u001b[0m\u001b[0;34m:\u001b[0m\u001b[0;34m\u001b[0m\u001b[0;34m\u001b[0m\u001b[0m\n",
            "\u001b[0;31mRuntimeError\u001b[0m: Expected all tensors to be on the same device, but found at least two devices, cuda:0 and cpu! (when checking argument for argument mat1 in method wrapper_CUDA_addmm)"
          ]
        }
      ]
    },
    {
      "cell_type": "code",
      "source": [
        "import torch\n",
        "\n",
        "# Step 2.1: Extract embeddings for a dataset\n",
        "def extract_embeddings(model, dataloader, device='cpu'):\n",
        "    model.eval()  # Set model to evaluation mode\n",
        "    embeddings = []\n",
        "    with torch.no_grad():\n",
        "        for batch in dataloader:\n",
        "            batch = batch.to(device)\n",
        "            embedding = model.forward(batch)  # Pass through the model\n",
        "            embeddings.append(embedding)\n",
        "    return torch.cat(embeddings, dim=0)\n",
        "\n",
        "# Example usage:\n",
        "train_embeddings = extract_embeddings(model, train_loader)\n"
      ],
      "metadata": {
        "colab": {
          "base_uri": "https://localhost:8080/",
          "height": 347
        },
        "id": "-faCUwSbBGEM",
        "outputId": "6f52e928-ba2b-4e09-b375-a3da821d8f8e"
      },
      "execution_count": null,
      "outputs": [
        {
          "output_type": "error",
          "ename": "RuntimeError",
          "evalue": "Expected all tensors to be on the same device, but found at least two devices, cpu and cuda:0! (when checking argument for argument mat2 in method wrapper_CUDA_mm)",
          "traceback": [
            "\u001b[0;31m---------------------------------------------------------------------------\u001b[0m",
            "\u001b[0;31mRuntimeError\u001b[0m                              Traceback (most recent call last)",
            "\u001b[0;32m<ipython-input-35-0459ce5fdd0e>\u001b[0m in \u001b[0;36m<cell line: 15>\u001b[0;34m()\u001b[0m\n\u001b[1;32m     13\u001b[0m \u001b[0;34m\u001b[0m\u001b[0m\n\u001b[1;32m     14\u001b[0m \u001b[0;31m# Example usage:\u001b[0m\u001b[0;34m\u001b[0m\u001b[0;34m\u001b[0m\u001b[0m\n\u001b[0;32m---> 15\u001b[0;31m \u001b[0mtrain_embeddings\u001b[0m \u001b[0;34m=\u001b[0m \u001b[0mextract_embeddings\u001b[0m\u001b[0;34m(\u001b[0m\u001b[0mmodel\u001b[0m\u001b[0;34m,\u001b[0m \u001b[0mtrain_loader\u001b[0m\u001b[0;34m)\u001b[0m\u001b[0;34m\u001b[0m\u001b[0;34m\u001b[0m\u001b[0m\n\u001b[0m",
            "\u001b[0;32m<ipython-input-35-0459ce5fdd0e>\u001b[0m in \u001b[0;36mextract_embeddings\u001b[0;34m(model, dataloader, device)\u001b[0m\n\u001b[1;32m      8\u001b[0m         \u001b[0;32mfor\u001b[0m \u001b[0mbatch\u001b[0m \u001b[0;32min\u001b[0m \u001b[0mdataloader\u001b[0m\u001b[0;34m:\u001b[0m\u001b[0;34m\u001b[0m\u001b[0;34m\u001b[0m\u001b[0m\n\u001b[1;32m      9\u001b[0m             \u001b[0mbatch\u001b[0m \u001b[0;34m=\u001b[0m \u001b[0mbatch\u001b[0m\u001b[0;34m.\u001b[0m\u001b[0mto\u001b[0m\u001b[0;34m(\u001b[0m\u001b[0mdevice\u001b[0m\u001b[0;34m)\u001b[0m\u001b[0;34m\u001b[0m\u001b[0;34m\u001b[0m\u001b[0m\n\u001b[0;32m---> 10\u001b[0;31m             \u001b[0membedding\u001b[0m \u001b[0;34m=\u001b[0m \u001b[0mmodel\u001b[0m\u001b[0;34m.\u001b[0m\u001b[0mforward\u001b[0m\u001b[0;34m(\u001b[0m\u001b[0mbatch\u001b[0m\u001b[0;34m)\u001b[0m  \u001b[0;31m# Pass through the model\u001b[0m\u001b[0;34m\u001b[0m\u001b[0;34m\u001b[0m\u001b[0m\n\u001b[0m\u001b[1;32m     11\u001b[0m             \u001b[0membeddings\u001b[0m\u001b[0;34m.\u001b[0m\u001b[0mappend\u001b[0m\u001b[0;34m(\u001b[0m\u001b[0membedding\u001b[0m\u001b[0;34m)\u001b[0m\u001b[0;34m\u001b[0m\u001b[0;34m\u001b[0m\u001b[0m\n\u001b[1;32m     12\u001b[0m     \u001b[0;32mreturn\u001b[0m \u001b[0mtorch\u001b[0m\u001b[0;34m.\u001b[0m\u001b[0mcat\u001b[0m\u001b[0;34m(\u001b[0m\u001b[0membeddings\u001b[0m\u001b[0;34m,\u001b[0m \u001b[0mdim\u001b[0m\u001b[0;34m=\u001b[0m\u001b[0;36m0\u001b[0m\u001b[0;34m)\u001b[0m\u001b[0;34m\u001b[0m\u001b[0;34m\u001b[0m\u001b[0m\n",
            "\u001b[0;32m<ipython-input-23-bc1027068984>\u001b[0m in \u001b[0;36mforward\u001b[0;34m(self, data)\u001b[0m\n\u001b[1;32m     19\u001b[0m \u001b[0;34m\u001b[0m\u001b[0m\n\u001b[1;32m     20\u001b[0m         \u001b[0;31m# Apply GCN layers\u001b[0m\u001b[0;34m\u001b[0m\u001b[0;34m\u001b[0m\u001b[0m\n\u001b[0;32m---> 21\u001b[0;31m         \u001b[0mx\u001b[0m \u001b[0;34m=\u001b[0m \u001b[0mF\u001b[0m\u001b[0;34m.\u001b[0m\u001b[0mrelu\u001b[0m\u001b[0;34m(\u001b[0m\u001b[0mself\u001b[0m\u001b[0;34m.\u001b[0m\u001b[0mconv1\u001b[0m\u001b[0;34m(\u001b[0m\u001b[0mx\u001b[0m\u001b[0;34m,\u001b[0m \u001b[0medge_index\u001b[0m\u001b[0;34m)\u001b[0m\u001b[0;34m)\u001b[0m\u001b[0;34m\u001b[0m\u001b[0;34m\u001b[0m\u001b[0m\n\u001b[0m\u001b[1;32m     22\u001b[0m         \u001b[0mx\u001b[0m \u001b[0;34m=\u001b[0m \u001b[0mF\u001b[0m\u001b[0;34m.\u001b[0m\u001b[0mrelu\u001b[0m\u001b[0;34m(\u001b[0m\u001b[0mself\u001b[0m\u001b[0;34m.\u001b[0m\u001b[0mconv2\u001b[0m\u001b[0;34m(\u001b[0m\u001b[0mx\u001b[0m\u001b[0;34m,\u001b[0m \u001b[0medge_index\u001b[0m\u001b[0;34m)\u001b[0m\u001b[0;34m)\u001b[0m\u001b[0;34m\u001b[0m\u001b[0;34m\u001b[0m\u001b[0m\n\u001b[1;32m     23\u001b[0m \u001b[0;34m\u001b[0m\u001b[0m\n",
            "\u001b[0;32m/usr/local/lib/python3.10/dist-packages/torch/nn/modules/module.py\u001b[0m in \u001b[0;36m_wrapped_call_impl\u001b[0;34m(self, *args, **kwargs)\u001b[0m\n\u001b[1;32m   1734\u001b[0m             \u001b[0;32mreturn\u001b[0m \u001b[0mself\u001b[0m\u001b[0;34m.\u001b[0m\u001b[0m_compiled_call_impl\u001b[0m\u001b[0;34m(\u001b[0m\u001b[0;34m*\u001b[0m\u001b[0margs\u001b[0m\u001b[0;34m,\u001b[0m \u001b[0;34m**\u001b[0m\u001b[0mkwargs\u001b[0m\u001b[0;34m)\u001b[0m  \u001b[0;31m# type: ignore[misc]\u001b[0m\u001b[0;34m\u001b[0m\u001b[0;34m\u001b[0m\u001b[0m\n\u001b[1;32m   1735\u001b[0m         \u001b[0;32melse\u001b[0m\u001b[0;34m:\u001b[0m\u001b[0;34m\u001b[0m\u001b[0;34m\u001b[0m\u001b[0m\n\u001b[0;32m-> 1736\u001b[0;31m             \u001b[0;32mreturn\u001b[0m \u001b[0mself\u001b[0m\u001b[0;34m.\u001b[0m\u001b[0m_call_impl\u001b[0m\u001b[0;34m(\u001b[0m\u001b[0;34m*\u001b[0m\u001b[0margs\u001b[0m\u001b[0;34m,\u001b[0m \u001b[0;34m**\u001b[0m\u001b[0mkwargs\u001b[0m\u001b[0;34m)\u001b[0m\u001b[0;34m\u001b[0m\u001b[0;34m\u001b[0m\u001b[0m\n\u001b[0m\u001b[1;32m   1737\u001b[0m \u001b[0;34m\u001b[0m\u001b[0m\n\u001b[1;32m   1738\u001b[0m     \u001b[0;31m# torchrec tests the code consistency with the following code\u001b[0m\u001b[0;34m\u001b[0m\u001b[0;34m\u001b[0m\u001b[0m\n",
            "\u001b[0;32m/usr/local/lib/python3.10/dist-packages/torch/nn/modules/module.py\u001b[0m in \u001b[0;36m_call_impl\u001b[0;34m(self, *args, **kwargs)\u001b[0m\n\u001b[1;32m   1745\u001b[0m                 \u001b[0;32mor\u001b[0m \u001b[0m_global_backward_pre_hooks\u001b[0m \u001b[0;32mor\u001b[0m \u001b[0m_global_backward_hooks\u001b[0m\u001b[0;34m\u001b[0m\u001b[0;34m\u001b[0m\u001b[0m\n\u001b[1;32m   1746\u001b[0m                 or _global_forward_hooks or _global_forward_pre_hooks):\n\u001b[0;32m-> 1747\u001b[0;31m             \u001b[0;32mreturn\u001b[0m \u001b[0mforward_call\u001b[0m\u001b[0;34m(\u001b[0m\u001b[0;34m*\u001b[0m\u001b[0margs\u001b[0m\u001b[0;34m,\u001b[0m \u001b[0;34m**\u001b[0m\u001b[0mkwargs\u001b[0m\u001b[0;34m)\u001b[0m\u001b[0;34m\u001b[0m\u001b[0;34m\u001b[0m\u001b[0m\n\u001b[0m\u001b[1;32m   1748\u001b[0m \u001b[0;34m\u001b[0m\u001b[0m\n\u001b[1;32m   1749\u001b[0m         \u001b[0mresult\u001b[0m \u001b[0;34m=\u001b[0m \u001b[0;32mNone\u001b[0m\u001b[0;34m\u001b[0m\u001b[0;34m\u001b[0m\u001b[0m\n",
            "\u001b[0;32m/usr/local/lib/python3.10/dist-packages/torch_geometric/nn/conv/gcn_conv.py\u001b[0m in \u001b[0;36mforward\u001b[0;34m(self, x, edge_index, edge_weight)\u001b[0m\n\u001b[1;32m    258\u001b[0m                     \u001b[0medge_index\u001b[0m \u001b[0;34m=\u001b[0m \u001b[0mcache\u001b[0m\u001b[0;34m\u001b[0m\u001b[0;34m\u001b[0m\u001b[0m\n\u001b[1;32m    259\u001b[0m \u001b[0;34m\u001b[0m\u001b[0m\n\u001b[0;32m--> 260\u001b[0;31m         \u001b[0mx\u001b[0m \u001b[0;34m=\u001b[0m \u001b[0mself\u001b[0m\u001b[0;34m.\u001b[0m\u001b[0mlin\u001b[0m\u001b[0;34m(\u001b[0m\u001b[0mx\u001b[0m\u001b[0;34m)\u001b[0m\u001b[0;34m\u001b[0m\u001b[0;34m\u001b[0m\u001b[0m\n\u001b[0m\u001b[1;32m    261\u001b[0m \u001b[0;34m\u001b[0m\u001b[0m\n\u001b[1;32m    262\u001b[0m         \u001b[0;31m# propagate_type: (x: Tensor, edge_weight: OptTensor)\u001b[0m\u001b[0;34m\u001b[0m\u001b[0;34m\u001b[0m\u001b[0m\n",
            "\u001b[0;32m/usr/local/lib/python3.10/dist-packages/torch/nn/modules/module.py\u001b[0m in \u001b[0;36m_wrapped_call_impl\u001b[0;34m(self, *args, **kwargs)\u001b[0m\n\u001b[1;32m   1734\u001b[0m             \u001b[0;32mreturn\u001b[0m \u001b[0mself\u001b[0m\u001b[0;34m.\u001b[0m\u001b[0m_compiled_call_impl\u001b[0m\u001b[0;34m(\u001b[0m\u001b[0;34m*\u001b[0m\u001b[0margs\u001b[0m\u001b[0;34m,\u001b[0m \u001b[0;34m**\u001b[0m\u001b[0mkwargs\u001b[0m\u001b[0;34m)\u001b[0m  \u001b[0;31m# type: ignore[misc]\u001b[0m\u001b[0;34m\u001b[0m\u001b[0;34m\u001b[0m\u001b[0m\n\u001b[1;32m   1735\u001b[0m         \u001b[0;32melse\u001b[0m\u001b[0;34m:\u001b[0m\u001b[0;34m\u001b[0m\u001b[0;34m\u001b[0m\u001b[0m\n\u001b[0;32m-> 1736\u001b[0;31m             \u001b[0;32mreturn\u001b[0m \u001b[0mself\u001b[0m\u001b[0;34m.\u001b[0m\u001b[0m_call_impl\u001b[0m\u001b[0;34m(\u001b[0m\u001b[0;34m*\u001b[0m\u001b[0margs\u001b[0m\u001b[0;34m,\u001b[0m \u001b[0;34m**\u001b[0m\u001b[0mkwargs\u001b[0m\u001b[0;34m)\u001b[0m\u001b[0;34m\u001b[0m\u001b[0;34m\u001b[0m\u001b[0m\n\u001b[0m\u001b[1;32m   1737\u001b[0m \u001b[0;34m\u001b[0m\u001b[0m\n\u001b[1;32m   1738\u001b[0m     \u001b[0;31m# torchrec tests the code consistency with the following code\u001b[0m\u001b[0;34m\u001b[0m\u001b[0;34m\u001b[0m\u001b[0m\n",
            "\u001b[0;32m/usr/local/lib/python3.10/dist-packages/torch/nn/modules/module.py\u001b[0m in \u001b[0;36m_call_impl\u001b[0;34m(self, *args, **kwargs)\u001b[0m\n\u001b[1;32m   1745\u001b[0m                 \u001b[0;32mor\u001b[0m \u001b[0m_global_backward_pre_hooks\u001b[0m \u001b[0;32mor\u001b[0m \u001b[0m_global_backward_hooks\u001b[0m\u001b[0;34m\u001b[0m\u001b[0;34m\u001b[0m\u001b[0m\n\u001b[1;32m   1746\u001b[0m                 or _global_forward_hooks or _global_forward_pre_hooks):\n\u001b[0;32m-> 1747\u001b[0;31m             \u001b[0;32mreturn\u001b[0m \u001b[0mforward_call\u001b[0m\u001b[0;34m(\u001b[0m\u001b[0;34m*\u001b[0m\u001b[0margs\u001b[0m\u001b[0;34m,\u001b[0m \u001b[0;34m**\u001b[0m\u001b[0mkwargs\u001b[0m\u001b[0;34m)\u001b[0m\u001b[0;34m\u001b[0m\u001b[0;34m\u001b[0m\u001b[0m\n\u001b[0m\u001b[1;32m   1748\u001b[0m \u001b[0;34m\u001b[0m\u001b[0m\n\u001b[1;32m   1749\u001b[0m         \u001b[0mresult\u001b[0m \u001b[0;34m=\u001b[0m \u001b[0;32mNone\u001b[0m\u001b[0;34m\u001b[0m\u001b[0;34m\u001b[0m\u001b[0m\n",
            "\u001b[0;32m/usr/local/lib/python3.10/dist-packages/torch_geometric/nn/dense/linear.py\u001b[0m in \u001b[0;36mforward\u001b[0;34m(self, x)\u001b[0m\n\u001b[1;32m    145\u001b[0m             \u001b[0mx\u001b[0m \u001b[0;34m(\u001b[0m\u001b[0mtorch\u001b[0m\u001b[0;34m.\u001b[0m\u001b[0mTensor\u001b[0m\u001b[0;34m)\u001b[0m\u001b[0;34m:\u001b[0m \u001b[0mThe\u001b[0m \u001b[0minput\u001b[0m \u001b[0mfeatures\u001b[0m\u001b[0;34m.\u001b[0m\u001b[0;34m\u001b[0m\u001b[0;34m\u001b[0m\u001b[0m\n\u001b[1;32m    146\u001b[0m         \"\"\"\n\u001b[0;32m--> 147\u001b[0;31m         \u001b[0;32mreturn\u001b[0m \u001b[0mF\u001b[0m\u001b[0;34m.\u001b[0m\u001b[0mlinear\u001b[0m\u001b[0;34m(\u001b[0m\u001b[0mx\u001b[0m\u001b[0;34m,\u001b[0m \u001b[0mself\u001b[0m\u001b[0;34m.\u001b[0m\u001b[0mweight\u001b[0m\u001b[0;34m,\u001b[0m \u001b[0mself\u001b[0m\u001b[0;34m.\u001b[0m\u001b[0mbias\u001b[0m\u001b[0;34m)\u001b[0m\u001b[0;34m\u001b[0m\u001b[0;34m\u001b[0m\u001b[0m\n\u001b[0m\u001b[1;32m    148\u001b[0m \u001b[0;34m\u001b[0m\u001b[0m\n\u001b[1;32m    149\u001b[0m     \u001b[0;34m@\u001b[0m\u001b[0mtorch\u001b[0m\u001b[0;34m.\u001b[0m\u001b[0mno_grad\u001b[0m\u001b[0;34m(\u001b[0m\u001b[0;34m)\u001b[0m\u001b[0;34m\u001b[0m\u001b[0;34m\u001b[0m\u001b[0m\n",
            "\u001b[0;31mRuntimeError\u001b[0m: Expected all tensors to be on the same device, but found at least two devices, cpu and cuda:0! (when checking argument for argument mat2 in method wrapper_CUDA_mm)"
          ]
        }
      ]
    },
    {
      "cell_type": "code",
      "source": [
        "import torch\n",
        "\n",
        "# Step 2.1: Extract embeddings for a dataset\n",
        "def extract_embeddings(model, dataloader, device='cpu'):\n",
        "    model = model.to(device)  # Move the model to the specified device\n",
        "    model.eval()  # Set model to evaluation mode\n",
        "    embeddings = []\n",
        "    with torch.no_grad():\n",
        "        for batch in dataloader:\n",
        "            batch = batch.to(device)  # Move the batch to the same device as the model\n",
        "            embedding = model(batch)  # Pass through the model\n",
        "            embeddings.append(embedding)\n",
        "    return torch.cat(embeddings, dim=0)\n",
        "\n",
        "# Define the device\n",
        "device = torch.device('cuda' if torch.cuda.is_available() else 'cpu')\n",
        "\n",
        "# Example usage:\n",
        "train_embeddings = extract_embeddings(model, train_loader, device=device)\n"
      ],
      "metadata": {
        "colab": {
          "base_uri": "https://localhost:8080/",
          "height": 180
        },
        "id": "56hX73iiBGB2",
        "outputId": "31eb6c3d-cd7f-4d57-888c-18bca5fd00a0"
      },
      "execution_count": null,
      "outputs": [
        {
          "output_type": "error",
          "ename": "NameError",
          "evalue": "name 'model' is not defined",
          "traceback": [
            "\u001b[0;31m---------------------------------------------------------------------------\u001b[0m",
            "\u001b[0;31mNameError\u001b[0m                                 Traceback (most recent call last)",
            "\u001b[0;32m<ipython-input-1-fc1974567cf9>\u001b[0m in \u001b[0;36m<cell line: 19>\u001b[0;34m()\u001b[0m\n\u001b[1;32m     17\u001b[0m \u001b[0;34m\u001b[0m\u001b[0m\n\u001b[1;32m     18\u001b[0m \u001b[0;31m# Example usage:\u001b[0m\u001b[0;34m\u001b[0m\u001b[0;34m\u001b[0m\u001b[0m\n\u001b[0;32m---> 19\u001b[0;31m \u001b[0mtrain_embeddings\u001b[0m \u001b[0;34m=\u001b[0m \u001b[0mextract_embeddings\u001b[0m\u001b[0;34m(\u001b[0m\u001b[0mmodel\u001b[0m\u001b[0;34m,\u001b[0m \u001b[0mtrain_loader\u001b[0m\u001b[0;34m,\u001b[0m \u001b[0mdevice\u001b[0m\u001b[0;34m=\u001b[0m\u001b[0mdevice\u001b[0m\u001b[0;34m)\u001b[0m\u001b[0;34m\u001b[0m\u001b[0;34m\u001b[0m\u001b[0m\n\u001b[0m",
            "\u001b[0;31mNameError\u001b[0m: name 'model' is not defined"
          ]
        }
      ]
    },
    {
      "cell_type": "code",
      "source": [],
      "metadata": {
        "id": "np0v2KtbBF_t"
      },
      "execution_count": null,
      "outputs": []
    },
    {
      "cell_type": "code",
      "source": [],
      "metadata": {
        "id": "GWsXJRMjBF9X"
      },
      "execution_count": null,
      "outputs": []
    },
    {
      "cell_type": "code",
      "source": [],
      "metadata": {
        "id": "s11Kg7uvBF68"
      },
      "execution_count": null,
      "outputs": []
    },
    {
      "cell_type": "code",
      "source": [],
      "metadata": {
        "id": "T7FYGiukaYrj"
      },
      "execution_count": null,
      "outputs": []
    },
    {
      "cell_type": "code",
      "source": [],
      "metadata": {
        "id": "oB508yx0aYi1"
      },
      "execution_count": null,
      "outputs": []
    },
    {
      "cell_type": "code",
      "source": [],
      "metadata": {
        "id": "DdYSZnOEOn02"
      },
      "execution_count": null,
      "outputs": []
    },
    {
      "cell_type": "code",
      "source": [
        "import pandas as pd\n",
        "import matplotlib.pyplot as plt\n"
      ],
      "metadata": {
        "id": "rcLDFUl4E84E"
      },
      "execution_count": null,
      "outputs": []
    },
    {
      "cell_type": "code",
      "source": [
        "df_encoded_features.columns"
      ],
      "metadata": {
        "colab": {
          "base_uri": "https://localhost:8080/"
        },
        "id": "HadNIBHxFcqY",
        "outputId": "780f166b-3c97-461d-881c-7ffb5eb5d151"
      },
      "execution_count": null,
      "outputs": [
        {
          "output_type": "execute_result",
          "data": {
            "text/plain": [
              "Index(['Smiles', 'pChEMBL Value', 'Node_Features', 'Edge_Features',\n",
              "       'Encoded_Node_Features', 'Encoded_Edge_Features', 'Num_Node_Features',\n",
              "       'Num_Edge_Features'],\n",
              "      dtype='object')"
            ]
          },
          "metadata": {},
          "execution_count": 7
        }
      ]
    },
    {
      "cell_type": "code",
      "source": [],
      "metadata": {
        "id": "7jdMzkAcBsQE"
      },
      "execution_count": null,
      "outputs": []
    },
    {
      "cell_type": "code",
      "source": [
        "!pip install torch torchvision torchaudio\n",
        "!pip install torch-geometric\n"
      ],
      "metadata": {
        "colab": {
          "base_uri": "https://localhost:8080/"
        },
        "id": "1BEZKzqQtAVe",
        "outputId": "52d7f491-17be-42fa-e741-3a25a2793b38"
      },
      "execution_count": null,
      "outputs": [
        {
          "output_type": "stream",
          "name": "stdout",
          "text": [
            "Requirement already satisfied: torch in /usr/local/lib/python3.10/dist-packages (2.5.1+cu121)\n",
            "Requirement already satisfied: torchvision in /usr/local/lib/python3.10/dist-packages (0.20.1+cu121)\n",
            "Requirement already satisfied: torchaudio in /usr/local/lib/python3.10/dist-packages (2.5.1+cu121)\n",
            "Requirement already satisfied: filelock in /usr/local/lib/python3.10/dist-packages (from torch) (3.16.1)\n",
            "Requirement already satisfied: typing-extensions>=4.8.0 in /usr/local/lib/python3.10/dist-packages (from torch) (4.12.2)\n",
            "Requirement already satisfied: networkx in /usr/local/lib/python3.10/dist-packages (from torch) (3.4.2)\n",
            "Requirement already satisfied: jinja2 in /usr/local/lib/python3.10/dist-packages (from torch) (3.1.4)\n",
            "Requirement already satisfied: fsspec in /usr/local/lib/python3.10/dist-packages (from torch) (2024.10.0)\n",
            "Requirement already satisfied: sympy==1.13.1 in /usr/local/lib/python3.10/dist-packages (from torch) (1.13.1)\n",
            "Requirement already satisfied: mpmath<1.4,>=1.1.0 in /usr/local/lib/python3.10/dist-packages (from sympy==1.13.1->torch) (1.3.0)\n",
            "Requirement already satisfied: numpy in /usr/local/lib/python3.10/dist-packages (from torchvision) (1.26.4)\n",
            "Requirement already satisfied: pillow!=8.3.*,>=5.3.0 in /usr/local/lib/python3.10/dist-packages (from torchvision) (11.0.0)\n",
            "Requirement already satisfied: MarkupSafe>=2.0 in /usr/local/lib/python3.10/dist-packages (from jinja2->torch) (3.0.2)\n",
            "Collecting torch-geometric\n",
            "  Downloading torch_geometric-2.6.1-py3-none-any.whl.metadata (63 kB)\n",
            "\u001b[2K     \u001b[90m━━━━━━━━━━━━━━━━━━━━━━━━━━━━━━━━━━━━━━━━\u001b[0m \u001b[32m63.1/63.1 kB\u001b[0m \u001b[31m2.3 MB/s\u001b[0m eta \u001b[36m0:00:00\u001b[0m\n",
            "\u001b[?25hRequirement already satisfied: aiohttp in /usr/local/lib/python3.10/dist-packages (from torch-geometric) (3.11.2)\n",
            "Requirement already satisfied: fsspec in /usr/local/lib/python3.10/dist-packages (from torch-geometric) (2024.10.0)\n",
            "Requirement already satisfied: jinja2 in /usr/local/lib/python3.10/dist-packages (from torch-geometric) (3.1.4)\n",
            "Requirement already satisfied: numpy in /usr/local/lib/python3.10/dist-packages (from torch-geometric) (1.26.4)\n",
            "Requirement already satisfied: psutil>=5.8.0 in /usr/local/lib/python3.10/dist-packages (from torch-geometric) (5.9.5)\n",
            "Requirement already satisfied: pyparsing in /usr/local/lib/python3.10/dist-packages (from torch-geometric) (3.2.0)\n",
            "Requirement already satisfied: requests in /usr/local/lib/python3.10/dist-packages (from torch-geometric) (2.32.3)\n",
            "Requirement already satisfied: tqdm in /usr/local/lib/python3.10/dist-packages (from torch-geometric) (4.66.6)\n",
            "Requirement already satisfied: aiohappyeyeballs>=2.3.0 in /usr/local/lib/python3.10/dist-packages (from aiohttp->torch-geometric) (2.4.3)\n",
            "Requirement already satisfied: aiosignal>=1.1.2 in /usr/local/lib/python3.10/dist-packages (from aiohttp->torch-geometric) (1.3.1)\n",
            "Requirement already satisfied: attrs>=17.3.0 in /usr/local/lib/python3.10/dist-packages (from aiohttp->torch-geometric) (24.2.0)\n",
            "Requirement already satisfied: frozenlist>=1.1.1 in /usr/local/lib/python3.10/dist-packages (from aiohttp->torch-geometric) (1.5.0)\n",
            "Requirement already satisfied: multidict<7.0,>=4.5 in /usr/local/lib/python3.10/dist-packages (from aiohttp->torch-geometric) (6.1.0)\n",
            "Requirement already satisfied: propcache>=0.2.0 in /usr/local/lib/python3.10/dist-packages (from aiohttp->torch-geometric) (0.2.0)\n",
            "Requirement already satisfied: yarl<2.0,>=1.17.0 in /usr/local/lib/python3.10/dist-packages (from aiohttp->torch-geometric) (1.17.2)\n",
            "Requirement already satisfied: async-timeout<6.0,>=4.0 in /usr/local/lib/python3.10/dist-packages (from aiohttp->torch-geometric) (4.0.3)\n",
            "Requirement already satisfied: MarkupSafe>=2.0 in /usr/local/lib/python3.10/dist-packages (from jinja2->torch-geometric) (3.0.2)\n",
            "Requirement already satisfied: charset-normalizer<4,>=2 in /usr/local/lib/python3.10/dist-packages (from requests->torch-geometric) (3.4.0)\n",
            "Requirement already satisfied: idna<4,>=2.5 in /usr/local/lib/python3.10/dist-packages (from requests->torch-geometric) (3.10)\n",
            "Requirement already satisfied: urllib3<3,>=1.21.1 in /usr/local/lib/python3.10/dist-packages (from requests->torch-geometric) (2.2.3)\n",
            "Requirement already satisfied: certifi>=2017.4.17 in /usr/local/lib/python3.10/dist-packages (from requests->torch-geometric) (2024.8.30)\n",
            "Requirement already satisfied: typing-extensions>=4.1.0 in /usr/local/lib/python3.10/dist-packages (from multidict<7.0,>=4.5->aiohttp->torch-geometric) (4.12.2)\n",
            "Downloading torch_geometric-2.6.1-py3-none-any.whl (1.1 MB)\n",
            "\u001b[2K   \u001b[90m━━━━━━━━━━━━━━━━━━━━━━━━━━━━━━━━━━━━━━━━\u001b[0m \u001b[32m1.1/1.1 MB\u001b[0m \u001b[31m22.8 MB/s\u001b[0m eta \u001b[36m0:00:00\u001b[0m\n",
            "\u001b[?25hInstalling collected packages: torch-geometric\n",
            "Successfully installed torch-geometric-2.6.1\n"
          ]
        }
      ]
    },
    {
      "cell_type": "code",
      "source": [
        "# Check the data types of all columns\n",
        "print(\"Column Data Types:\\n\")\n",
        "print(df_encoded_features.dtypes)\n",
        "\n",
        "# Check specific columns for expected structure\n",
        "print(\"\\nSample Encoded Node Features (First Row):\")\n",
        "print(type(df_encoded_features['Encoded_Node_Features'][0]))\n",
        "\n",
        "print(\"\\nSample Encoded Edge Features (First Row):\")\n",
        "print(type(df_encoded_features['Encoded_Edge_Features'][0]))\n",
        "\n",
        "# Validate the numerical columns\n",
        "print(\"\\nChecking Numerical Columns:\")\n",
        "print(\"pChEMBL Value Type:\", type(df_encoded_features['pChEMBL Value'][0]))\n",
        "print(\"Num_Node_Features Type:\", type(df_encoded_features['Num_Node_Features'][0]))\n",
        "print(\"Num_Edge_Features Type:\", type(df_encoded_features['Num_Edge_Features'][0]))\n"
      ],
      "metadata": {
        "colab": {
          "base_uri": "https://localhost:8080/"
        },
        "id": "xo-xfwEJut82",
        "outputId": "b2edfa62-8ef2-484a-b37d-c05fa8524219"
      },
      "execution_count": null,
      "outputs": [
        {
          "output_type": "stream",
          "name": "stdout",
          "text": [
            "Column Data Types:\n",
            "\n",
            "Smiles                    object\n",
            "pChEMBL Value            float64\n",
            "Node_Features             object\n",
            "Edge_Features             object\n",
            "Encoded_Node_Features     object\n",
            "Encoded_Edge_Features     object\n",
            "Num_Node_Features          int64\n",
            "Num_Edge_Features          int64\n",
            "dtype: object\n",
            "\n",
            "Sample Encoded Node Features (First Row):\n",
            "<class 'str'>\n",
            "\n",
            "Sample Encoded Edge Features (First Row):\n",
            "<class 'str'>\n",
            "\n",
            "Checking Numerical Columns:\n",
            "pChEMBL Value Type: <class 'numpy.float64'>\n",
            "Num_Node_Features Type: <class 'numpy.int64'>\n",
            "Num_Edge_Features Type: <class 'numpy.int64'>\n"
          ]
        }
      ]
    },
    {
      "cell_type": "code",
      "source": [
        "import ast\n",
        "\n",
        "# Convert Encoded_Node_Features from string to list\n",
        "df_encoded_features['Encoded_Node_Features'] = df_encoded_features['Encoded_Node_Features'].apply(ast.literal_eval)\n",
        "\n",
        "# Convert Encoded_Edge_Features from string to list\n",
        "df_encoded_features['Encoded_Edge_Features'] = df_encoded_features['Encoded_Edge_Features'].apply(ast.literal_eval)\n",
        "\n",
        "# Verify the conversion\n",
        "print(\"Sample Encoded Node Features (First Row):\", type(df_encoded_features['Encoded_Node_Features'][0]))\n",
        "print(\"Sample Encoded Edge Features (First Row):\", type(df_encoded_features['Encoded_Edge_Features'][0]))\n"
      ],
      "metadata": {
        "colab": {
          "base_uri": "https://localhost:8080/"
        },
        "id": "CkQgA9t-vD7I",
        "outputId": "f50c6ccb-364f-4953-efdd-7060e4a17c32"
      },
      "execution_count": null,
      "outputs": [
        {
          "output_type": "stream",
          "name": "stdout",
          "text": [
            "Sample Encoded Node Features (First Row): <class 'list'>\n",
            "Sample Encoded Edge Features (First Row): <class 'list'>\n"
          ]
        }
      ]
    },
    {
      "cell_type": "code",
      "source": [
        "# Check the data types of all columns\n",
        "print(\"Column Data Types:\\n\")\n",
        "print(df_encoded_features.dtypes)\n",
        "\n",
        "# Check specific columns for expected structure\n",
        "print(\"\\nSample Encoded Node Features (First Row):\")\n",
        "print(type(df_encoded_features['Encoded_Node_Features'][0]))\n",
        "\n",
        "print(\"\\nSample Encoded Edge Features (First Row):\")\n",
        "print(type(df_encoded_features['Encoded_Edge_Features'][0]))\n",
        "\n",
        "# Validate the numerical columns\n",
        "print(\"\\nChecking Numerical Columns:\")\n",
        "print(\"pChEMBL Value Type:\", type(df_encoded_features['pChEMBL Value'][0]))\n",
        "print(\"Num_Node_Features Type:\", type(df_encoded_features['Num_Node_Features'][0]))\n",
        "print(\"Num_Edge_Features Type:\", type(df_encoded_features['Num_Edge_Features'][0]))"
      ],
      "metadata": {
        "colab": {
          "base_uri": "https://localhost:8080/"
        },
        "id": "ZfQLTdiJvSQA",
        "outputId": "426b31a6-6902-4da6-e8c8-7b2b4313cd55"
      },
      "execution_count": null,
      "outputs": [
        {
          "output_type": "stream",
          "name": "stdout",
          "text": [
            "Column Data Types:\n",
            "\n",
            "Smiles                    object\n",
            "pChEMBL Value            float64\n",
            "Node_Features             object\n",
            "Edge_Features             object\n",
            "Encoded_Node_Features     object\n",
            "Encoded_Edge_Features     object\n",
            "Num_Node_Features          int64\n",
            "Num_Edge_Features          int64\n",
            "dtype: object\n",
            "\n",
            "Sample Encoded Node Features (First Row):\n",
            "<class 'list'>\n",
            "\n",
            "Sample Encoded Edge Features (First Row):\n",
            "<class 'list'>\n",
            "\n",
            "Checking Numerical Columns:\n",
            "pChEMBL Value Type: <class 'numpy.float64'>\n",
            "Num_Node_Features Type: <class 'numpy.int64'>\n",
            "Num_Edge_Features Type: <class 'numpy.int64'>\n"
          ]
        }
      ]
    },
    {
      "cell_type": "code",
      "source": [
        "df_encoded_features.head()"
      ],
      "metadata": {
        "colab": {
          "base_uri": "https://localhost:8080/",
          "height": 452
        },
        "id": "kVeb_R9VvmUw",
        "outputId": "d439283f-67ce-4a9f-d019-d628465794a2"
      },
      "execution_count": null,
      "outputs": [
        {
          "output_type": "execute_result",
          "data": {
            "text/plain": [
              "                                              Smiles  pChEMBL Value  \\\n",
              "0  COc1ccc2nccc([C@@H](O)CC[C@@H]3CCN(C4CC(c5cccc...           5.81   \n",
              "1  COc1ccc2nccc([C@@H](O)CC[C@@H]3CCN(C4CC(c5cccc...           5.81   \n",
              "2      O=C(O)CCCC(=O)Nc1ccc(-c2nc3cc(F)ccc3[nH]2)cc1           5.95   \n",
              "3  CC(C)(C)c1ccc(CN2CCC(C(O)(c3ccccc3)c3ccccc3)CC...           4.05   \n",
              "4  CC(C)(C)c1ccc(C(=O)CCCN2CCC(C(O)(c3ccccc3)c3cc...           4.03   \n",
              "\n",
              "                                       Node_Features  \\\n",
              "0  [[6, 0, 3, rdkit.Chem.rdchem.HybridizationType...   \n",
              "1  [[6, 0, 3, rdkit.Chem.rdchem.HybridizationType...   \n",
              "2  [[8, 0, 0, rdkit.Chem.rdchem.HybridizationType...   \n",
              "3  [[6, 0, 3, rdkit.Chem.rdchem.HybridizationType...   \n",
              "4  [[6, 0, 3, rdkit.Chem.rdchem.HybridizationType...   \n",
              "\n",
              "                                       Edge_Features  \\\n",
              "0  [[1.0, False, False], [1.0, True, False], [1.5...   \n",
              "1  [[1.0, False, False], [1.0, True, False], [1.5...   \n",
              "2  [[2.0, True, False], [1.0, True, False], [1.0,...   \n",
              "3  [[1.0, False, False], [1.0, False, False], [1....   \n",
              "4  [[1.0, False, False], [1.0, False, False], [1....   \n",
              "\n",
              "                               Encoded_Node_Features  \\\n",
              "0  [[6, 0, 3, 0.0, 0.0, 1.0, 0], [8, 0, 0, 0.0, 1...   \n",
              "1  [[6, 0, 3, 0.0, 0.0, 1.0, 0], [8, 0, 0, 0.0, 1...   \n",
              "2  [[8, 0, 0, 0.0, 1.0, 0.0, 0], [6, 0, 0, 0.0, 1...   \n",
              "3  [[6, 0, 3, 0.0, 0.0, 1.0, 0], [6, 0, 0, 0.0, 0...   \n",
              "4  [[6, 0, 3, 0.0, 0.0, 1.0, 0], [6, 0, 0, 0.0, 0...   \n",
              "\n",
              "                               Encoded_Edge_Features  Num_Node_Features  \\\n",
              "0  [[1.0, 0.0, 0.0, 0.0, 0, 0], [1.0, 0.0, 0.0, 0...                  7   \n",
              "1  [[1.0, 0.0, 0.0, 0.0, 0, 0], [1.0, 0.0, 0.0, 0...                  7   \n",
              "2  [[0.0, 1.0, 0.0, 0.0, 1, 0], [1.0, 0.0, 0.0, 0...                  7   \n",
              "3  [[1.0, 0.0, 0.0, 0.0, 0, 0], [1.0, 0.0, 0.0, 0...                  7   \n",
              "4  [[1.0, 0.0, 0.0, 0.0, 0, 0], [1.0, 0.0, 0.0, 0...                  7   \n",
              "\n",
              "   Num_Edge_Features  \n",
              "0                  6  \n",
              "1                  6  \n",
              "2                  6  \n",
              "3                  6  \n",
              "4                  6  "
            ],
            "text/html": [
              "\n",
              "  <div id=\"df-6c58881f-3b6e-41f2-af5d-e98161df073c\" class=\"colab-df-container\">\n",
              "    <div>\n",
              "<style scoped>\n",
              "    .dataframe tbody tr th:only-of-type {\n",
              "        vertical-align: middle;\n",
              "    }\n",
              "\n",
              "    .dataframe tbody tr th {\n",
              "        vertical-align: top;\n",
              "    }\n",
              "\n",
              "    .dataframe thead th {\n",
              "        text-align: right;\n",
              "    }\n",
              "</style>\n",
              "<table border=\"1\" class=\"dataframe\">\n",
              "  <thead>\n",
              "    <tr style=\"text-align: right;\">\n",
              "      <th></th>\n",
              "      <th>Smiles</th>\n",
              "      <th>pChEMBL Value</th>\n",
              "      <th>Node_Features</th>\n",
              "      <th>Edge_Features</th>\n",
              "      <th>Encoded_Node_Features</th>\n",
              "      <th>Encoded_Edge_Features</th>\n",
              "      <th>Num_Node_Features</th>\n",
              "      <th>Num_Edge_Features</th>\n",
              "    </tr>\n",
              "  </thead>\n",
              "  <tbody>\n",
              "    <tr>\n",
              "      <th>0</th>\n",
              "      <td>COc1ccc2nccc([C@@H](O)CC[C@@H]3CCN(C4CC(c5cccc...</td>\n",
              "      <td>5.81</td>\n",
              "      <td>[[6, 0, 3, rdkit.Chem.rdchem.HybridizationType...</td>\n",
              "      <td>[[1.0, False, False], [1.0, True, False], [1.5...</td>\n",
              "      <td>[[6, 0, 3, 0.0, 0.0, 1.0, 0], [8, 0, 0, 0.0, 1...</td>\n",
              "      <td>[[1.0, 0.0, 0.0, 0.0, 0, 0], [1.0, 0.0, 0.0, 0...</td>\n",
              "      <td>7</td>\n",
              "      <td>6</td>\n",
              "    </tr>\n",
              "    <tr>\n",
              "      <th>1</th>\n",
              "      <td>COc1ccc2nccc([C@@H](O)CC[C@@H]3CCN(C4CC(c5cccc...</td>\n",
              "      <td>5.81</td>\n",
              "      <td>[[6, 0, 3, rdkit.Chem.rdchem.HybridizationType...</td>\n",
              "      <td>[[1.0, False, False], [1.0, True, False], [1.5...</td>\n",
              "      <td>[[6, 0, 3, 0.0, 0.0, 1.0, 0], [8, 0, 0, 0.0, 1...</td>\n",
              "      <td>[[1.0, 0.0, 0.0, 0.0, 0, 0], [1.0, 0.0, 0.0, 0...</td>\n",
              "      <td>7</td>\n",
              "      <td>6</td>\n",
              "    </tr>\n",
              "    <tr>\n",
              "      <th>2</th>\n",
              "      <td>O=C(O)CCCC(=O)Nc1ccc(-c2nc3cc(F)ccc3[nH]2)cc1</td>\n",
              "      <td>5.95</td>\n",
              "      <td>[[8, 0, 0, rdkit.Chem.rdchem.HybridizationType...</td>\n",
              "      <td>[[2.0, True, False], [1.0, True, False], [1.0,...</td>\n",
              "      <td>[[8, 0, 0, 0.0, 1.0, 0.0, 0], [6, 0, 0, 0.0, 1...</td>\n",
              "      <td>[[0.0, 1.0, 0.0, 0.0, 1, 0], [1.0, 0.0, 0.0, 0...</td>\n",
              "      <td>7</td>\n",
              "      <td>6</td>\n",
              "    </tr>\n",
              "    <tr>\n",
              "      <th>3</th>\n",
              "      <td>CC(C)(C)c1ccc(CN2CCC(C(O)(c3ccccc3)c3ccccc3)CC...</td>\n",
              "      <td>4.05</td>\n",
              "      <td>[[6, 0, 3, rdkit.Chem.rdchem.HybridizationType...</td>\n",
              "      <td>[[1.0, False, False], [1.0, False, False], [1....</td>\n",
              "      <td>[[6, 0, 3, 0.0, 0.0, 1.0, 0], [6, 0, 0, 0.0, 0...</td>\n",
              "      <td>[[1.0, 0.0, 0.0, 0.0, 0, 0], [1.0, 0.0, 0.0, 0...</td>\n",
              "      <td>7</td>\n",
              "      <td>6</td>\n",
              "    </tr>\n",
              "    <tr>\n",
              "      <th>4</th>\n",
              "      <td>CC(C)(C)c1ccc(C(=O)CCCN2CCC(C(O)(c3ccccc3)c3cc...</td>\n",
              "      <td>4.03</td>\n",
              "      <td>[[6, 0, 3, rdkit.Chem.rdchem.HybridizationType...</td>\n",
              "      <td>[[1.0, False, False], [1.0, False, False], [1....</td>\n",
              "      <td>[[6, 0, 3, 0.0, 0.0, 1.0, 0], [6, 0, 0, 0.0, 0...</td>\n",
              "      <td>[[1.0, 0.0, 0.0, 0.0, 0, 0], [1.0, 0.0, 0.0, 0...</td>\n",
              "      <td>7</td>\n",
              "      <td>6</td>\n",
              "    </tr>\n",
              "  </tbody>\n",
              "</table>\n",
              "</div>\n",
              "    <div class=\"colab-df-buttons\">\n",
              "\n",
              "  <div class=\"colab-df-container\">\n",
              "    <button class=\"colab-df-convert\" onclick=\"convertToInteractive('df-6c58881f-3b6e-41f2-af5d-e98161df073c')\"\n",
              "            title=\"Convert this dataframe to an interactive table.\"\n",
              "            style=\"display:none;\">\n",
              "\n",
              "  <svg xmlns=\"http://www.w3.org/2000/svg\" height=\"24px\" viewBox=\"0 -960 960 960\">\n",
              "    <path d=\"M120-120v-720h720v720H120Zm60-500h600v-160H180v160Zm220 220h160v-160H400v160Zm0 220h160v-160H400v160ZM180-400h160v-160H180v160Zm440 0h160v-160H620v160ZM180-180h160v-160H180v160Zm440 0h160v-160H620v160Z\"/>\n",
              "  </svg>\n",
              "    </button>\n",
              "\n",
              "  <style>\n",
              "    .colab-df-container {\n",
              "      display:flex;\n",
              "      gap: 12px;\n",
              "    }\n",
              "\n",
              "    .colab-df-convert {\n",
              "      background-color: #E8F0FE;\n",
              "      border: none;\n",
              "      border-radius: 50%;\n",
              "      cursor: pointer;\n",
              "      display: none;\n",
              "      fill: #1967D2;\n",
              "      height: 32px;\n",
              "      padding: 0 0 0 0;\n",
              "      width: 32px;\n",
              "    }\n",
              "\n",
              "    .colab-df-convert:hover {\n",
              "      background-color: #E2EBFA;\n",
              "      box-shadow: 0px 1px 2px rgba(60, 64, 67, 0.3), 0px 1px 3px 1px rgba(60, 64, 67, 0.15);\n",
              "      fill: #174EA6;\n",
              "    }\n",
              "\n",
              "    .colab-df-buttons div {\n",
              "      margin-bottom: 4px;\n",
              "    }\n",
              "\n",
              "    [theme=dark] .colab-df-convert {\n",
              "      background-color: #3B4455;\n",
              "      fill: #D2E3FC;\n",
              "    }\n",
              "\n",
              "    [theme=dark] .colab-df-convert:hover {\n",
              "      background-color: #434B5C;\n",
              "      box-shadow: 0px 1px 3px 1px rgba(0, 0, 0, 0.15);\n",
              "      filter: drop-shadow(0px 1px 2px rgba(0, 0, 0, 0.3));\n",
              "      fill: #FFFFFF;\n",
              "    }\n",
              "  </style>\n",
              "\n",
              "    <script>\n",
              "      const buttonEl =\n",
              "        document.querySelector('#df-6c58881f-3b6e-41f2-af5d-e98161df073c button.colab-df-convert');\n",
              "      buttonEl.style.display =\n",
              "        google.colab.kernel.accessAllowed ? 'block' : 'none';\n",
              "\n",
              "      async function convertToInteractive(key) {\n",
              "        const element = document.querySelector('#df-6c58881f-3b6e-41f2-af5d-e98161df073c');\n",
              "        const dataTable =\n",
              "          await google.colab.kernel.invokeFunction('convertToInteractive',\n",
              "                                                    [key], {});\n",
              "        if (!dataTable) return;\n",
              "\n",
              "        const docLinkHtml = 'Like what you see? Visit the ' +\n",
              "          '<a target=\"_blank\" href=https://colab.research.google.com/notebooks/data_table.ipynb>data table notebook</a>'\n",
              "          + ' to learn more about interactive tables.';\n",
              "        element.innerHTML = '';\n",
              "        dataTable['output_type'] = 'display_data';\n",
              "        await google.colab.output.renderOutput(dataTable, element);\n",
              "        const docLink = document.createElement('div');\n",
              "        docLink.innerHTML = docLinkHtml;\n",
              "        element.appendChild(docLink);\n",
              "      }\n",
              "    </script>\n",
              "  </div>\n",
              "\n",
              "\n",
              "<div id=\"df-e89ba3f2-2e5a-4b71-bdd5-79e8b21a1cf8\">\n",
              "  <button class=\"colab-df-quickchart\" onclick=\"quickchart('df-e89ba3f2-2e5a-4b71-bdd5-79e8b21a1cf8')\"\n",
              "            title=\"Suggest charts\"\n",
              "            style=\"display:none;\">\n",
              "\n",
              "<svg xmlns=\"http://www.w3.org/2000/svg\" height=\"24px\"viewBox=\"0 0 24 24\"\n",
              "     width=\"24px\">\n",
              "    <g>\n",
              "        <path d=\"M19 3H5c-1.1 0-2 .9-2 2v14c0 1.1.9 2 2 2h14c1.1 0 2-.9 2-2V5c0-1.1-.9-2-2-2zM9 17H7v-7h2v7zm4 0h-2V7h2v10zm4 0h-2v-4h2v4z\"/>\n",
              "    </g>\n",
              "</svg>\n",
              "  </button>\n",
              "\n",
              "<style>\n",
              "  .colab-df-quickchart {\n",
              "      --bg-color: #E8F0FE;\n",
              "      --fill-color: #1967D2;\n",
              "      --hover-bg-color: #E2EBFA;\n",
              "      --hover-fill-color: #174EA6;\n",
              "      --disabled-fill-color: #AAA;\n",
              "      --disabled-bg-color: #DDD;\n",
              "  }\n",
              "\n",
              "  [theme=dark] .colab-df-quickchart {\n",
              "      --bg-color: #3B4455;\n",
              "      --fill-color: #D2E3FC;\n",
              "      --hover-bg-color: #434B5C;\n",
              "      --hover-fill-color: #FFFFFF;\n",
              "      --disabled-bg-color: #3B4455;\n",
              "      --disabled-fill-color: #666;\n",
              "  }\n",
              "\n",
              "  .colab-df-quickchart {\n",
              "    background-color: var(--bg-color);\n",
              "    border: none;\n",
              "    border-radius: 50%;\n",
              "    cursor: pointer;\n",
              "    display: none;\n",
              "    fill: var(--fill-color);\n",
              "    height: 32px;\n",
              "    padding: 0;\n",
              "    width: 32px;\n",
              "  }\n",
              "\n",
              "  .colab-df-quickchart:hover {\n",
              "    background-color: var(--hover-bg-color);\n",
              "    box-shadow: 0 1px 2px rgba(60, 64, 67, 0.3), 0 1px 3px 1px rgba(60, 64, 67, 0.15);\n",
              "    fill: var(--button-hover-fill-color);\n",
              "  }\n",
              "\n",
              "  .colab-df-quickchart-complete:disabled,\n",
              "  .colab-df-quickchart-complete:disabled:hover {\n",
              "    background-color: var(--disabled-bg-color);\n",
              "    fill: var(--disabled-fill-color);\n",
              "    box-shadow: none;\n",
              "  }\n",
              "\n",
              "  .colab-df-spinner {\n",
              "    border: 2px solid var(--fill-color);\n",
              "    border-color: transparent;\n",
              "    border-bottom-color: var(--fill-color);\n",
              "    animation:\n",
              "      spin 1s steps(1) infinite;\n",
              "  }\n",
              "\n",
              "  @keyframes spin {\n",
              "    0% {\n",
              "      border-color: transparent;\n",
              "      border-bottom-color: var(--fill-color);\n",
              "      border-left-color: var(--fill-color);\n",
              "    }\n",
              "    20% {\n",
              "      border-color: transparent;\n",
              "      border-left-color: var(--fill-color);\n",
              "      border-top-color: var(--fill-color);\n",
              "    }\n",
              "    30% {\n",
              "      border-color: transparent;\n",
              "      border-left-color: var(--fill-color);\n",
              "      border-top-color: var(--fill-color);\n",
              "      border-right-color: var(--fill-color);\n",
              "    }\n",
              "    40% {\n",
              "      border-color: transparent;\n",
              "      border-right-color: var(--fill-color);\n",
              "      border-top-color: var(--fill-color);\n",
              "    }\n",
              "    60% {\n",
              "      border-color: transparent;\n",
              "      border-right-color: var(--fill-color);\n",
              "    }\n",
              "    80% {\n",
              "      border-color: transparent;\n",
              "      border-right-color: var(--fill-color);\n",
              "      border-bottom-color: var(--fill-color);\n",
              "    }\n",
              "    90% {\n",
              "      border-color: transparent;\n",
              "      border-bottom-color: var(--fill-color);\n",
              "    }\n",
              "  }\n",
              "</style>\n",
              "\n",
              "  <script>\n",
              "    async function quickchart(key) {\n",
              "      const quickchartButtonEl =\n",
              "        document.querySelector('#' + key + ' button');\n",
              "      quickchartButtonEl.disabled = true;  // To prevent multiple clicks.\n",
              "      quickchartButtonEl.classList.add('colab-df-spinner');\n",
              "      try {\n",
              "        const charts = await google.colab.kernel.invokeFunction(\n",
              "            'suggestCharts', [key], {});\n",
              "      } catch (error) {\n",
              "        console.error('Error during call to suggestCharts:', error);\n",
              "      }\n",
              "      quickchartButtonEl.classList.remove('colab-df-spinner');\n",
              "      quickchartButtonEl.classList.add('colab-df-quickchart-complete');\n",
              "    }\n",
              "    (() => {\n",
              "      let quickchartButtonEl =\n",
              "        document.querySelector('#df-e89ba3f2-2e5a-4b71-bdd5-79e8b21a1cf8 button');\n",
              "      quickchartButtonEl.style.display =\n",
              "        google.colab.kernel.accessAllowed ? 'block' : 'none';\n",
              "    })();\n",
              "  </script>\n",
              "</div>\n",
              "\n",
              "    </div>\n",
              "  </div>\n"
            ],
            "application/vnd.google.colaboratory.intrinsic+json": {
              "type": "dataframe",
              "variable_name": "df_encoded_features",
              "summary": "{\n  \"name\": \"df_encoded_features\",\n  \"rows\": 435,\n  \"fields\": [\n    {\n      \"column\": \"Smiles\",\n      \"properties\": {\n        \"dtype\": \"string\",\n        \"num_unique_values\": 384,\n        \"samples\": [\n          \"Cc1[nH]c(C(=O)Nc2nc3ccc(C(=O)O)cc3s2)c(Cl)c1Br\",\n          \"CCNC(=O)Nc1cc2c(-c3ccnc(C)c3)ccc(CNC(=O)CCOC)c2cn1\",\n          \"O=c1ccc2ccc(F)c3c2n1CC3C[C@H]1OC[C@H](NCc2cc3c(nn2)OCCS3)CO1\"\n        ],\n        \"semantic_type\": \"\",\n        \"description\": \"\"\n      }\n    },\n    {\n      \"column\": \"pChEMBL Value\",\n      \"properties\": {\n        \"dtype\": \"number\",\n        \"std\": 1.2461250134431374,\n        \"min\": 4.0,\n        \"max\": 9.19,\n        \"num_unique_values\": 190,\n        \"samples\": [\n          6.72,\n          7.72,\n          5.96\n        ],\n        \"semantic_type\": \"\",\n        \"description\": \"\"\n      }\n    },\n    {\n      \"column\": \"Node_Features\",\n      \"properties\": {\n        \"dtype\": \"string\",\n        \"num_unique_values\": 377,\n        \"samples\": [\n          \"[[6, 0, 3, rdkit.Chem.rdchem.HybridizationType.SP3, False], [8, 0, 0, rdkit.Chem.rdchem.HybridizationType.SP2, False], [6, 0, 0, rdkit.Chem.rdchem.HybridizationType.SP2, True], [6, 0, 1, rdkit.Chem.rdchem.HybridizationType.SP2, True], [6, 0, 1, rdkit.Chem.rdchem.HybridizationType.SP2, True], [6, 0, 0, rdkit.Chem.rdchem.HybridizationType.SP2, True], [7, 0, 0, rdkit.Chem.rdchem.HybridizationType.SP2, True], [6, 0, 1, rdkit.Chem.rdchem.HybridizationType.SP2, True], [6, 0, 1, rdkit.Chem.rdchem.HybridizationType.SP2, True], [6, 0, 0, rdkit.Chem.rdchem.HybridizationType.SP2, True], [8, 0, 0, rdkit.Chem.rdchem.HybridizationType.SP2, False], [6, 0, 2, rdkit.Chem.rdchem.HybridizationType.SP3, False], [6, 0, 1, rdkit.Chem.rdchem.HybridizationType.SP3, False], [6, 0, 2, rdkit.Chem.rdchem.HybridizationType.SP3, False], [6, 0, 2, rdkit.Chem.rdchem.HybridizationType.SP3, False], [6, 0, 1, rdkit.Chem.rdchem.HybridizationType.SP3, False], [7, 0, 1, rdkit.Chem.rdchem.HybridizationType.SP3, False], [6, 0, 2, rdkit.Chem.rdchem.HybridizationType.SP3, False], [6, 0, 0, rdkit.Chem.rdchem.HybridizationType.SP2, True], [6, 0, 1, rdkit.Chem.rdchem.HybridizationType.SP2, True], [6, 0, 0, rdkit.Chem.rdchem.HybridizationType.SP2, True], [6, 0, 0, rdkit.Chem.rdchem.HybridizationType.SP2, True], [6, 0, 1, rdkit.Chem.rdchem.HybridizationType.SP2, True], [7, 0, 0, rdkit.Chem.rdchem.HybridizationType.SP2, True], [8, 0, 0, rdkit.Chem.rdchem.HybridizationType.SP2, False], [6, 0, 2, rdkit.Chem.rdchem.HybridizationType.SP3, False], [6, 0, 2, rdkit.Chem.rdchem.HybridizationType.SP3, False], [8, 0, 0, rdkit.Chem.rdchem.HybridizationType.SP2, False], [6, 0, 2, rdkit.Chem.rdchem.HybridizationType.SP3, False], [8, 0, 0, rdkit.Chem.rdchem.HybridizationType.SP3, False], [6, 0, 0, rdkit.Chem.rdchem.HybridizationType.SP2, True], [7, 0, 0, rdkit.Chem.rdchem.HybridizationType.SP2, True]]\",\n          \"[[6, 0, 3, rdkit.Chem.rdchem.HybridizationType.SP3, False], [8, 0, 0, rdkit.Chem.rdchem.HybridizationType.SP2, False], [6, 0, 0, rdkit.Chem.rdchem.HybridizationType.SP2, True], [6, 0, 1, rdkit.Chem.rdchem.HybridizationType.SP2, True], [6, 0, 1, rdkit.Chem.rdchem.HybridizationType.SP2, True], [6, 0, 0, rdkit.Chem.rdchem.HybridizationType.SP2, True], [7, 0, 0, rdkit.Chem.rdchem.HybridizationType.SP2, True], [6, 0, 1, rdkit.Chem.rdchem.HybridizationType.SP2, True], [6, 0, 0, rdkit.Chem.rdchem.HybridizationType.SP2, True], [9, 0, 0, rdkit.Chem.rdchem.HybridizationType.SP3, False], [6, 0, 0, rdkit.Chem.rdchem.HybridizationType.SP2, True], [6, 0, 2, rdkit.Chem.rdchem.HybridizationType.SP3, False], [6, 0, 1, rdkit.Chem.rdchem.HybridizationType.SP3, False], [8, 0, 1, rdkit.Chem.rdchem.HybridizationType.SP3, False], [6, 0, 1, rdkit.Chem.rdchem.HybridizationType.SP3, False], [8, 0, 0, rdkit.Chem.rdchem.HybridizationType.SP3, False], [6, 0, 2, rdkit.Chem.rdchem.HybridizationType.SP3, False], [6, 0, 1, rdkit.Chem.rdchem.HybridizationType.SP3, False], [7, 0, 1, rdkit.Chem.rdchem.HybridizationType.SP3, False], [6, 0, 2, rdkit.Chem.rdchem.HybridizationType.SP3, False], [6, 0, 0, rdkit.Chem.rdchem.HybridizationType.SP2, True], [6, 0, 1, rdkit.Chem.rdchem.HybridizationType.SP2, True], [6, 0, 0, rdkit.Chem.rdchem.HybridizationType.SP2, True], [6, 0, 0, rdkit.Chem.rdchem.HybridizationType.SP2, True], [6, 0, 1, rdkit.Chem.rdchem.HybridizationType.SP2, True], [7, 0, 0, rdkit.Chem.rdchem.HybridizationType.SP2, True], [8, 0, 0, rdkit.Chem.rdchem.HybridizationType.SP2, False], [6, 0, 2, rdkit.Chem.rdchem.HybridizationType.SP3, False], [8, 0, 0, rdkit.Chem.rdchem.HybridizationType.SP2, False], [6, 0, 2, rdkit.Chem.rdchem.HybridizationType.SP3, False], [8, 0, 0, rdkit.Chem.rdchem.HybridizationType.SP3, False], [6, 0, 0, rdkit.Chem.rdchem.HybridizationType.SP2, True], [7, 0, 0, rdkit.Chem.rdchem.HybridizationType.SP2, True]]\",\n          \"[[6, 0, 3, rdkit.Chem.rdchem.HybridizationType.SP3, False], [8, 0, 0, rdkit.Chem.rdchem.HybridizationType.SP2, False], [6, 0, 0, rdkit.Chem.rdchem.HybridizationType.SP2, True], [6, 0, 1, rdkit.Chem.rdchem.HybridizationType.SP2, True], [6, 0, 1, rdkit.Chem.rdchem.HybridizationType.SP2, True], [6, 0, 0, rdkit.Chem.rdchem.HybridizationType.SP2, True], [7, 0, 0, rdkit.Chem.rdchem.HybridizationType.SP2, True], [6, 0, 1, rdkit.Chem.rdchem.HybridizationType.SP2, True], [6, 0, 0, rdkit.Chem.rdchem.HybridizationType.SP2, True], [9, 0, 0, rdkit.Chem.rdchem.HybridizationType.SP3, False], [6, 0, 0, rdkit.Chem.rdchem.HybridizationType.SP2, True], [6, 0, 2, rdkit.Chem.rdchem.HybridizationType.SP3, False], [6, 0, 1, rdkit.Chem.rdchem.HybridizationType.SP3, False], [8, 0, 1, rdkit.Chem.rdchem.HybridizationType.SP3, False], [6, 0, 1, rdkit.Chem.rdchem.HybridizationType.SP3, False], [8, 0, 0, rdkit.Chem.rdchem.HybridizationType.SP3, False], [6, 0, 2, rdkit.Chem.rdchem.HybridizationType.SP3, False], [6, 0, 1, rdkit.Chem.rdchem.HybridizationType.SP3, False], [7, 0, 1, rdkit.Chem.rdchem.HybridizationType.SP3, False], [6, 0, 2, rdkit.Chem.rdchem.HybridizationType.SP3, False], [6, 0, 0, rdkit.Chem.rdchem.HybridizationType.SP2, True], [6, 0, 1, rdkit.Chem.rdchem.HybridizationType.SP2, True], [6, 0, 0, rdkit.Chem.rdchem.HybridizationType.SP2, True], [6, 0, 0, rdkit.Chem.rdchem.HybridizationType.SP2, True], [7, 0, 0, rdkit.Chem.rdchem.HybridizationType.SP2, True], [7, 0, 0, rdkit.Chem.rdchem.HybridizationType.SP2, True], [8, 0, 0, rdkit.Chem.rdchem.HybridizationType.SP2, False], [6, 0, 2, rdkit.Chem.rdchem.HybridizationType.SP3, False], [6, 0, 2, rdkit.Chem.rdchem.HybridizationType.SP3, False], [8, 0, 0, rdkit.Chem.rdchem.HybridizationType.SP2, False], [6, 0, 2, rdkit.Chem.rdchem.HybridizationType.SP3, False], [8, 0, 0, rdkit.Chem.rdchem.HybridizationType.SP3, False], [6, 0, 0, rdkit.Chem.rdchem.HybridizationType.SP2, True], [7, 0, 0, rdkit.Chem.rdchem.HybridizationType.SP2, True]]\"\n        ],\n        \"semantic_type\": \"\",\n        \"description\": \"\"\n      }\n    },\n    {\n      \"column\": \"Edge_Features\",\n      \"properties\": {\n        \"dtype\": \"string\",\n        \"num_unique_values\": 266,\n        \"samples\": [\n          \"[[1.0, False, False], [1.5, True, True], [1.5, True, True], [1.0, True, False], [2.0, True, False], [1.0, True, False], [1.0, True, False], [1.5, True, True], [1.5, True, True], [1.5, True, True], [1.5, True, True], [1.0, True, False], [1.5, True, True], [1.0, True, False], [2.0, True, False], [1.0, True, False], [1.5, True, True], [1.5, True, True], [1.5, True, True], [1.5, True, True], [1.0, False, False], [1.5, True, True], [1.0, False, False], [1.5, True, True], [1.5, True, True], [1.5, True, True]]\",\n          \"[[1.0, False, False], [1.0, True, False], [1.5, True, True], [1.5, True, True], [1.5, True, True], [1.5, True, True], [1.5, True, True], [1.5, True, True], [1.5, True, True], [1.0, False, False], [1.0, False, False], [1.0, False, False], [1.0, False, False], [1.0, False, False], [1.0, False, True], [1.0, False, True], [1.0, False, True], [1.0, False, False], [1.0, False, True], [1.0, False, True], [1.0, False, False], [1.5, True, True], [1.0, False, False], [1.5, True, True], [1.5, True, True], [1.5, True, True], [1.5, True, True], [1.0, True, False], [1.0, False, False], [1.0, False, True], [1.0, False, True], [1.0, False, True], [1.0, False, False], [2.0, True, False], [1.0, True, False], [1.5, True, True], [1.5, True, True], [1.5, True, True], [1.5, True, True], [1.0, False, True], [1.0, False, True], [1.5, True, True]]\",\n          \"[[1.0, False, False], [1.0, False, False], [1.0, True, False], [2.0, True, False], [1.0, True, False], [1.0, True, False], [1.5, True, True], [1.5, True, True], [1.5, True, True], [1.0, True, False], [1.5, True, True], [1.5, True, True], [1.5, True, True], [1.5, True, True], [1.0, False, False], [1.5, True, True], [1.5, True, True], [1.5, True, True], [1.5, True, True], [1.0, False, False], [1.0, False, False], [1.0, True, False], [2.0, True, False], [1.0, True, False], [1.0, False, False], [1.0, False, True], [1.0, False, True], [1.0, False, True], [1.0, False, True], [1.0, False, True], [1.0, False, False], [1.0, False, False], [1.5, True, True], [1.5, True, True], [1.5, True, True], [1.5, True, True], [1.5, True, True], [1.5, True, True], [1.0, False, True]]\"\n        ],\n        \"semantic_type\": \"\",\n        \"description\": \"\"\n      }\n    },\n    {\n      \"column\": \"Encoded_Node_Features\",\n      \"properties\": {\n        \"dtype\": \"object\",\n        \"semantic_type\": \"\",\n        \"description\": \"\"\n      }\n    },\n    {\n      \"column\": \"Encoded_Edge_Features\",\n      \"properties\": {\n        \"dtype\": \"object\",\n        \"semantic_type\": \"\",\n        \"description\": \"\"\n      }\n    },\n    {\n      \"column\": \"Num_Node_Features\",\n      \"properties\": {\n        \"dtype\": \"number\",\n        \"std\": 0,\n        \"min\": 7,\n        \"max\": 7,\n        \"num_unique_values\": 1,\n        \"samples\": [\n          7\n        ],\n        \"semantic_type\": \"\",\n        \"description\": \"\"\n      }\n    },\n    {\n      \"column\": \"Num_Edge_Features\",\n      \"properties\": {\n        \"dtype\": \"number\",\n        \"std\": 0,\n        \"min\": 6,\n        \"max\": 6,\n        \"num_unique_values\": 1,\n        \"samples\": [\n          6\n        ],\n        \"semantic_type\": \"\",\n        \"description\": \"\"\n      }\n    }\n  ]\n}"
            }
          },
          "metadata": {},
          "execution_count": 12
        }
      ]
    },
    {
      "cell_type": "code",
      "source": [
        "# Check the type of an entry in Encoded_Node_Features\n",
        "print(type(df_encoded_features.loc[0, 'Encoded_Node_Features']))\n",
        "\n",
        "# Check the type of an entry in Encoded_Edge_Features\n",
        "print(type(df_encoded_features.loc[0, 'Encoded_Edge_Features']))\n"
      ],
      "metadata": {
        "colab": {
          "base_uri": "https://localhost:8080/"
        },
        "id": "ktDWgtaIwJjB",
        "outputId": "4df7202f-1862-443f-a33a-69b87b2ce0ad"
      },
      "execution_count": null,
      "outputs": [
        {
          "output_type": "stream",
          "name": "stdout",
          "text": [
            "<class 'list'>\n",
            "<class 'list'>\n"
          ]
        }
      ]
    },
    {
      "cell_type": "code",
      "source": [
        " !pip install rdkit"
      ],
      "metadata": {
        "colab": {
          "base_uri": "https://localhost:8080/"
        },
        "id": "EY-vCPmbtI-b",
        "outputId": "84ce9af1-68ce-4390-cc53-684f099bced7"
      },
      "execution_count": null,
      "outputs": [
        {
          "output_type": "stream",
          "name": "stdout",
          "text": [
            "Collecting rdkit\n",
            "  Downloading rdkit-2024.3.6-cp310-cp310-manylinux_2_28_x86_64.whl.metadata (4.0 kB)\n",
            "Requirement already satisfied: numpy in /usr/local/lib/python3.10/dist-packages (from rdkit) (1.26.4)\n",
            "Requirement already satisfied: Pillow in /usr/local/lib/python3.10/dist-packages (from rdkit) (11.0.0)\n",
            "Downloading rdkit-2024.3.6-cp310-cp310-manylinux_2_28_x86_64.whl (32.8 MB)\n",
            "\u001b[2K   \u001b[90m━━━━━━━━━━━━━━━━━━━━━━━━━━━━━━━━━━━━━━━━\u001b[0m \u001b[32m32.8/32.8 MB\u001b[0m \u001b[31m30.5 MB/s\u001b[0m eta \u001b[36m0:00:00\u001b[0m\n",
            "\u001b[?25hInstalling collected packages: rdkit\n",
            "Successfully installed rdkit-2024.3.6\n"
          ]
        }
      ]
    },
    {
      "cell_type": "code",
      "source": [
        "from rdkit import Chem"
      ],
      "metadata": {
        "id": "NxysBMfttMdE"
      },
      "execution_count": null,
      "outputs": []
    },
    {
      "cell_type": "code",
      "source": [
        "\n",
        "\n",
        "def get_edge_connectivity(smiles):\n",
        "    \"\"\"\n",
        "    Extracts the edge connectivity (bonds) for a molecule given its SMILES string.\n",
        "    Returns a list of tuples, where each tuple (i, j) represents a bond between nodes i and j.\n",
        "    \"\"\"\n",
        "    molecule = Chem.MolFromSmiles(smiles)\n",
        "    if molecule is None:\n",
        "        return []  # Handle invalid SMILES\n",
        "    edge_connectivity = []\n",
        "    for bond in molecule.GetBonds():\n",
        "        start_idx = bond.GetBeginAtomIdx()\n",
        "        end_idx = bond.GetEndAtomIdx()\n",
        "        edge_connectivity.append((start_idx, end_idx))\n",
        "    return edge_connectivity\n",
        "\n",
        "# Apply the function to the entire dataframe to generate the Edge_Connectivity column\n",
        "df_encoded_features['Edge_Connectivity'] = df_encoded_features['Smiles'].apply(get_edge_connectivity)\n",
        "\n",
        "# Verify the updated dataframe\n",
        "print(df_encoded_features.head())\n",
        "\n",
        "# Check the first molecule's edge connectivity\n",
        "print(\"Edge Connectivity (First Row):\", df_encoded_features.iloc[0]['Edge_Connectivity'])\n"
      ],
      "metadata": {
        "colab": {
          "base_uri": "https://localhost:8080/"
        },
        "id": "60YkV1Nrmvye",
        "outputId": "2d2667d1-4aef-45fa-f3f5-cdd09384bfab"
      },
      "execution_count": null,
      "outputs": [
        {
          "output_type": "stream",
          "name": "stdout",
          "text": [
            "                                              Smiles  pChEMBL Value  \\\n",
            "0  COc1ccc2nccc([C@@H](O)CC[C@@H]3CCN(C4CC(c5cccc...           5.81   \n",
            "1  COc1ccc2nccc([C@@H](O)CC[C@@H]3CCN(C4CC(c5cccc...           5.81   \n",
            "2      O=C(O)CCCC(=O)Nc1ccc(-c2nc3cc(F)ccc3[nH]2)cc1           5.95   \n",
            "3  CC(C)(C)c1ccc(CN2CCC(C(O)(c3ccccc3)c3ccccc3)CC...           4.05   \n",
            "4  CC(C)(C)c1ccc(C(=O)CCCN2CCC(C(O)(c3ccccc3)c3cc...           4.03   \n",
            "\n",
            "                                       Node_Features  \\\n",
            "0  [[6, 0, 3, rdkit.Chem.rdchem.HybridizationType...   \n",
            "1  [[6, 0, 3, rdkit.Chem.rdchem.HybridizationType...   \n",
            "2  [[8, 0, 0, rdkit.Chem.rdchem.HybridizationType...   \n",
            "3  [[6, 0, 3, rdkit.Chem.rdchem.HybridizationType...   \n",
            "4  [[6, 0, 3, rdkit.Chem.rdchem.HybridizationType...   \n",
            "\n",
            "                                       Edge_Features  \\\n",
            "0  [[1.0, False, False], [1.0, True, False], [1.5...   \n",
            "1  [[1.0, False, False], [1.0, True, False], [1.5...   \n",
            "2  [[2.0, True, False], [1.0, True, False], [1.0,...   \n",
            "3  [[1.0, False, False], [1.0, False, False], [1....   \n",
            "4  [[1.0, False, False], [1.0, False, False], [1....   \n",
            "\n",
            "                               Encoded_Node_Features  \\\n",
            "0  [[6, 0, 3, 0.0, 0.0, 1.0, 0], [8, 0, 0, 0.0, 1...   \n",
            "1  [[6, 0, 3, 0.0, 0.0, 1.0, 0], [8, 0, 0, 0.0, 1...   \n",
            "2  [[8, 0, 0, 0.0, 1.0, 0.0, 0], [6, 0, 0, 0.0, 1...   \n",
            "3  [[6, 0, 3, 0.0, 0.0, 1.0, 0], [6, 0, 0, 0.0, 0...   \n",
            "4  [[6, 0, 3, 0.0, 0.0, 1.0, 0], [6, 0, 0, 0.0, 0...   \n",
            "\n",
            "                               Encoded_Edge_Features  Num_Node_Features  \\\n",
            "0  [[1.0, 0.0, 0.0, 0.0, 0, 0], [1.0, 0.0, 0.0, 0...                  7   \n",
            "1  [[1.0, 0.0, 0.0, 0.0, 0, 0], [1.0, 0.0, 0.0, 0...                  7   \n",
            "2  [[0.0, 1.0, 0.0, 0.0, 1, 0], [1.0, 0.0, 0.0, 0...                  7   \n",
            "3  [[1.0, 0.0, 0.0, 0.0, 0, 0], [1.0, 0.0, 0.0, 0...                  7   \n",
            "4  [[1.0, 0.0, 0.0, 0.0, 0, 0], [1.0, 0.0, 0.0, 0...                  7   \n",
            "\n",
            "   Num_Edge_Features                                  Edge_Connectivity  \n",
            "0                  6  [(0, 1), (1, 2), (2, 3), (3, 4), (4, 5), (5, 6...  \n",
            "1                  6  [(0, 1), (1, 2), (2, 3), (3, 4), (4, 5), (5, 6...  \n",
            "2                  6  [(0, 1), (1, 2), (1, 3), (3, 4), (4, 5), (5, 6...  \n",
            "3                  6  [(0, 1), (1, 2), (1, 3), (1, 4), (4, 5), (5, 6...  \n",
            "4                  6  [(0, 1), (1, 2), (1, 3), (1, 4), (4, 5), (5, 6...  \n",
            "Edge Connectivity (First Row): [(0, 1), (1, 2), (2, 3), (3, 4), (4, 5), (5, 6), (6, 7), (7, 8), (8, 9), (9, 10), (10, 11), (10, 12), (12, 13), (13, 14), (14, 15), (15, 16), (16, 17), (17, 18), (18, 19), (19, 20), (20, 21), (21, 22), (22, 23), (23, 24), (24, 25), (25, 26), (26, 27), (27, 28), (27, 29), (27, 30), (20, 31), (17, 32), (32, 33), (33, 34), (34, 35), (34, 36), (9, 37), (37, 38), (38, 2), (37, 5), (33, 14), (31, 18), (26, 21)]\n"
          ]
        }
      ]
    },
    {
      "cell_type": "code",
      "source": [
        "print(df_encoded_features.columns)\n"
      ],
      "metadata": {
        "colab": {
          "base_uri": "https://localhost:8080/"
        },
        "id": "R8BSXauRmvrW",
        "outputId": "14644cdb-9e9e-41f4-cdc8-68f8e02e37c5"
      },
      "execution_count": null,
      "outputs": [
        {
          "output_type": "stream",
          "name": "stdout",
          "text": [
            "Index(['Smiles', 'pChEMBL Value', 'Node_Features', 'Edge_Features',\n",
            "       'Encoded_Node_Features', 'Encoded_Edge_Features', 'Num_Node_Features',\n",
            "       'Num_Edge_Features', 'Edge_Connectivity'],\n",
            "      dtype='object')\n"
          ]
        }
      ]
    },
    {
      "cell_type": "code",
      "source": [
        "print(df_encoded_features['Edge_Connectivity'].head())\n"
      ],
      "metadata": {
        "colab": {
          "base_uri": "https://localhost:8080/"
        },
        "id": "-N-mpjnys-Z6",
        "outputId": "0c255e04-c085-468a-9eef-886ceddab3d4"
      },
      "execution_count": null,
      "outputs": [
        {
          "output_type": "stream",
          "name": "stdout",
          "text": [
            "0    [(0, 1), (1, 2), (2, 3), (3, 4), (4, 5), (5, 6...\n",
            "1    [(0, 1), (1, 2), (2, 3), (3, 4), (4, 5), (5, 6...\n",
            "2    [(0, 1), (1, 2), (1, 3), (3, 4), (4, 5), (5, 6...\n",
            "3    [(0, 1), (1, 2), (1, 3), (1, 4), (4, 5), (5, 6...\n",
            "4    [(0, 1), (1, 2), (1, 3), (1, 4), (4, 5), (5, 6...\n",
            "Name: Edge_Connectivity, dtype: object\n"
          ]
        }
      ]
    },
    {
      "cell_type": "code",
      "source": [
        "print(df['Edge_Connectivity'])"
      ],
      "metadata": {
        "colab": {
          "base_uri": "https://localhost:8080/"
        },
        "id": "gp8rFuPcs-W3",
        "outputId": "2f168093-b53a-4ab0-9709-2a68c625f173"
      },
      "execution_count": null,
      "outputs": [
        {
          "output_type": "stream",
          "name": "stdout",
          "text": [
            "0      [(0, 1), (1, 2), (2, 3), (3, 4), (4, 5), (5, 6...\n",
            "1      [(0, 1), (1, 2), (2, 3), (3, 4), (4, 5), (5, 6...\n",
            "2      [(0, 1), (1, 2), (1, 3), (3, 4), (4, 5), (5, 6...\n",
            "3      [(0, 1), (1, 2), (1, 3), (1, 4), (4, 5), (5, 6...\n",
            "4      [(0, 1), (1, 2), (1, 3), (1, 4), (4, 5), (5, 6...\n",
            "                             ...                        \n",
            "430    [(0, 1), (1, 2), (2, 3), (3, 4), (4, 5), (5, 6...\n",
            "431    [(0, 1), (1, 2), (2, 3), (3, 4), (4, 5), (5, 6...\n",
            "432    [(0, 1), (1, 2), (2, 3), (3, 4), (4, 5), (5, 6...\n",
            "433    [(0, 1), (1, 2), (2, 3), (3, 4), (4, 5), (5, 6...\n",
            "434    [(0, 1), (1, 2), (2, 3), (3, 4), (4, 5), (5, 6...\n",
            "Name: Edge_Connectivity, Length: 435, dtype: object\n"
          ]
        }
      ]
    },
    {
      "cell_type": "code",
      "source": [
        "df_encoded_features.to_csv('EdgeConnetivity_features.csv', index=False)"
      ],
      "metadata": {
        "id": "RkV0jwqis-Te"
      },
      "execution_count": null,
      "outputs": []
    },
    {
      "cell_type": "code",
      "source": [
        "# Extract the first row\n",
        "first_row = df_encoded_features.iloc[0]\n",
        "\n",
        "# Print details for verification\n",
        "print(\"SMILES:\", first_row['Smiles'])\n",
        "print(\"Number of Nodes (Atoms):\", first_row['Num_Node_Features'])\n",
        "print(\"Edge Connectivity (First Row):\", first_row['Edge_Connectivity'])\n"
      ],
      "metadata": {
        "colab": {
          "base_uri": "https://localhost:8080/"
        },
        "id": "VW5qpd6ys-Qo",
        "outputId": "cba5a52d-5918-480c-bd2e-f39a4a8986cb"
      },
      "execution_count": null,
      "outputs": [
        {
          "output_type": "stream",
          "name": "stdout",
          "text": [
            "SMILES: COc1ccc2nccc([C@@H](O)CC[C@@H]3CCN(C4CC(c5ccccc5C(F)(F)F)C4)C[C@@H]3C(=O)O)c2c1\n",
            "Number of Nodes (Atoms): 7\n",
            "Edge Connectivity (First Row): [(0, 1), (1, 2), (2, 3), (3, 4), (4, 5), (5, 6), (6, 7), (7, 8), (8, 9), (9, 10), (10, 11), (10, 12), (12, 13), (13, 14), (14, 15), (15, 16), (16, 17), (17, 18), (18, 19), (19, 20), (20, 21), (21, 22), (22, 23), (23, 24), (24, 25), (25, 26), (26, 27), (27, 28), (27, 29), (27, 30), (20, 31), (17, 32), (32, 33), (33, 34), (34, 35), (34, 36), (9, 37), (37, 38), (38, 2), (37, 5), (33, 14), (31, 18), (26, 21)]\n"
          ]
        }
      ]
    },
    {
      "cell_type": "code",
      "source": [
        "from rdkit import Chem\n",
        "from rdkit.Chem import Draw\n",
        "\n",
        "# Generate the molecule from the SMILES\n",
        "molecule = Chem.MolFromSmiles(first_row['Smiles'])\n",
        "\n",
        "# Draw the 2D structure\n",
        "Draw.MolToImage(molecule)\n"
      ],
      "metadata": {
        "colab": {
          "base_uri": "https://localhost:8080/",
          "height": 317
        },
        "id": "ThgKNtwv2Y0q",
        "outputId": "6754ed81-1b59-4c90-b473-716cefa5ba78"
      },
      "execution_count": null,
      "outputs": [
        {
          "output_type": "execute_result",
          "data": {
            "text/plain": [
              "<PIL.PngImagePlugin.PngImageFile image mode=RGB size=300x300>"
            ],
            "image/png": "[encoded data removed]",
            "image/jpeg": "[encoded data removed]"
          },
          "metadata": {},
          "execution_count": 21
        }
      ]
    },
    {
      "cell_type": "code",
      "source": [
        "# Extract bond information from RDKit molecule\n",
        "actual_edges = []\n",
        "for bond in molecule.GetBonds():\n",
        "    atom1 = bond.GetBeginAtomIdx()\n",
        "    atom2 = bond.GetEndAtomIdx()\n",
        "    actual_edges.append((atom1, atom2))\n",
        "\n",
        "# Print the actual bonds\n",
        "print(\"Actual Bonds:\", actual_edges)\n",
        "\n",
        "# Compare with Edge_Connectivity\n",
        "print(\"Matches Edge_Connectivity:\", set(first_row['Edge_Connectivity']) == set(actual_edges))\n"
      ],
      "metadata": {
        "colab": {
          "base_uri": "https://localhost:8080/"
        },
        "id": "2cVRnn-C2Yxz",
        "outputId": "2d073fa7-598b-45ee-ab15-538c57697946"
      },
      "execution_count": null,
      "outputs": [
        {
          "output_type": "stream",
          "name": "stdout",
          "text": [
            "Actual Bonds: [(0, 1), (1, 2), (2, 3), (3, 4), (4, 5), (5, 6), (6, 7), (7, 8), (8, 9), (9, 10), (10, 11), (10, 12), (12, 13), (13, 14), (14, 15), (15, 16), (16, 17), (17, 18), (18, 19), (19, 20), (20, 21), (21, 22), (22, 23), (23, 24), (24, 25), (25, 26), (26, 27), (27, 28), (27, 29), (27, 30), (20, 31), (17, 32), (32, 33), (33, 34), (34, 35), (34, 36), (9, 37), (37, 38), (38, 2), (37, 5), (33, 14), (31, 18), (26, 21)]\n",
            "Matches Edge_Connectivity: True\n"
          ]
        }
      ]
    },
    {
      "cell_type": "code",
      "source": [
        "# Step 1: Check column data types\n",
        "print(\"Column Data Types:\")\n",
        "print(df_encoded_features.dtypes)\n",
        "\n",
        "# Step 2: Inspect the first row of critical columns\n",
        "print(\"\\nSample Data Inspection:\")\n",
        "print(\"Sample Encoded Node Features (First Row):\", type(df_encoded_features['Encoded_Node_Features'][0]))\n",
        "print(\"Sample Edge Connectivity (First Row):\", type(df_encoded_features['Edge_Connectivity'][0]))\n",
        "print(\"Sample Encoded Edge Features (First Row):\", type(df_encoded_features['Encoded_Edge_Features'][0]))\n",
        "print(\"pChEMBL Value (First Row):\", type(df_encoded_features['pChEMBL Value'][0]))\n",
        "\n",
        "# Step 3: Ensure all rows are consistent\n",
        "print(\"\\nChecking Consistency...\")\n",
        "print(\"All Node Features as lists:\", all(isinstance(item, list) for item in df_encoded_features['Encoded_Node_Features']))\n",
        "print(\"All Edge Features as lists:\", all(isinstance(item, list) for item in df_encoded_features['Encoded_Edge_Features']))\n",
        "print(\"All Edge Connectivity as lists:\", all(isinstance(item, list) for item in df_encoded_features['Edge_Connectivity']))\n",
        "print(\"All pChEMBL Values as float:\", all(isinstance(item, (float, int)) for item in df_encoded_features['pChEMBL Value']))\n"
      ],
      "metadata": {
        "colab": {
          "base_uri": "https://localhost:8080/"
        },
        "id": "FrbZ-PXm6Gca",
        "outputId": "de319543-e7a3-4049-a59c-fe79428ef749"
      },
      "execution_count": null,
      "outputs": [
        {
          "output_type": "stream",
          "name": "stdout",
          "text": [
            "Column Data Types:\n",
            "Smiles                    object\n",
            "pChEMBL Value            float64\n",
            "Node_Features             object\n",
            "Edge_Features             object\n",
            "Encoded_Node_Features     object\n",
            "Encoded_Edge_Features     object\n",
            "Num_Node_Features          int64\n",
            "Num_Edge_Features          int64\n",
            "Edge_Connectivity         object\n",
            "dtype: object\n",
            "\n",
            "Sample Data Inspection:\n",
            "Sample Encoded Node Features (First Row): <class 'list'>\n",
            "Sample Edge Connectivity (First Row): <class 'list'>\n",
            "Sample Encoded Edge Features (First Row): <class 'list'>\n",
            "pChEMBL Value (First Row): <class 'numpy.float64'>\n",
            "\n",
            "Checking Consistency...\n",
            "All Node Features as lists: True\n",
            "All Edge Features as lists: True\n",
            "All Edge Connectivity as lists: True\n",
            "All pChEMBL Values as float: True\n"
          ]
        }
      ]
    },
    {
      "cell_type": "code",
      "source": [
        "import torch\n",
        "from torch_geometric.data import Data\n",
        "\n",
        "# Step 1: Define a function to convert a row into a PyG Data object\n",
        "def row_to_pyg_data(row):\n",
        "    # Convert features and connectivity to tensors\n",
        "    node_features = torch.tensor(row['Encoded_Node_Features'], dtype=torch.float)\n",
        "    edge_index = torch.tensor(row['Edge_Connectivity'], dtype=torch.long).t().contiguous()\n",
        "    edge_features = torch.tensor(row['Encoded_Edge_Features'], dtype=torch.float)\n",
        "    target = torch.tensor([row['pChEMBL Value']], dtype=torch.float)\n",
        "\n",
        "    # Create and return the PyG Data object\n",
        "    return Data(x=node_features, edge_index=edge_index, edge_attr=edge_features, y=target)\n",
        "\n",
        "# Step 2: Convert the entire dataframe\n",
        "pyg_data_list = []\n",
        "for _, row in df_encoded_features.iterrows():\n",
        "    pyg_data_list.append(row_to_pyg_data(row))\n",
        "\n",
        "# Step 3: Verify the dataset\n",
        "print(f\"Number of graphs in the dataset: {len(pyg_data_list)}\")\n",
        "print(f\"Example graph:\\n{pyg_data_list[0]}\")\n"
      ],
      "metadata": {
        "colab": {
          "base_uri": "https://localhost:8080/"
        },
        "id": "M9W0OwVa6GRo",
        "outputId": "ab4c58df-01e0-41b6-f66c-0bd98f6906f3"
      },
      "execution_count": null,
      "outputs": [
        {
          "output_type": "stream",
          "name": "stdout",
          "text": [
            "Number of graphs in the dataset: 435\n",
            "Example graph:\n",
            "Data(x=[39, 7], edge_index=[2, 43], edge_attr=[43, 6], y=[1])\n"
          ]
        }
      ]
    },
    {
      "cell_type": "code",
      "source": [
        "import matplotlib.pyplot as plt\n",
        "import networkx as nx\n",
        "from torch_geometric.utils import to_networkx\n",
        "\n",
        "# Convert the first graph in pyg_data_list to a NetworkX graph\n",
        "graph = pyg_data_list[0]  # First graph from the PyTorch Geometric dataset\n",
        "nx_graph = to_networkx(graph, edge_attrs=[\"edge_attr\"], node_attrs=[\"x\"])\n",
        "\n",
        "# Plot the graph\n",
        "plt.figure(figsize=(10, 7))\n",
        "pos = nx.spring_layout(nx_graph)  # Spring layout for better visual separation\n",
        "\n",
        "# Draw the graph\n",
        "nx.draw(\n",
        "    nx_graph, pos,\n",
        "    with_labels=True,\n",
        "    node_color=\"lightblue\",\n",
        "    node_size=500,\n",
        "    edge_color=\"gray\",\n",
        "    font_size=8\n",
        ")\n",
        "\n",
        "plt.title(\"Graph Visualization of the First Molecule\")\n",
        "plt.show()\n"
      ],
      "metadata": {
        "colab": {
          "base_uri": "https://localhost:8080/",
          "height": 756
        },
        "id": "qFUZTb68-H58",
        "outputId": "7409e265-99ca-42c3-f545-38ccbd66c028"
      },
      "execution_count": null,
      "outputs": [
        {
          "output_type": "display_data",
          "data": {
            "text/plain": [
              "<Figure size 1000x700 with 1 Axes>"
            ],
            "image/png": "[encoded data removed]"
          },
          "metadata": {}
        }
      ]
    },
    {
      "cell_type": "code",
      "source": [
        "import matplotlib.pyplot as plt\n",
        "import networkx as nx\n",
        "from torch_geometric.utils import to_networkx\n",
        "\n",
        "# Convert the first molecule's graph to a NetworkX graph for visualization\n",
        "graph = pyg_data_list[0]  # First graph from the dataset\n",
        "nx_graph = to_networkx(graph, edge_attrs=[\"edge_attr\"], node_attrs=[\"x\"])\n",
        "\n",
        "# Plot the graph\n",
        "plt.figure(figsize=(8, 6))\n",
        "pos = nx.spring_layout(nx_graph)  # Spring layout for better spacing\n",
        "\n",
        "# Draw the graph\n",
        "nx.draw(nx_graph, pos, with_labels=True, node_size=500, node_color=\"skyblue\", edge_color=\"gray\", font_size=10)\n",
        "plt.title(\"Molecular Graph - First Molecule\", fontsize=14)\n",
        "\n",
        "# Show the plot\n",
        "plt.show()\n"
      ],
      "metadata": {
        "colab": {
          "base_uri": "https://localhost:8080/",
          "height": 660
        },
        "id": "YOx4zKom-HyN",
        "outputId": "da5cfe9d-0aee-49f7-c20b-aa4ffa96cbe8"
      },
      "execution_count": null,
      "outputs": [
        {
          "output_type": "display_data",
          "data": {
            "text/plain": [
              "<Figure size 800x600 with 1 Axes>"
            ],
            "image/png": "[encoded data removed]"
          },
          "metadata": {}
        }
      ]
    },
    {
      "cell_type": "code",
      "source": [
        "import matplotlib.pyplot as plt\n",
        "import networkx as nx\n",
        "from torch_geometric.utils import to_networkx\n",
        "\n",
        "# Convert the first molecule's graph to a NetworkX graph for visualization\n",
        "graph = pyg_data_list[0]  # First graph from the dataset\n",
        "nx_graph = to_networkx(graph, edge_attrs=[\"edge_attr\"], node_attrs=[\"x\"])\n",
        "\n",
        "# Plot the graph\n",
        "plt.figure(figsize=(12, 8))\n",
        "\n",
        "# Use a circular layout for better clarity\n",
        "pos = nx.spring_layout(nx_graph, seed=42)  # Better spacing\n",
        "\n",
        "# Draw nodes with a custom size and color\n",
        "nx.draw_networkx_nodes(nx_graph, pos, node_size=700, node_color=\"lightblue\")\n",
        "\n",
        "# Draw edges with transparency for better visibility\n",
        "nx.draw_networkx_edges(nx_graph, pos, alpha=0.5, edge_color=\"gray\", width=1.5)\n",
        "\n",
        "# Draw labels for the nodes\n",
        "nx.draw_networkx_labels(nx_graph, pos, font_size=10, font_color=\"black\")\n",
        "\n",
        "# Add a title\n",
        "plt.title(\"Improved Molecular Graph - First Molecule\", fontsize=16)\n",
        "\n",
        "# Show the plot\n",
        "plt.axis(\"off\")\n",
        "plt.tight_layout()\n",
        "plt.show()\n"
      ],
      "metadata": {
        "colab": {
          "base_uri": "https://localhost:8080/",
          "height": 691
        },
        "id": "k4_vAXov-HvS",
        "outputId": "2680e9c5-8c93-4b9b-fbf9-1ee6b75fc38e"
      },
      "execution_count": null,
      "outputs": [
        {
          "output_type": "display_data",
          "data": {
            "text/plain": [
              "<Figure size 1200x800 with 1 Axes>"
            ],
            "image/png": "[encoded data removed]"
          },
          "metadata": {}
        }
      ]
    },
    {
      "cell_type": "code",
      "source": [
        "import numpy as np\n",
        "\n",
        "# 1. Check number of graphs\n",
        "print(f\"Number of graphs in the dataset: {len(pyg_data_list)}\")\n",
        "\n",
        "# 2. Check for missing or null values in the dataframe\n",
        "print(\"Checking for missing values in columns:\")\n",
        "print(df_encoded_features.isnull().sum())\n",
        "\n",
        "# 3. Verify node and edge features consistency\n",
        "node_features_lengths = [data.x.shape[0] for data in pyg_data_list]\n",
        "edge_features_lengths = [data.edge_attr.shape[0] for data in pyg_data_list]\n",
        "edge_indices_lengths = [data.edge_index.shape[1] for data in pyg_data_list]\n",
        "\n",
        "print(f\"Number of graphs: {len(pyg_data_list)}\")\n",
        "print(f\"Average number of nodes: {np.mean(node_features_lengths):.2f}\")\n",
        "print(f\"Average number of edges: {np.mean(edge_indices_lengths):.2f}\")\n",
        "\n",
        "# 4. Ensure node and edge feature lengths match\n",
        "node_edge_feature_mismatch = [\n",
        "    i for i, (n, e) in enumerate(zip(node_features_lengths, edge_features_lengths))\n",
        "    if n != e\n",
        "]\n",
        "print(f\"Graphs with mismatched node and edge features: {len(node_edge_feature_mismatch)}\")\n",
        "\n",
        "# 5. Check target value (pChEMBL Value) distribution\n",
        "pchembl_values = [data.y.item() for data in pyg_data_list]\n",
        "print(f\"pChEMBL Value - Min: {min(pchembl_values)}, Max: {max(pchembl_values)}\")\n",
        "print(f\"pChEMBL Value - Mean: {np.mean(pchembl_values):.2f}, Std: {np.std(pchembl_values):.2f}\")\n"
      ],
      "metadata": {
        "colab": {
          "base_uri": "https://localhost:8080/"
        },
        "id": "3QGduZAlCHol",
        "outputId": "75af11cb-f74c-48a1-e7a8-f652cb822579"
      },
      "execution_count": null,
      "outputs": [
        {
          "output_type": "stream",
          "name": "stdout",
          "text": [
            "Number of graphs in the dataset: 435\n",
            "Checking for missing values in columns:\n",
            "Smiles                   0\n",
            "pChEMBL Value            0\n",
            "Node_Features            0\n",
            "Edge_Features            0\n",
            "Encoded_Node_Features    0\n",
            "Encoded_Edge_Features    0\n",
            "Num_Node_Features        0\n",
            "Num_Edge_Features        0\n",
            "Edge_Connectivity        0\n",
            "dtype: int64\n",
            "Number of graphs: 435\n",
            "Average number of nodes: 32.14\n",
            "Average number of edges: 35.35\n",
            "Graphs with mismatched node and edge features: 435\n",
            "pChEMBL Value - Min: 4.0, Max: 9.1899995803833\n",
            "pChEMBL Value - Mean: 6.18, Std: 1.24\n"
          ]
        }
      ]
    },
    {
      "cell_type": "code",
      "source": [
        "edge_mismatch = [\n",
        "    i for i, data in enumerate(pyg_data_list)\n",
        "    if data.edge_index.shape[1] != data.edge_attr.shape[0]\n",
        "]\n",
        "print(f\"Graphs with mismatched edge_index and edge_attr: {len(edge_mismatch)}\")\n"
      ],
      "metadata": {
        "colab": {
          "base_uri": "https://localhost:8080/"
        },
        "id": "K1T4Pvy1CHl9",
        "outputId": "efdfb3a0-312e-46bd-8618-ec0a0d0268b8"
      },
      "execution_count": null,
      "outputs": [
        {
          "output_type": "stream",
          "name": "stdout",
          "text": [
            "Graphs with mismatched edge_index and edge_attr: 0\n"
          ]
        }
      ]
    },
    {
      "cell_type": "code",
      "source": [
        "from sklearn.model_selection import train_test_split\n",
        "\n",
        "# Step 1: Define split ratios\n",
        "train_ratio = 0.7\n",
        "valid_ratio = 0.15\n",
        "test_ratio = 0.15\n",
        "\n",
        "# Step 2: Split the dataset into training and temp (validation + test)\n",
        "train_data, temp_data = train_test_split(pyg_data_list, test_size=(1 - train_ratio), random_state=42)\n",
        "\n",
        "# Step 3: Further split temp_data into validation and test sets\n",
        "valid_data, test_data = train_test_split(temp_data, test_size=(test_ratio / (valid_ratio + test_ratio)), random_state=42)\n",
        "\n",
        "# Step 4: Verify the splits\n",
        "print(f\"Training set size: {len(train_data)}\")\n",
        "print(f\"Validation set size: {len(valid_data)}\")\n",
        "print(f\"Test set size: {len(test_data)}\")\n"
      ],
      "metadata": {
        "colab": {
          "base_uri": "https://localhost:8080/"
        },
        "id": "Pv4YiDLaCHjI",
        "outputId": "633953ac-b0ba-45fb-d8a0-e5880f78f039"
      },
      "execution_count": null,
      "outputs": [
        {
          "output_type": "stream",
          "name": "stdout",
          "text": [
            "Training set size: 304\n",
            "Validation set size: 65\n",
            "Test set size: 66\n"
          ]
        }
      ]
    },
    {
      "cell_type": "code",
      "source": [
        "from torch_geometric.loader import DataLoader\n",
        "\n",
        "# Step 1: Create DataLoaders for each dataset\n",
        "batch_size = 32  # You can tune this value depending on your hardware\n",
        "\n",
        "train_loader = DataLoader(train_data, batch_size=batch_size, shuffle=True)\n",
        "valid_loader = DataLoader(valid_data, batch_size=batch_size, shuffle=False)\n",
        "test_loader = DataLoader(test_data, batch_size=batch_size, shuffle=False)\n",
        "\n",
        "# Step 2: Verify DataLoader setup\n",
        "print(f\"Number of batches in Training set: {len(train_loader)}\")\n",
        "print(f\"Number of batches in Validation set: {len(valid_loader)}\")\n",
        "print(f\"Number of batches in Test set: {len(test_loader)}\")\n"
      ],
      "metadata": {
        "colab": {
          "base_uri": "https://localhost:8080/"
        },
        "id": "JTGgEBYf68gb",
        "outputId": "2d079ade-aeb4-416b-f315-ec9f4c2759cd"
      },
      "execution_count": null,
      "outputs": [
        {
          "output_type": "stream",
          "name": "stdout",
          "text": [
            "Number of batches in Training set: 10\n",
            "Number of batches in Validation set: 3\n",
            "Number of batches in Test set: 3\n"
          ]
        }
      ]
    },
    {
      "cell_type": "code",
      "source": [
        "import torch\n",
        "import torch.nn.functional as F\n",
        "from torch_geometric.nn import GCNConv, global_mean_pool\n",
        "\n",
        "class GNNModel(torch.nn.Module):\n",
        "    def __init__(self, input_dim, hidden_dim, output_dim):\n",
        "        super(GNNModel, self).__init__()\n",
        "\n",
        "        # Graph Convolutional Layers\n",
        "        self.conv1 = GCNConv(input_dim, hidden_dim)\n",
        "        self.conv2 = GCNConv(hidden_dim, hidden_dim)\n",
        "\n",
        "        # Global Pooling Layer\n",
        "        self.global_pool = global_mean_pool\n",
        "\n",
        "        # Fully Connected Layers for regression\n",
        "        self.fc1 = torch.nn.Linear(hidden_dim, hidden_dim)\n",
        "        self.fc2 = torch.nn.Linear(hidden_dim, output_dim)\n",
        "\n",
        "    def forward(self, data):\n",
        "        \"\"\"\n",
        "        Forward pass through the model.\n",
        "\n",
        "        Arguments:\n",
        "        data: A batch of PyG Data objects containing:\n",
        "              - x: Node features\n",
        "              - edge_index: Graph connectivity\n",
        "              - edge_attr: Edge features (optional here, not used in GCN)\n",
        "              - batch: Batch index for global pooling\n",
        "\n",
        "        Returns:\n",
        "        Regression output for each graph.\n",
        "        \"\"\"\n",
        "        # Unpack graph components\n",
        "        x, edge_index, edge_attr, batch = data.x, data.edge_index, data.edge_attr, data.batch\n",
        "\n",
        "        # GCN Layers\n",
        "        x = F.relu(self.conv1(x, edge_index))\n",
        "        x = F.relu(self.conv2(x, edge_index))\n",
        "\n",
        "        # Global Mean Pooling to get graph-level features\n",
        "        x = self.global_pool(x, batch)\n",
        "\n",
        "        # Fully Connected Layers for regression\n",
        "        x = F.relu(self.fc1(x))\n",
        "        x = self.fc2(x)\n",
        "\n",
        "        return x\n"
      ],
      "metadata": {
        "id": "3VtVrA4iFy7t"
      },
      "execution_count": null,
      "outputs": []
    },
    {
      "cell_type": "code",
      "source": [
        "# Define model parameters\n",
        "input_dim = df_encoded_features['Encoded_Node_Features'][0][0].__len__()  # Number of node features\n",
        "hidden_dim = 64  # Tuneable hyperparameter\n",
        "output_dim = 1  # Single regression target (pChEMBL)\n",
        "\n",
        "# Initialize the model\n",
        "model = GNNModel(input_dim=input_dim, hidden_dim=hidden_dim, output_dim=output_dim)\n",
        "print(\"Model Architecture:\")\n",
        "print(model)\n",
        "\n",
        "# Verify model with a sample batch\n",
        "sample_batch = next(iter(train_loader))\n",
        "output = model(sample_batch)\n",
        "print(f\"Sample Output Shape: {output.shape}\")\n"
      ],
      "metadata": {
        "colab": {
          "base_uri": "https://localhost:8080/"
        },
        "id": "T5-GNSU6Fy5L",
        "outputId": "74c1e16e-cf44-49ee-9c28-7076bde1ae18"
      },
      "execution_count": null,
      "outputs": [
        {
          "output_type": "stream",
          "name": "stdout",
          "text": [
            "Model Architecture:\n",
            "GNNModel(\n",
            "  (conv1): GCNConv(7, 64)\n",
            "  (conv2): GCNConv(64, 64)\n",
            "  (fc1): Linear(in_features=64, out_features=64, bias=True)\n",
            "  (fc2): Linear(in_features=64, out_features=1, bias=True)\n",
            ")\n",
            "Sample Output Shape: torch.Size([32, 1])\n"
          ]
        }
      ]
    },
    {
      "cell_type": "code",
      "source": [
        "import torch.optim as optim\n",
        "\n",
        "# Define loss function and optimizer\n",
        "loss_fn = torch.nn.MSELoss()\n",
        "optimizer = optim.Adam(model.parameters(), lr=0.001)\n",
        "\n",
        "print(\"Loss function and optimizer initialized.\")\n"
      ],
      "metadata": {
        "colab": {
          "base_uri": "https://localhost:8080/"
        },
        "id": "HTd4XO99Fy2h",
        "outputId": "5e3e794b-f49e-4ea4-dfca-c4f3b465219d"
      },
      "execution_count": null,
      "outputs": [
        {
          "output_type": "stream",
          "name": "stdout",
          "text": [
            "Loss function and optimizer initialized.\n"
          ]
        }
      ]
    },
    {
      "cell_type": "code",
      "source": [
        "# Define dimensions\n",
        "input_dim = pyg_data_list[0].x.shape[1]  # Number of node features\n",
        "hidden_dim = 64  # You can tune this value\n",
        "output_dim = 1  # Regression output (pChEMBL Value)\n",
        "\n",
        "# Instantiate the model\n",
        "model = GNNModel(input_dim=input_dim, hidden_dim=hidden_dim, output_dim=output_dim)\n",
        "\n",
        "# Move model to GPU if available\n",
        "device = torch.device('cuda' if torch.cuda.is_available() else 'cpu')\n",
        "model = model.to(device)\n",
        "\n",
        "# Test the model with a sample batch\n",
        "sample_batch = next(iter(train_loader)).to(device)  # Move data to the same device\n",
        "output = model(sample_batch)\n",
        "\n",
        "print(f\"Model Architecture:\\n{model}\")\n",
        "print(f\"Sample Output Shape: {output.shape}\")\n"
      ],
      "metadata": {
        "colab": {
          "base_uri": "https://localhost:8080/"
        },
        "id": "1h0RMfO1HluL",
        "outputId": "2869f084-00bf-44d7-b10b-7db86d436e30"
      },
      "execution_count": null,
      "outputs": [
        {
          "output_type": "stream",
          "name": "stdout",
          "text": [
            "Model Architecture:\n",
            "GNNModel(\n",
            "  (conv1): GCNConv(7, 64)\n",
            "  (conv2): GCNConv(64, 64)\n",
            "  (fc1): Linear(in_features=64, out_features=64, bias=True)\n",
            "  (fc2): Linear(in_features=64, out_features=1, bias=True)\n",
            ")\n",
            "Sample Output Shape: torch.Size([32, 1])\n"
          ]
        }
      ]
    },
    {
      "cell_type": "code",
      "source": [
        "import torch\n",
        "import torch.nn.functional as F\n",
        "from torch.optim import Adam\n",
        "\n",
        "# Hyperparameters\n",
        "num_epochs = 50\n",
        "learning_rate = 0.001\n",
        "\n",
        "# Loss function and optimizer\n",
        "criterion = torch.nn.MSELoss()\n",
        "optimizer = Adam(model.parameters(), lr=learning_rate)\n",
        "\n",
        "# Move model to device\n",
        "model = model.to(device)\n",
        "\n",
        "# Training loop\n",
        "for epoch in range(1, num_epochs + 1):\n",
        "    model.train()  # Set model to training mode\n",
        "    train_loss = 0\n",
        "\n",
        "    for batch in train_loader:\n",
        "        batch = batch.to(device)  # Move batch to device\n",
        "\n",
        "        optimizer.zero_grad()  # Reset gradients\n",
        "        out = model(batch)  # Forward pass\n",
        "        loss = criterion(out, batch.y)  # Compute loss\n",
        "        loss.backward()  # Backpropagation\n",
        "        optimizer.step()  # Update weights\n",
        "\n",
        "        train_loss += loss.item()  # Accumulate loss\n",
        "\n",
        "    train_loss /= len(train_loader)  # Average loss for the epoch\n",
        "\n",
        "    # Validation loop\n",
        "    model.eval()  # Set model to evaluation mode\n",
        "    val_loss = 0\n",
        "    with torch.no_grad():\n",
        "        for batch in valid_loader:\n",
        "            batch = batch.to(device)\n",
        "            out = model(batch)\n",
        "            loss = criterion(out, batch.y)\n",
        "            val_loss += loss.item()\n",
        "\n",
        "    val_loss /= len(valid_loader)  # Average validation loss\n",
        "\n",
        "    # Log progress\n",
        "    print(f\"Epoch {epoch}/{num_epochs}, Train Loss: {train_loss:.4f}, Validation Loss: {val_loss:.4f}\")\n"
      ],
      "metadata": {
        "colab": {
          "base_uri": "https://localhost:8080/"
        },
        "id": "dgQOGhqOHlrU",
        "outputId": "b13950d7-5bc7-4756-b526-cc38b8f810a5"
      },
      "execution_count": null,
      "outputs": [
        {
          "output_type": "stream",
          "name": "stderr",
          "text": [
            "/usr/local/lib/python3.10/dist-packages/torch/nn/modules/loss.py:608: UserWarning: Using a target size (torch.Size([32])) that is different to the input size (torch.Size([32, 1])). This will likely lead to incorrect results due to broadcasting. Please ensure they have the same size.\n",
            "  return F.mse_loss(input, target, reduction=self.reduction)\n",
            "/usr/local/lib/python3.10/dist-packages/torch/nn/modules/loss.py:608: UserWarning: Using a target size (torch.Size([16])) that is different to the input size (torch.Size([16, 1])). This will likely lead to incorrect results due to broadcasting. Please ensure they have the same size.\n",
            "  return F.mse_loss(input, target, reduction=self.reduction)\n",
            "/usr/local/lib/python3.10/dist-packages/torch/nn/modules/loss.py:608: UserWarning: Using a target size (torch.Size([1])) that is different to the input size (torch.Size([1, 1])). This will likely lead to incorrect results due to broadcasting. Please ensure they have the same size.\n",
            "  return F.mse_loss(input, target, reduction=self.reduction)\n"
          ]
        },
        {
          "output_type": "stream",
          "name": "stdout",
          "text": [
            "Epoch 1/50, Train Loss: 32.2759, Validation Loss: 23.9349\n",
            "Epoch 2/50, Train Loss: 21.0693, Validation Loss: 11.3402\n",
            "Epoch 3/50, Train Loss: 7.5092, Validation Loss: 1.0619\n",
            "Epoch 4/50, Train Loss: 2.4075, Validation Loss: 2.9651\n",
            "Epoch 5/50, Train Loss: 2.2700, Validation Loss: 0.9218\n",
            "Epoch 6/50, Train Loss: 1.7837, Validation Loss: 0.9427\n",
            "Epoch 7/50, Train Loss: 1.7059, Validation Loss: 1.0179\n",
            "Epoch 8/50, Train Loss: 1.6192, Validation Loss: 0.9802\n",
            "Epoch 9/50, Train Loss: 1.6388, Validation Loss: 0.9418\n",
            "Epoch 10/50, Train Loss: 1.6673, Validation Loss: 0.9591\n",
            "Epoch 11/50, Train Loss: 1.6167, Validation Loss: 0.9676\n",
            "Epoch 12/50, Train Loss: 1.5990, Validation Loss: 0.9606\n",
            "Epoch 13/50, Train Loss: 1.6650, Validation Loss: 0.9588\n",
            "Epoch 14/50, Train Loss: 1.6421, Validation Loss: 0.9612\n",
            "Epoch 15/50, Train Loss: 1.6460, Validation Loss: 0.9487\n",
            "Epoch 16/50, Train Loss: 1.6266, Validation Loss: 0.9851\n",
            "Epoch 17/50, Train Loss: 1.6368, Validation Loss: 0.9297\n",
            "Epoch 18/50, Train Loss: 1.6377, Validation Loss: 0.9759\n",
            "Epoch 19/50, Train Loss: 1.6376, Validation Loss: 0.9561\n",
            "Epoch 20/50, Train Loss: 1.6407, Validation Loss: 0.9592\n",
            "Epoch 21/50, Train Loss: 1.6436, Validation Loss: 0.9444\n",
            "Epoch 22/50, Train Loss: 1.6299, Validation Loss: 0.9650\n",
            "Epoch 23/50, Train Loss: 1.6775, Validation Loss: 1.0200\n",
            "Epoch 24/50, Train Loss: 1.6208, Validation Loss: 0.9174\n",
            "Epoch 25/50, Train Loss: 1.6535, Validation Loss: 0.9668\n",
            "Epoch 26/50, Train Loss: 1.6280, Validation Loss: 0.9964\n",
            "Epoch 27/50, Train Loss: 1.6250, Validation Loss: 0.9258\n",
            "Epoch 28/50, Train Loss: 1.6174, Validation Loss: 0.9603\n",
            "Epoch 29/50, Train Loss: 1.6738, Validation Loss: 0.9583\n",
            "Epoch 30/50, Train Loss: 1.6618, Validation Loss: 0.9197\n",
            "Epoch 31/50, Train Loss: 1.6251, Validation Loss: 0.9882\n",
            "Epoch 32/50, Train Loss: 1.6433, Validation Loss: 0.9285\n",
            "Epoch 33/50, Train Loss: 1.6189, Validation Loss: 0.9719\n",
            "Epoch 34/50, Train Loss: 1.6466, Validation Loss: 0.9217\n",
            "Epoch 35/50, Train Loss: 1.6434, Validation Loss: 0.9844\n",
            "Epoch 36/50, Train Loss: 1.6416, Validation Loss: 0.9431\n",
            "Epoch 37/50, Train Loss: 1.6098, Validation Loss: 0.9456\n",
            "Epoch 38/50, Train Loss: 1.6051, Validation Loss: 0.9490\n",
            "Epoch 39/50, Train Loss: 1.6583, Validation Loss: 0.9256\n",
            "Epoch 40/50, Train Loss: 1.6380, Validation Loss: 0.9631\n",
            "Epoch 41/50, Train Loss: 1.6345, Validation Loss: 0.9619\n",
            "Epoch 42/50, Train Loss: 1.6410, Validation Loss: 0.9291\n",
            "Epoch 43/50, Train Loss: 1.6349, Validation Loss: 0.9300\n",
            "Epoch 44/50, Train Loss: 1.6310, Validation Loss: 0.9961\n",
            "Epoch 45/50, Train Loss: 1.6313, Validation Loss: 0.9244\n",
            "Epoch 46/50, Train Loss: 1.6657, Validation Loss: 0.9748\n",
            "Epoch 47/50, Train Loss: 1.6626, Validation Loss: 0.9218\n",
            "Epoch 48/50, Train Loss: 1.6923, Validation Loss: 0.9664\n",
            "Epoch 49/50, Train Loss: 1.6716, Validation Loss: 0.9377\n",
            "Epoch 50/50, Train Loss: 1.6252, Validation Loss: 0.9341\n"
          ]
        }
      ]
    },
    {
      "cell_type": "code",
      "source": [
        "torch.save(model.state_dict(), \"gnn_model.pth\")\n"
      ],
      "metadata": {
        "id": "1kf4qLKtHloY"
      },
      "execution_count": null,
      "outputs": []
    },
    {
      "cell_type": "code",
      "source": [
        "import torch\n",
        "from sklearn.metrics import mean_squared_error, mean_absolute_error, r2_score\n",
        "import matplotlib.pyplot as plt\n",
        "\n",
        "def evaluate_model(model, loader):\n",
        "    model.eval()\n",
        "    all_preds = []\n",
        "    all_targets = []\n",
        "    with torch.no_grad():\n",
        "        for batch in loader:\n",
        "            batch.to(device)  # Move batch to device\n",
        "            preds = model(batch).view(-1).cpu().numpy()  # Predictions\n",
        "            targets = batch.y.cpu().numpy()  # Actual targets\n",
        "            all_preds.extend(preds)\n",
        "            all_targets.extend(targets)\n",
        "\n",
        "    # Compute metrics\n",
        "    mse = mean_squared_error(all_targets, all_preds)\n",
        "    rmse = mean_squared_error(all_targets, all_preds, squared=False)\n",
        "    mae = mean_absolute_error(all_targets, all_preds)\n",
        "    r2 = r2_score(all_targets, all_preds)\n",
        "\n",
        "    print(f\"Mean Squared Error (MSE): {mse:.4f}\")\n",
        "    print(f\"Root Mean Squared Error (RMSE): {rmse:.4f}\")\n",
        "    print(f\"Mean Absolute Error (MAE): {mae:.4f}\")\n",
        "    print(f\"R-squared (R²): {r2:.4f}\")\n",
        "\n",
        "    return all_preds, all_targets\n",
        "\n",
        "# Evaluate the model on the test set\n",
        "test_preds, test_targets = evaluate_model(model, test_loader)\n",
        "\n",
        "# Visualize predictions\n",
        "plt.figure(figsize=(8, 6))\n",
        "plt.scatter(test_targets, test_preds, alpha=0.6)\n",
        "plt.plot([min(test_targets), max(test_targets)], [min(test_targets), max(test_targets)], color='red', linestyle='--')\n",
        "plt.xlabel(\"Actual pChEMBL Value\")\n",
        "plt.ylabel(\"Predicted pChEMBL Value\")\n",
        "plt.title(\"Actual vs. Predicted pChEMBL Values\")\n",
        "plt.show()\n"
      ],
      "metadata": {
        "colab": {
          "base_uri": "https://localhost:8080/",
          "height": 691
        },
        "id": "qD7SUuBYHllr",
        "outputId": "2eb654e5-f2fe-4acd-8a45-87103d635f89"
      },
      "execution_count": null,
      "outputs": [
        {
          "output_type": "stream",
          "name": "stderr",
          "text": [
            "/usr/local/lib/python3.10/dist-packages/sklearn/metrics/_regression.py:492: FutureWarning: 'squared' is deprecated in version 1.4 and will be removed in 1.6. To calculate the root mean squared error, use the function'root_mean_squared_error'.\n",
            "  warnings.warn(\n"
          ]
        },
        {
          "output_type": "stream",
          "name": "stdout",
          "text": [
            "Mean Squared Error (MSE): 1.6138\n",
            "Root Mean Squared Error (RMSE): 1.2704\n",
            "Mean Absolute Error (MAE): 1.0850\n",
            "R-squared (R²): 0.0124\n"
          ]
        },
        {
          "output_type": "display_data",
          "data": {
            "text/plain": [
              "<Figure size 800x600 with 1 Axes>"
            ],
            "image/png": "[encoded data removed]"
          },
          "metadata": {}
        }
      ]
    },
    {
      "cell_type": "code",
      "source": [
        "import torch\n",
        "\n",
        "# Function to extract graph embeddings\n",
        "def extract_graph_embeddings(model, loader, device='cpu'):\n",
        "    model.eval()\n",
        "    embeddings = []\n",
        "    with torch.no_grad():\n",
        "        for batch in loader:\n",
        "            batch = batch.to(device)\n",
        "            # Get graph-level embeddings\n",
        "            graph_embeddings = model(batch)\n",
        "            embeddings.append(graph_embeddings.cpu())\n",
        "    return torch.cat(embeddings, dim=0)\n",
        "\n",
        "# Extract embeddings from the training dataset\n",
        "train_embeddings = extract_graph_embeddings(model, train_loader)\n",
        "print(\"Train embeddings shape:\", train_embeddings.shape)\n"
      ],
      "metadata": {
        "id": "4i4YbxFq0np2",
        "colab": {
          "base_uri": "https://localhost:8080/"
        },
        "outputId": "af650527-a6ea-4193-efad-de69c440b903"
      },
      "execution_count": null,
      "outputs": [
        {
          "output_type": "stream",
          "name": "stdout",
          "text": [
            "Train embeddings shape: torch.Size([304, 1])\n"
          ]
        }
      ]
    },
    {
      "cell_type": "code",
      "source": [
        "# Add random noise to the embeddings\n",
        "def sample_latent_space(embeddings, num_samples=10, noise_scale=0.1):\n",
        "    noise = torch.randn((num_samples, embeddings.size(1))) * noise_scale\n",
        "    sampled_embeddings = embeddings[:num_samples] + noise\n",
        "    return sampled_embeddings\n",
        "\n",
        "# Generate new samples\n",
        "new_embeddings = sample_latent_space(train_embeddings, num_samples=5)\n",
        "print(\"Sampled embeddings shape:\", new_embeddings.shape)\n"
      ],
      "metadata": {
        "colab": {
          "base_uri": "https://localhost:8080/"
        },
        "id": "eJBcuKWVourW",
        "outputId": "0094ab2c-b99f-4daf-e249-3be44c63e205"
      },
      "execution_count": null,
      "outputs": [
        {
          "output_type": "stream",
          "name": "stdout",
          "text": [
            "Sampled embeddings shape: torch.Size([5, 1])\n"
          ]
        }
      ]
    },
    {
      "cell_type": "code",
      "source": [
        "class GraphDecoder(torch.nn.Module):\n",
        "    def __init__(self, embedding_dim, node_feature_dim, edge_feature_dim, max_nodes):\n",
        "        super(GraphDecoder, self).__init__()\n",
        "        self.fc1 = torch.nn.Linear(embedding_dim, 128)\n",
        "        self.fc2 = torch.nn.Linear(128, max_nodes * node_feature_dim)\n",
        "        self.fc3 = torch.nn.Linear(128, max_nodes * max_nodes * edge_feature_dim)\n",
        "\n",
        "        self.max_nodes = max_nodes\n",
        "        self.node_feature_dim = node_feature_dim\n",
        "        self.edge_feature_dim = edge_feature_dim\n",
        "\n",
        "    def forward(self, embedding):\n",
        "        x = torch.relu(self.fc1(embedding))\n",
        "\n",
        "        # Node features\n",
        "        node_features = self.fc2(x).view(-1, self.max_nodes, self.node_feature_dim)\n",
        "\n",
        "        # Edge features\n",
        "        edge_features = self.fc3(x).view(-1, self.max_nodes, self.max_nodes, self.edge_feature_dim)\n",
        "\n",
        "        return node_features, edge_features\n",
        "\n",
        "# Initialize the decoder\n",
        "decoder = GraphDecoder(\n",
        "    embedding_dim=train_embeddings.size(1),\n",
        "    node_feature_dim=df_encoded_features['Num_Node_Features'].max(),\n",
        "    edge_feature_dim=df_encoded_features['Num_Edge_Features'].max(),\n",
        "    max_nodes=40  # Set based on your dataset\n",
        ")\n",
        "\n",
        "# Decode a sampled embedding\n",
        "sampled_nodes, sampled_edges = decoder(new_embeddings[0])\n",
        "print(\"Decoded node features:\", sampled_nodes.shape)\n",
        "print(\"Decoded edge features:\", sampled_edges.shape)\n"
      ],
      "metadata": {
        "colab": {
          "base_uri": "https://localhost:8080/"
        },
        "id": "HFvI9mkZoyxq",
        "outputId": "9644c50a-9793-4e37-a5c2-8c0bc592d0b1"
      },
      "execution_count": null,
      "outputs": [
        {
          "output_type": "stream",
          "name": "stdout",
          "text": [
            "Decoded node features: torch.Size([1, 40, 7])\n",
            "Decoded edge features: torch.Size([1, 40, 40, 6])\n"
          ]
        }
      ]
    },
    {
      "cell_type": "code",
      "source": [],
      "metadata": {
        "id": "YnCSLY0epWl-"
      },
      "execution_count": null,
      "outputs": []
    },
    {
      "cell_type": "code",
      "source": [],
      "metadata": {
        "id": "I_fbcKL1rFCr"
      },
      "execution_count": null,
      "outputs": []
    }
  ]
}